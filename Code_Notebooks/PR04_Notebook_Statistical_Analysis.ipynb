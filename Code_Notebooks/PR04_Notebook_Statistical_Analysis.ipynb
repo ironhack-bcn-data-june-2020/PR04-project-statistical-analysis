{
 "cells": [
  {
   "cell_type": "markdown",
   "metadata": {},
   "source": [
    "### The esports Industry - insights of a billionaire but also earlystage growing industry\n",
    "\n",
    "My goal is to get a better understanding at some of the insights from future and current esports gamers in the industry of esports. \n",
    "\n",
    "For one moment, let's imagine that I want to invest my time and passion into the videogames industry and I want to make money out of my excellent player skills. \n",
    "- What games do I have a best stake at? \n",
    "- What is the genre and game where I should put my time and effort to in order to try to become a pro videogame player?"
   ]
  },
  {
   "cell_type": "code",
   "execution_count": 148,
   "metadata": {},
   "outputs": [],
   "source": [
    "#importing libraries\n",
    "\n",
    "import requests\n",
    "import pandas as pd\n",
    "import numpy as np\n",
    "import seaborn as sns\n",
    "import matplotlib.pyplot as plt\n",
    "from ipywidgets import interact\n",
    "import ipywidgets as widgets\n",
    "from scipy import stats\n",
    "from scipy.stats import ttest_ind_from_stats\n",
    "from scipy.stats import norm\n",
    "import math\n",
    "import scipy.stats"
   ]
  },
  {
   "cell_type": "markdown",
   "metadata": {},
   "source": [
    "### Exploratory Data Analysis (EDA)\n",
    "\n",
    "I have colected Data from different sources. First of all, I am working with two datasets from Kaggle, which give me the info about the main stats per game in the esports history. "
   ]
  },
  {
   "cell_type": "code",
   "execution_count": 2,
   "metadata": {},
   "outputs": [],
   "source": [
    "#reading the csv we have founded \n",
    "esports_historical = pd.read_csv('Data/HistoricalEsportData.csv', encoding='latin-1')\n",
    "esports_games = pd.read_csv('Data/GeneralEsportData.csv', encoding='latin-1')"
   ]
  },
  {
   "cell_type": "code",
   "execution_count": 3,
   "metadata": {},
   "outputs": [
    {
     "data": {
      "text/html": [
       "<div>\n",
       "<style scoped>\n",
       "    .dataframe tbody tr th:only-of-type {\n",
       "        vertical-align: middle;\n",
       "    }\n",
       "\n",
       "    .dataframe tbody tr th {\n",
       "        vertical-align: top;\n",
       "    }\n",
       "\n",
       "    .dataframe thead th {\n",
       "        text-align: right;\n",
       "    }\n",
       "</style>\n",
       "<table border=\"1\" class=\"dataframe\">\n",
       "  <thead>\n",
       "    <tr style=\"text-align: right;\">\n",
       "      <th></th>\n",
       "      <th>Date</th>\n",
       "      <th>Game</th>\n",
       "      <th>Earnings</th>\n",
       "      <th>Players</th>\n",
       "      <th>Tournaments</th>\n",
       "    </tr>\n",
       "  </thead>\n",
       "  <tbody>\n",
       "    <tr>\n",
       "      <th>0</th>\n",
       "      <td>1/1/1998</td>\n",
       "      <td>QuakeWorld</td>\n",
       "      <td>15000.0</td>\n",
       "      <td>8</td>\n",
       "      <td>1</td>\n",
       "    </tr>\n",
       "    <tr>\n",
       "      <th>1</th>\n",
       "      <td>5/1/1998</td>\n",
       "      <td>Quake II</td>\n",
       "      <td>14600.0</td>\n",
       "      <td>4</td>\n",
       "      <td>1</td>\n",
       "    </tr>\n",
       "    <tr>\n",
       "      <th>2</th>\n",
       "      <td>7/1/1998</td>\n",
       "      <td>Quake II</td>\n",
       "      <td>15000.0</td>\n",
       "      <td>5</td>\n",
       "      <td>1</td>\n",
       "    </tr>\n",
       "  </tbody>\n",
       "</table>\n",
       "</div>"
      ],
      "text/plain": [
       "       Date        Game  Earnings  Players  Tournaments\n",
       "0  1/1/1998  QuakeWorld   15000.0        8            1\n",
       "1  5/1/1998    Quake II   14600.0        4            1\n",
       "2  7/1/1998    Quake II   15000.0        5            1"
      ]
     },
     "execution_count": 3,
     "metadata": {},
     "output_type": "execute_result"
    }
   ],
   "source": [
    "#understanding the dataset of the esports history\n",
    "\n",
    "esports_historical.head(3)"
   ]
  },
  {
   "cell_type": "markdown",
   "metadata": {},
   "source": [
    "From this dataset : \n",
    "- We can understand how many tournaments per year a games has had \n",
    "- How much each tournament has given on prizes \n",
    "- How many players won a prize "
   ]
  },
  {
   "cell_type": "code",
   "execution_count": 4,
   "metadata": {},
   "outputs": [
    {
     "data": {
      "text/html": [
       "<div>\n",
       "<style scoped>\n",
       "    .dataframe tbody tr th:only-of-type {\n",
       "        vertical-align: middle;\n",
       "    }\n",
       "\n",
       "    .dataframe tbody tr th {\n",
       "        vertical-align: top;\n",
       "    }\n",
       "\n",
       "    .dataframe thead th {\n",
       "        text-align: right;\n",
       "    }\n",
       "</style>\n",
       "<table border=\"1\" class=\"dataframe\">\n",
       "  <thead>\n",
       "    <tr style=\"text-align: right;\">\n",
       "      <th></th>\n",
       "      <th>Game</th>\n",
       "      <th>ReleaseDate</th>\n",
       "      <th>Genre</th>\n",
       "      <th>TotalEarnings</th>\n",
       "      <th>OnlineEarnings</th>\n",
       "      <th>TotalPlayers</th>\n",
       "      <th>TotalTournaments</th>\n",
       "    </tr>\n",
       "  </thead>\n",
       "  <tbody>\n",
       "    <tr>\n",
       "      <th>0</th>\n",
       "      <td>Age of Empires</td>\n",
       "      <td>1997</td>\n",
       "      <td>Strategy</td>\n",
       "      <td>190075.61</td>\n",
       "      <td>33235.72</td>\n",
       "      <td>246</td>\n",
       "      <td>95</td>\n",
       "    </tr>\n",
       "    <tr>\n",
       "      <th>1</th>\n",
       "      <td>Age of Empires II</td>\n",
       "      <td>1999</td>\n",
       "      <td>Strategy</td>\n",
       "      <td>1480089.01</td>\n",
       "      <td>862909.14</td>\n",
       "      <td>827</td>\n",
       "      <td>549</td>\n",
       "    </tr>\n",
       "    <tr>\n",
       "      <th>2</th>\n",
       "      <td>Age of Empires III</td>\n",
       "      <td>2005</td>\n",
       "      <td>Strategy</td>\n",
       "      <td>66463.85</td>\n",
       "      <td>24963.85</td>\n",
       "      <td>86</td>\n",
       "      <td>72</td>\n",
       "    </tr>\n",
       "  </tbody>\n",
       "</table>\n",
       "</div>"
      ],
      "text/plain": [
       "                 Game  ReleaseDate     Genre  TotalEarnings  OnlineEarnings  \\\n",
       "0      Age of Empires         1997  Strategy      190075.61        33235.72   \n",
       "1   Age of Empires II         1999  Strategy     1480089.01       862909.14   \n",
       "2  Age of Empires III         2005  Strategy       66463.85        24963.85   \n",
       "\n",
       "   TotalPlayers  TotalTournaments  \n",
       "0           246                95  \n",
       "1           827               549  \n",
       "2            86                72  "
      ]
     },
     "execution_count": 4,
     "metadata": {},
     "output_type": "execute_result"
    }
   ],
   "source": [
    "#understanding the dataset of the esports history\n",
    "\n",
    "esports_games.head(3)"
   ]
  },
  {
   "cell_type": "markdown",
   "metadata": {},
   "source": [
    "From this dataset we can get an understanding: \n",
    "- At the genre of the game, the total tournaments ever and total eranings ever\n",
    "\n",
    "#### Let's try to understand now the variables and info we have"
   ]
  },
  {
   "cell_type": "code",
   "execution_count": 5,
   "metadata": {},
   "outputs": [
    {
     "name": "stdout",
     "output_type": "stream",
     "text": [
      "<class 'pandas.core.frame.DataFrame'>\n",
      "RangeIndex: 492 entries, 0 to 491\n",
      "Data columns (total 7 columns):\n",
      " #   Column            Non-Null Count  Dtype  \n",
      "---  ------            --------------  -----  \n",
      " 0   Game              492 non-null    object \n",
      " 1   ReleaseDate       492 non-null    int64  \n",
      " 2   Genre             492 non-null    object \n",
      " 3   TotalEarnings     492 non-null    float64\n",
      " 4   OnlineEarnings    492 non-null    float64\n",
      " 5   TotalPlayers      492 non-null    int64  \n",
      " 6   TotalTournaments  492 non-null    int64  \n",
      "dtypes: float64(2), int64(3), object(2)\n",
      "memory usage: 27.0+ KB\n"
     ]
    }
   ],
   "source": [
    "esports_games.info()\n",
    "\n",
    "#Every column has the expected data type. There are no null values. "
   ]
  },
  {
   "cell_type": "code",
   "execution_count": 6,
   "metadata": {},
   "outputs": [
    {
     "name": "stdout",
     "output_type": "stream",
     "text": [
      "<class 'pandas.core.frame.DataFrame'>\n",
      "RangeIndex: 6104 entries, 0 to 6103\n",
      "Data columns (total 5 columns):\n",
      " #   Column       Non-Null Count  Dtype  \n",
      "---  ------       --------------  -----  \n",
      " 0   Date         6104 non-null   object \n",
      " 1   Game         6104 non-null   object \n",
      " 2   Earnings     6104 non-null   float64\n",
      " 3   Players      6104 non-null   int64  \n",
      " 4   Tournaments  6104 non-null   int64  \n",
      "dtypes: float64(1), int64(2), object(2)\n",
      "memory usage: 238.6+ KB\n"
     ]
    }
   ],
   "source": [
    "esports_historical.info()\n",
    "\n",
    "#Here, we can see that the date is an object, we should turn this into a numerical variable. There are no null values. "
   ]
  },
  {
   "cell_type": "code",
   "execution_count": 7,
   "metadata": {},
   "outputs": [
    {
     "data": {
      "text/plain": [
       "Fighting Game                      161\n",
       "First-Person Shooter               104\n",
       "Sports                              66\n",
       "Racing                              49\n",
       "Strategy                            45\n",
       "Multiplayer Online Battle Arena     21\n",
       "Collectible Card Game               14\n",
       "Puzzle Game                         13\n",
       "Battle Royale                        8\n",
       "Third-Person Shooter                 6\n",
       "Role-Playing Game                    5\n",
       "Name: Genre, dtype: int64"
      ]
     },
     "execution_count": 7,
     "metadata": {},
     "output_type": "execute_result"
    }
   ],
   "source": [
    "#how many unique games has the data set\n",
    "\n",
    "esports_games.Game.nunique()#there are 492 games. \n",
    "esports_games.Genre.value_counts() #there are no duplicates."
   ]
  },
  {
   "cell_type": "markdown",
   "metadata": {},
   "source": [
    "### Logic of the project \n",
    "\n",
    "We want to predict what is the average fame per game and what is the best point to join the game to make more money. Can we predict what is the probability that the average number of tournaments and earning will be lower the following year? \n",
    "\n",
    "We need to understand what is the distribution of each game since it started its competition, per earning and per number of tournaments, as well as per money per winner. Does the genre of the game affect to this?\n",
    "\n",
    "We also need to take a look at the average number of years a game is famous or prolific in the esports industry. \n",
    "\n",
    "For that, we will need to select a number of games. Let's look at the data and try to transform it for the best analysis possible. "
   ]
  },
  {
   "cell_type": "markdown",
   "metadata": {},
   "source": [
    "### Data Cleaning & Data Wrangling"
   ]
  },
  {
   "cell_type": "code",
   "execution_count": 8,
   "metadata": {},
   "outputs": [
    {
     "data": {
      "text/html": [
       "<div>\n",
       "<style scoped>\n",
       "    .dataframe tbody tr th:only-of-type {\n",
       "        vertical-align: middle;\n",
       "    }\n",
       "\n",
       "    .dataframe tbody tr th {\n",
       "        vertical-align: top;\n",
       "    }\n",
       "\n",
       "    .dataframe thead th {\n",
       "        text-align: right;\n",
       "    }\n",
       "</style>\n",
       "<table border=\"1\" class=\"dataframe\">\n",
       "  <thead>\n",
       "    <tr style=\"text-align: right;\">\n",
       "      <th></th>\n",
       "      <th>Game</th>\n",
       "      <th>Earnings</th>\n",
       "      <th>Players</th>\n",
       "      <th>Tournaments</th>\n",
       "      <th>Year</th>\n",
       "      <th>Month</th>\n",
       "    </tr>\n",
       "  </thead>\n",
       "  <tbody>\n",
       "    <tr>\n",
       "      <th>0</th>\n",
       "      <td>QuakeWorld</td>\n",
       "      <td>15000.0</td>\n",
       "      <td>8</td>\n",
       "      <td>1</td>\n",
       "      <td>1998</td>\n",
       "      <td>1</td>\n",
       "    </tr>\n",
       "    <tr>\n",
       "      <th>1</th>\n",
       "      <td>Quake II</td>\n",
       "      <td>14600.0</td>\n",
       "      <td>4</td>\n",
       "      <td>1</td>\n",
       "      <td>1998</td>\n",
       "      <td>5</td>\n",
       "    </tr>\n",
       "    <tr>\n",
       "      <th>2</th>\n",
       "      <td>Quake II</td>\n",
       "      <td>15000.0</td>\n",
       "      <td>5</td>\n",
       "      <td>1</td>\n",
       "      <td>1998</td>\n",
       "      <td>7</td>\n",
       "    </tr>\n",
       "  </tbody>\n",
       "</table>\n",
       "</div>"
      ],
      "text/plain": [
       "         Game  Earnings  Players  Tournaments  Year Month\n",
       "0  QuakeWorld   15000.0        8            1  1998     1\n",
       "1    Quake II   14600.0        4            1  1998     5\n",
       "2    Quake II   15000.0        5            1  1998     7"
      ]
     },
     "execution_count": 8,
     "metadata": {},
     "output_type": "execute_result"
    }
   ],
   "source": [
    "#let's try to understand how many tournaments per year were per game\n",
    "\n",
    "#since the date column is an object, we are going to create two news columns:\n",
    "#one new column will store the years\n",
    "esports_historical['Year'] = esports_historical['Date'].str.extract(r'(\\d{4})') #creating a year column \n",
    "\n",
    "#the other column will store the months\n",
    "esports_historical['Month'] = esports_historical['Date'].str.extract(r'(\\d+/)') #creating a month column\n",
    "esports_historical['Month'] = [i.replace('/','') for i in esports_historical['Month']] #cleaning the month column\n",
    "esports_historical = esports_historical.drop(['Date'], axis = 1)\n",
    "\n",
    "#let's take a look at the final result\n",
    "esports_historical.head(3)"
   ]
  },
  {
   "cell_type": "markdown",
   "metadata": {},
   "source": [
    "Now we can take a look at the tournaments per year and month"
   ]
  },
  {
   "cell_type": "code",
   "execution_count": 9,
   "metadata": {},
   "outputs": [],
   "source": [
    "esports_historical.groupby(['Year','Month']).sum().head(20)\n",
    "\n",
    "#we can see that we don't have information about all the months. \n",
    "#We assume that this means that the months without records have 0 tournaments.\n",
    "#however, we want to take a look at it by year, so we can drop the month column\n",
    "\n",
    "esports_historical = esports_historical.drop('Month', axis=1)"
   ]
  },
  {
   "cell_type": "code",
   "execution_count": 10,
   "metadata": {
    "scrolled": true
   },
   "outputs": [
    {
     "name": "stdout",
     "output_type": "stream",
     "text": [
      "<class 'pandas.core.frame.DataFrame'>\n",
      "RangeIndex: 6104 entries, 0 to 6103\n",
      "Data columns (total 5 columns):\n",
      " #   Column       Non-Null Count  Dtype  \n",
      "---  ------       --------------  -----  \n",
      " 0   Game         6104 non-null   object \n",
      " 1   Earnings     6104 non-null   float64\n",
      " 2   Players      6104 non-null   int64  \n",
      " 3   Tournaments  6104 non-null   int64  \n",
      " 4   Year         6104 non-null   object \n",
      "dtypes: float64(1), int64(2), object(2)\n",
      "memory usage: 238.6+ KB\n"
     ]
    }
   ],
   "source": [
    "esports_historical.info()\n",
    "\n",
    "esports_historical.Year = esports_historical.Year.astype(int)"
   ]
  },
  {
   "cell_type": "markdown",
   "metadata": {},
   "source": [
    "Now that we have cleaned the dataset, we want to complement this data with some of the columns of the other dataset, like the Genre of the videogame and the release date of the game. We don't need the information regarding Total Earnings, Players, Tournaments, etc. "
   ]
  },
  {
   "cell_type": "code",
   "execution_count": 11,
   "metadata": {},
   "outputs": [],
   "source": [
    "esports = pd.merge(esports_historical, esports_games, how='left', on='Game').drop(['OnlineEarnings','TotalPlayers'], axis=1)"
   ]
  },
  {
   "cell_type": "code",
   "execution_count": 12,
   "metadata": {},
   "outputs": [
    {
     "data": {
      "text/html": [
       "<div>\n",
       "<style scoped>\n",
       "    .dataframe tbody tr th:only-of-type {\n",
       "        vertical-align: middle;\n",
       "    }\n",
       "\n",
       "    .dataframe tbody tr th {\n",
       "        vertical-align: top;\n",
       "    }\n",
       "\n",
       "    .dataframe thead th {\n",
       "        text-align: right;\n",
       "    }\n",
       "</style>\n",
       "<table border=\"1\" class=\"dataframe\">\n",
       "  <thead>\n",
       "    <tr style=\"text-align: right;\">\n",
       "      <th></th>\n",
       "      <th>Game</th>\n",
       "      <th>Earnings</th>\n",
       "      <th>Players</th>\n",
       "      <th>Tournaments</th>\n",
       "      <th>Year</th>\n",
       "      <th>ReleaseDate</th>\n",
       "      <th>Genre</th>\n",
       "      <th>TotalEarnings</th>\n",
       "      <th>TotalTournaments</th>\n",
       "    </tr>\n",
       "  </thead>\n",
       "  <tbody>\n",
       "    <tr>\n",
       "      <th>0</th>\n",
       "      <td>QuakeWorld</td>\n",
       "      <td>15000.00</td>\n",
       "      <td>8</td>\n",
       "      <td>1</td>\n",
       "      <td>1998</td>\n",
       "      <td>1996</td>\n",
       "      <td>First-Person Shooter</td>\n",
       "      <td>99083.70</td>\n",
       "      <td>14</td>\n",
       "    </tr>\n",
       "    <tr>\n",
       "      <th>1</th>\n",
       "      <td>Quake II</td>\n",
       "      <td>14600.00</td>\n",
       "      <td>4</td>\n",
       "      <td>1</td>\n",
       "      <td>1998</td>\n",
       "      <td>1997</td>\n",
       "      <td>First-Person Shooter</td>\n",
       "      <td>140179.50</td>\n",
       "      <td>10</td>\n",
       "    </tr>\n",
       "    <tr>\n",
       "      <th>2</th>\n",
       "      <td>Quake II</td>\n",
       "      <td>15000.00</td>\n",
       "      <td>5</td>\n",
       "      <td>1</td>\n",
       "      <td>1998</td>\n",
       "      <td>1997</td>\n",
       "      <td>First-Person Shooter</td>\n",
       "      <td>140179.50</td>\n",
       "      <td>10</td>\n",
       "    </tr>\n",
       "    <tr>\n",
       "      <th>3</th>\n",
       "      <td>QuakeWorld</td>\n",
       "      <td>6500.00</td>\n",
       "      <td>4</td>\n",
       "      <td>1</td>\n",
       "      <td>1998</td>\n",
       "      <td>1996</td>\n",
       "      <td>First-Person Shooter</td>\n",
       "      <td>99083.70</td>\n",
       "      <td>14</td>\n",
       "    </tr>\n",
       "    <tr>\n",
       "      <th>4</th>\n",
       "      <td>Quake II</td>\n",
       "      <td>36600.00</td>\n",
       "      <td>13</td>\n",
       "      <td>2</td>\n",
       "      <td>1998</td>\n",
       "      <td>1997</td>\n",
       "      <td>First-Person Shooter</td>\n",
       "      <td>140179.50</td>\n",
       "      <td>10</td>\n",
       "    </tr>\n",
       "    <tr>\n",
       "      <th>...</th>\n",
       "      <td>...</td>\n",
       "      <td>...</td>\n",
       "      <td>...</td>\n",
       "      <td>...</td>\n",
       "      <td>...</td>\n",
       "      <td>...</td>\n",
       "      <td>...</td>\n",
       "      <td>...</td>\n",
       "      <td>...</td>\n",
       "    </tr>\n",
       "    <tr>\n",
       "      <th>6099</th>\n",
       "      <td>Dengeki Bunko: Fighting Climax Ignition</td>\n",
       "      <td>135.50</td>\n",
       "      <td>3</td>\n",
       "      <td>1</td>\n",
       "      <td>2020</td>\n",
       "      <td>2015</td>\n",
       "      <td>Fighting Game</td>\n",
       "      <td>2852.80</td>\n",
       "      <td>10</td>\n",
       "    </tr>\n",
       "    <tr>\n",
       "      <th>6100</th>\n",
       "      <td>Puyo Puyo Tetris</td>\n",
       "      <td>112.20</td>\n",
       "      <td>3</td>\n",
       "      <td>1</td>\n",
       "      <td>2020</td>\n",
       "      <td>2014</td>\n",
       "      <td>Puzzle Game</td>\n",
       "      <td>2861.14</td>\n",
       "      <td>14</td>\n",
       "    </tr>\n",
       "    <tr>\n",
       "      <th>6101</th>\n",
       "      <td>Samurai Shodown V Special</td>\n",
       "      <td>100.46</td>\n",
       "      <td>3</td>\n",
       "      <td>1</td>\n",
       "      <td>2020</td>\n",
       "      <td>2004</td>\n",
       "      <td>Fighting Game</td>\n",
       "      <td>590.57</td>\n",
       "      <td>5</td>\n",
       "    </tr>\n",
       "    <tr>\n",
       "      <th>6102</th>\n",
       "      <td>Brawlhalla</td>\n",
       "      <td>95.00</td>\n",
       "      <td>2</td>\n",
       "      <td>1</td>\n",
       "      <td>2020</td>\n",
       "      <td>2015</td>\n",
       "      <td>Fighting Game</td>\n",
       "      <td>1159994.09</td>\n",
       "      <td>387</td>\n",
       "    </tr>\n",
       "    <tr>\n",
       "      <th>6103</th>\n",
       "      <td>Artifact 2.0</td>\n",
       "      <td>60.00</td>\n",
       "      <td>1</td>\n",
       "      <td>1</td>\n",
       "      <td>2020</td>\n",
       "      <td>2020</td>\n",
       "      <td>Collectible Card Game</td>\n",
       "      <td>110.00</td>\n",
       "      <td>2</td>\n",
       "    </tr>\n",
       "  </tbody>\n",
       "</table>\n",
       "<p>6104 rows × 9 columns</p>\n",
       "</div>"
      ],
      "text/plain": [
       "                                         Game  Earnings  Players  Tournaments  \\\n",
       "0                                  QuakeWorld  15000.00        8            1   \n",
       "1                                    Quake II  14600.00        4            1   \n",
       "2                                    Quake II  15000.00        5            1   \n",
       "3                                  QuakeWorld   6500.00        4            1   \n",
       "4                                    Quake II  36600.00       13            2   \n",
       "...                                       ...       ...      ...          ...   \n",
       "6099  Dengeki Bunko: Fighting Climax Ignition    135.50        3            1   \n",
       "6100                         Puyo Puyo Tetris    112.20        3            1   \n",
       "6101                Samurai Shodown V Special    100.46        3            1   \n",
       "6102                               Brawlhalla     95.00        2            1   \n",
       "6103                             Artifact 2.0     60.00        1            1   \n",
       "\n",
       "      Year  ReleaseDate                  Genre  TotalEarnings  \\\n",
       "0     1998         1996   First-Person Shooter       99083.70   \n",
       "1     1998         1997   First-Person Shooter      140179.50   \n",
       "2     1998         1997   First-Person Shooter      140179.50   \n",
       "3     1998         1996   First-Person Shooter       99083.70   \n",
       "4     1998         1997   First-Person Shooter      140179.50   \n",
       "...    ...          ...                    ...            ...   \n",
       "6099  2020         2015          Fighting Game        2852.80   \n",
       "6100  2020         2014            Puzzle Game        2861.14   \n",
       "6101  2020         2004          Fighting Game         590.57   \n",
       "6102  2020         2015          Fighting Game     1159994.09   \n",
       "6103  2020         2020  Collectible Card Game         110.00   \n",
       "\n",
       "      TotalTournaments  \n",
       "0                   14  \n",
       "1                   10  \n",
       "2                   10  \n",
       "3                   14  \n",
       "4                   10  \n",
       "...                ...  \n",
       "6099                10  \n",
       "6100                14  \n",
       "6101                 5  \n",
       "6102               387  \n",
       "6103                 2  \n",
       "\n",
       "[6104 rows x 9 columns]"
      ]
     },
     "execution_count": 12,
     "metadata": {},
     "output_type": "execute_result"
    }
   ],
   "source": [
    "esports"
   ]
  },
  {
   "cell_type": "code",
   "execution_count": 13,
   "metadata": {},
   "outputs": [],
   "source": [
    "#now we want to understand on average what is prize per player awarded\n",
    "\n",
    "esports['Price_per_Person'] = round((esports['Earnings']/esports['Players']),2)\n",
    "esports = esports[['Game','Genre','ReleaseDate','Earnings','TotalEarnings','Price_per_Person','Players','Tournaments','TotalTournaments','Year']]"
   ]
  },
  {
   "cell_type": "code",
   "execution_count": 14,
   "metadata": {},
   "outputs": [
    {
     "data": {
      "text/html": [
       "<div>\n",
       "<style scoped>\n",
       "    .dataframe tbody tr th:only-of-type {\n",
       "        vertical-align: middle;\n",
       "    }\n",
       "\n",
       "    .dataframe tbody tr th {\n",
       "        vertical-align: top;\n",
       "    }\n",
       "\n",
       "    .dataframe thead th {\n",
       "        text-align: right;\n",
       "    }\n",
       "</style>\n",
       "<table border=\"1\" class=\"dataframe\">\n",
       "  <thead>\n",
       "    <tr style=\"text-align: right;\">\n",
       "      <th></th>\n",
       "      <th>Game</th>\n",
       "      <th>Genre</th>\n",
       "      <th>ReleaseDate</th>\n",
       "      <th>Earnings</th>\n",
       "      <th>TotalEarnings</th>\n",
       "      <th>Price_per_Person</th>\n",
       "      <th>Players</th>\n",
       "      <th>Tournaments</th>\n",
       "      <th>TotalTournaments</th>\n",
       "      <th>Year</th>\n",
       "    </tr>\n",
       "  </thead>\n",
       "  <tbody>\n",
       "    <tr>\n",
       "      <th>0</th>\n",
       "      <td>QuakeWorld</td>\n",
       "      <td>First-Person Shooter</td>\n",
       "      <td>1996</td>\n",
       "      <td>15000.0</td>\n",
       "      <td>99083.7</td>\n",
       "      <td>1875.0</td>\n",
       "      <td>8</td>\n",
       "      <td>1</td>\n",
       "      <td>14</td>\n",
       "      <td>1998</td>\n",
       "    </tr>\n",
       "    <tr>\n",
       "      <th>1</th>\n",
       "      <td>Quake II</td>\n",
       "      <td>First-Person Shooter</td>\n",
       "      <td>1997</td>\n",
       "      <td>14600.0</td>\n",
       "      <td>140179.5</td>\n",
       "      <td>3650.0</td>\n",
       "      <td>4</td>\n",
       "      <td>1</td>\n",
       "      <td>10</td>\n",
       "      <td>1998</td>\n",
       "    </tr>\n",
       "    <tr>\n",
       "      <th>2</th>\n",
       "      <td>Quake II</td>\n",
       "      <td>First-Person Shooter</td>\n",
       "      <td>1997</td>\n",
       "      <td>15000.0</td>\n",
       "      <td>140179.5</td>\n",
       "      <td>3000.0</td>\n",
       "      <td>5</td>\n",
       "      <td>1</td>\n",
       "      <td>10</td>\n",
       "      <td>1998</td>\n",
       "    </tr>\n",
       "  </tbody>\n",
       "</table>\n",
       "</div>"
      ],
      "text/plain": [
       "         Game                 Genre  ReleaseDate  Earnings  TotalEarnings  \\\n",
       "0  QuakeWorld  First-Person Shooter         1996   15000.0        99083.7   \n",
       "1    Quake II  First-Person Shooter         1997   14600.0       140179.5   \n",
       "2    Quake II  First-Person Shooter         1997   15000.0       140179.5   \n",
       "\n",
       "   Price_per_Person  Players  Tournaments  TotalTournaments  Year  \n",
       "0            1875.0        8            1                14  1998  \n",
       "1            3650.0        4            1                10  1998  \n",
       "2            3000.0        5            1                10  1998  "
      ]
     },
     "execution_count": 14,
     "metadata": {},
     "output_type": "execute_result"
    }
   ],
   "source": [
    "esports.head(3)"
   ]
  },
  {
   "cell_type": "markdown",
   "metadata": {},
   "source": [
    "### We have created a new dataset and cleaned it. Now let's take a look: \n",
    "\n",
    "If we take a look, now we have a dataset with the genre, the release date, the year and month the tournaments happened and the earnings per tournament and amount of winners. We have also created a column that gathers the average prize per tournament. \n",
    "\n",
    "We want to also understand how many years has been each game in the esports tournament and how many years it took them until they started in the esports competitions since their release date."
   ]
  },
  {
   "cell_type": "code",
   "execution_count": 192,
   "metadata": {
    "scrolled": true
   },
   "outputs": [
    {
     "name": "stderr",
     "output_type": "stream",
     "text": [
      "<ipython-input-192-2d8b16e42223>:19: SettingWithCopyWarning: \n",
      "A value is trying to be set on a copy of a slice from a DataFrame.\n",
      "Try using .loc[row_indexer,col_indexer] = value instead\n",
      "\n",
      "See the caveats in the documentation: https://pandas.pydata.org/pandas-docs/stable/user_guide/indexing.html#returning-a-view-versus-a-copy\n",
      "  esports['years_playing'] = Years\n",
      "<ipython-input-192-2d8b16e42223>:20: SettingWithCopyWarning: \n",
      "A value is trying to be set on a copy of a slice from a DataFrame.\n",
      "Try using .loc[row_indexer,col_indexer] = value instead\n",
      "\n",
      "See the caveats in the documentation: https://pandas.pydata.org/pandas-docs/stable/user_guide/indexing.html#returning-a-view-versus-a-copy\n",
      "  esports['last_tournament'] = First_Tournament\n",
      "<ipython-input-192-2d8b16e42223>:21: SettingWithCopyWarning: \n",
      "A value is trying to be set on a copy of a slice from a DataFrame.\n",
      "Try using .loc[row_indexer,col_indexer] = value instead\n",
      "\n",
      "See the caveats in the documentation: https://pandas.pydata.org/pandas-docs/stable/user_guide/indexing.html#returning-a-view-versus-a-copy\n",
      "  esports['last_tournament'] = Last_Tournament\n",
      "<ipython-input-192-2d8b16e42223>:31: SettingWithCopyWarning: \n",
      "A value is trying to be set on a copy of a slice from a DataFrame.\n",
      "Try using .loc[row_indexer,col_indexer] = value instead\n",
      "\n",
      "See the caveats in the documentation: https://pandas.pydata.org/pandas-docs/stable/user_guide/indexing.html#returning-a-view-versus-a-copy\n",
      "  esports['Awakening'] = Awakening\n"
     ]
    }
   ],
   "source": [
    "#To understand how many years has each game being been player we are going to create a new column \n",
    "\n",
    "Years = [] #first we create a list for the Years playing\n",
    "First_Tournament = [] #we also create a list for the year of the first tournament\n",
    "Last_Tournament = [] #we also create a list for the year of the last tournament\n",
    "Awakening = [] #we also create a list to calculate the average years \n",
    "\n",
    "#in a for loop we go through each game and we calculate the difference between the maximum year and the minimum year\n",
    "for game in esports_historical.Game:\n",
    "    year_max = esports_historical.loc[esports_historical['Game'] == game].Year.max()\n",
    "    year_min = esports_historical.loc[esports_historical['Game'] == game].Year.min()\n",
    "    year = year_max - year_min\n",
    "    First_Tournament.append(year_min)\n",
    "    Last_Tournament.append(year_max)\n",
    "    Years.append(year)\n",
    "\n",
    "\n",
    "#we assign that list to the new column\n",
    "esports['years_playing'] = Years\n",
    "esports['last_tournament'] = First_Tournament\n",
    "esports['last_tournament'] = Last_Tournament\n",
    "\n",
    "\n",
    "#in a for loop with the columns we have just created and calculate the years it takes for a game to have their first tournament in esports.  \n",
    "for game in esports.Game:\n",
    "    year_min = int(esports.loc[esports_historical['Game'] == game].Year.min())\n",
    "    release = int(esports.loc[esports_historical['Game'] == game].ReleaseDate.unique())\n",
    "    year = year_min - release\n",
    "    Awakening.append(year)\n",
    "    \n",
    "esports['Awakening'] = Awakening"
   ]
  },
  {
   "cell_type": "code",
   "execution_count": 193,
   "metadata": {},
   "outputs": [
    {
     "data": {
      "text/html": [
       "<div>\n",
       "<style scoped>\n",
       "    .dataframe tbody tr th:only-of-type {\n",
       "        vertical-align: middle;\n",
       "    }\n",
       "\n",
       "    .dataframe tbody tr th {\n",
       "        vertical-align: top;\n",
       "    }\n",
       "\n",
       "    .dataframe thead th {\n",
       "        text-align: right;\n",
       "    }\n",
       "</style>\n",
       "<table border=\"1\" class=\"dataframe\">\n",
       "  <thead>\n",
       "    <tr style=\"text-align: right;\">\n",
       "      <th></th>\n",
       "      <th>Game</th>\n",
       "      <th>Genre</th>\n",
       "      <th>ReleaseDate</th>\n",
       "      <th>Earnings</th>\n",
       "      <th>TotalEarnings</th>\n",
       "      <th>Price_per_Person</th>\n",
       "      <th>Players</th>\n",
       "      <th>Tournaments</th>\n",
       "      <th>TotalTournaments</th>\n",
       "      <th>Year</th>\n",
       "      <th>years_playing</th>\n",
       "      <th>last_tournament</th>\n",
       "      <th>Awakening</th>\n",
       "      <th>log_earnings</th>\n",
       "    </tr>\n",
       "  </thead>\n",
       "  <tbody>\n",
       "    <tr>\n",
       "      <th>0</th>\n",
       "      <td>QuakeWorld</td>\n",
       "      <td>First-Person Shooter</td>\n",
       "      <td>1996</td>\n",
       "      <td>15000.0</td>\n",
       "      <td>99083.70</td>\n",
       "      <td>1875.00</td>\n",
       "      <td>8</td>\n",
       "      <td>1</td>\n",
       "      <td>14</td>\n",
       "      <td>1998</td>\n",
       "      <td>21</td>\n",
       "      <td>2019</td>\n",
       "      <td>2</td>\n",
       "      <td>9.615805</td>\n",
       "    </tr>\n",
       "    <tr>\n",
       "      <th>1</th>\n",
       "      <td>Quake II</td>\n",
       "      <td>First-Person Shooter</td>\n",
       "      <td>1997</td>\n",
       "      <td>14600.0</td>\n",
       "      <td>140179.50</td>\n",
       "      <td>3650.00</td>\n",
       "      <td>4</td>\n",
       "      <td>1</td>\n",
       "      <td>10</td>\n",
       "      <td>1998</td>\n",
       "      <td>21</td>\n",
       "      <td>2019</td>\n",
       "      <td>1</td>\n",
       "      <td>9.588777</td>\n",
       "    </tr>\n",
       "    <tr>\n",
       "      <th>2</th>\n",
       "      <td>Quake II</td>\n",
       "      <td>First-Person Shooter</td>\n",
       "      <td>1997</td>\n",
       "      <td>15000.0</td>\n",
       "      <td>140179.50</td>\n",
       "      <td>3000.00</td>\n",
       "      <td>5</td>\n",
       "      <td>1</td>\n",
       "      <td>10</td>\n",
       "      <td>1998</td>\n",
       "      <td>21</td>\n",
       "      <td>2019</td>\n",
       "      <td>1</td>\n",
       "      <td>9.615805</td>\n",
       "    </tr>\n",
       "    <tr>\n",
       "      <th>3</th>\n",
       "      <td>QuakeWorld</td>\n",
       "      <td>First-Person Shooter</td>\n",
       "      <td>1996</td>\n",
       "      <td>6500.0</td>\n",
       "      <td>99083.70</td>\n",
       "      <td>1625.00</td>\n",
       "      <td>4</td>\n",
       "      <td>1</td>\n",
       "      <td>14</td>\n",
       "      <td>1998</td>\n",
       "      <td>21</td>\n",
       "      <td>2019</td>\n",
       "      <td>2</td>\n",
       "      <td>8.779557</td>\n",
       "    </tr>\n",
       "    <tr>\n",
       "      <th>4</th>\n",
       "      <td>Quake II</td>\n",
       "      <td>First-Person Shooter</td>\n",
       "      <td>1997</td>\n",
       "      <td>36600.0</td>\n",
       "      <td>140179.50</td>\n",
       "      <td>2815.38</td>\n",
       "      <td>13</td>\n",
       "      <td>2</td>\n",
       "      <td>10</td>\n",
       "      <td>1998</td>\n",
       "      <td>21</td>\n",
       "      <td>2019</td>\n",
       "      <td>1</td>\n",
       "      <td>10.507804</td>\n",
       "    </tr>\n",
       "    <tr>\n",
       "      <th>5</th>\n",
       "      <td>QuakeWorld</td>\n",
       "      <td>First-Person Shooter</td>\n",
       "      <td>1996</td>\n",
       "      <td>22000.0</td>\n",
       "      <td>99083.70</td>\n",
       "      <td>inf</td>\n",
       "      <td>0</td>\n",
       "      <td>1</td>\n",
       "      <td>14</td>\n",
       "      <td>1998</td>\n",
       "      <td>21</td>\n",
       "      <td>2019</td>\n",
       "      <td>2</td>\n",
       "      <td>9.998798</td>\n",
       "    </tr>\n",
       "    <tr>\n",
       "      <th>6</th>\n",
       "      <td>StarCraft: Brood War</td>\n",
       "      <td>Strategy</td>\n",
       "      <td>1998</td>\n",
       "      <td>20000.0</td>\n",
       "      <td>8251181.43</td>\n",
       "      <td>2500.00</td>\n",
       "      <td>8</td>\n",
       "      <td>1</td>\n",
       "      <td>571</td>\n",
       "      <td>1998</td>\n",
       "      <td>22</td>\n",
       "      <td>2020</td>\n",
       "      <td>0</td>\n",
       "      <td>9.903488</td>\n",
       "    </tr>\n",
       "    <tr>\n",
       "      <th>7</th>\n",
       "      <td>Age of Empires</td>\n",
       "      <td>Strategy</td>\n",
       "      <td>1997</td>\n",
       "      <td>2000.0</td>\n",
       "      <td>190075.61</td>\n",
       "      <td>2000.00</td>\n",
       "      <td>1</td>\n",
       "      <td>1</td>\n",
       "      <td>95</td>\n",
       "      <td>1998</td>\n",
       "      <td>22</td>\n",
       "      <td>2020</td>\n",
       "      <td>1</td>\n",
       "      <td>7.600902</td>\n",
       "    </tr>\n",
       "    <tr>\n",
       "      <th>8</th>\n",
       "      <td>Quake II</td>\n",
       "      <td>First-Person Shooter</td>\n",
       "      <td>1997</td>\n",
       "      <td>15000.0</td>\n",
       "      <td>140179.50</td>\n",
       "      <td>3000.00</td>\n",
       "      <td>5</td>\n",
       "      <td>1</td>\n",
       "      <td>10</td>\n",
       "      <td>1999</td>\n",
       "      <td>21</td>\n",
       "      <td>2019</td>\n",
       "      <td>1</td>\n",
       "      <td>9.615805</td>\n",
       "    </tr>\n",
       "  </tbody>\n",
       "</table>\n",
       "</div>"
      ],
      "text/plain": [
       "                   Game                 Genre  ReleaseDate  Earnings  \\\n",
       "0            QuakeWorld  First-Person Shooter         1996   15000.0   \n",
       "1              Quake II  First-Person Shooter         1997   14600.0   \n",
       "2              Quake II  First-Person Shooter         1997   15000.0   \n",
       "3            QuakeWorld  First-Person Shooter         1996    6500.0   \n",
       "4              Quake II  First-Person Shooter         1997   36600.0   \n",
       "5            QuakeWorld  First-Person Shooter         1996   22000.0   \n",
       "6  StarCraft: Brood War              Strategy         1998   20000.0   \n",
       "7        Age of Empires              Strategy         1997    2000.0   \n",
       "8              Quake II  First-Person Shooter         1997   15000.0   \n",
       "\n",
       "   TotalEarnings  Price_per_Person  Players  Tournaments  TotalTournaments  \\\n",
       "0       99083.70           1875.00        8            1                14   \n",
       "1      140179.50           3650.00        4            1                10   \n",
       "2      140179.50           3000.00        5            1                10   \n",
       "3       99083.70           1625.00        4            1                14   \n",
       "4      140179.50           2815.38       13            2                10   \n",
       "5       99083.70               inf        0            1                14   \n",
       "6     8251181.43           2500.00        8            1               571   \n",
       "7      190075.61           2000.00        1            1                95   \n",
       "8      140179.50           3000.00        5            1                10   \n",
       "\n",
       "   Year  years_playing  last_tournament  Awakening  log_earnings  \n",
       "0  1998             21             2019          2      9.615805  \n",
       "1  1998             21             2019          1      9.588777  \n",
       "2  1998             21             2019          1      9.615805  \n",
       "3  1998             21             2019          2      8.779557  \n",
       "4  1998             21             2019          1     10.507804  \n",
       "5  1998             21             2019          2      9.998798  \n",
       "6  1998             22             2020          0      9.903488  \n",
       "7  1998             22             2020          1      7.600902  \n",
       "8  1999             21             2019          1      9.615805  "
      ]
     },
     "execution_count": 193,
     "metadata": {},
     "output_type": "execute_result"
    }
   ],
   "source": [
    "esports.head(9)"
   ]
  },
  {
   "cell_type": "markdown",
   "metadata": {},
   "source": [
    "### As new players, we are not looking for the historical data, rather than useful data about how games behave:\n",
    "\n",
    "- Average time a game has from their release date to the have their first tournament in esports, to understand how news games behave. If this period of time is short, we could opt for a new game because we know in a short period of time we will have tournaments.\n",
    "\n",
    "- It is also important to understand if the number of tournaments is related somehow to the pool of prices of that game. If a game is really popular and has a lot of tournaments, are the prozes bigger too?\n",
    "\n",
    "- We need to understand which Genre and type of game gives better prizes\n",
    "\n",
    "- Also, we need to know which Genre has a trend and has more tournaments."
   ]
  },
  {
   "cell_type": "code",
   "execution_count": 194,
   "metadata": {},
   "outputs": [
    {
     "data": {
      "text/plain": [
       "1.020478374836173"
      ]
     },
     "metadata": {},
     "output_type": "display_data"
    },
    {
     "name": "stdout",
     "output_type": "stream",
     "text": [
      "(0.9459534551089309, 1.0950032945634152)\n",
      "We are 95% sure that the population mean lies within the range of lower 0.946 and upper 1.095 limit\n"
     ]
    }
   ],
   "source": [
    "#On average, the awakening per genre and of the entire population is as follows\n",
    "\n",
    "display(esports.Awakening.mean()) #total mean of the entire population says that a game takes one year to become esports available.\n",
    "\n",
    "sample = esports\n",
    "\n",
    "con_coef= 0.95\n",
    "n = len(sample)-1\n",
    "ave = sample['Awakening'].mean()\n",
    "sigma = stats.sem(sample['Awakening'])\n",
    "\n",
    "s = scipy.stats.t.interval(con_coef , n, loc=ave, scale=sigma)\n",
    "print(s)\n",
    "\n",
    "print(f'We are 95% sure that the population mean lies within the range of lower {round(s[0], 3)} and upper {round(s[1], 3)} limit')"
   ]
  },
  {
   "cell_type": "code",
   "execution_count": 156,
   "metadata": {},
   "outputs": [
    {
     "data": {
      "image/png": "[encoded data removed]",
      "text/plain": [
       "<Figure size 432x288 with 1 Axes>"
      ]
     },
     "metadata": {
      "needs_background": "light"
     },
     "output_type": "display_data"
    }
   ],
   "source": [
    "sns.distplot(sample['Awakening'], bins = 3)\n",
    "plt.vlines([s[0], s[1]], 0, 2.0, color = 'red')\n",
    "plt.show()"
   ]
  },
  {
   "cell_type": "markdown",
   "metadata": {},
   "source": [
    "#### Here we can observe how most of the games do get into the esports tournaments only one year after being released, which is something to take into account when selecting a game to play."
   ]
  },
  {
   "cell_type": "markdown",
   "metadata": {},
   "source": [
    "We can see in the head that we need to fix one of the variables, since we must have divided by zero at some point when creating the price per person column, and we have some infinite values. "
   ]
  },
  {
   "cell_type": "code",
   "execution_count": null,
   "metadata": {},
   "outputs": [],
   "source": [
    "#this means that in this tournaments, no player was awarded with the prize. Therefore the inf values should be 0\n",
    "esports.loc[esports['Price_per_Person'] == np.inf] = 0"
   ]
  },
  {
   "cell_type": "markdown",
   "metadata": {},
   "source": [
    "Now that we have our desired database, we can start to analyze the relationship between the variables and start answering the questions que placed in the beggining. \n",
    "\n",
    "Does the number of tournaments and the amount of millions of dollars awarded have relationship between them. Let's say, if a game has more tournamenst, does it also have bigger prizes?"
   ]
  },
  {
   "cell_type": "code",
   "execution_count": 19,
   "metadata": {},
   "outputs": [
    {
     "name": "stderr",
     "output_type": "stream",
     "text": [
      "<ipython-input-19-980cc23cdbbc>:1: FutureWarning: Indexing with multiple keys (implicitly converted to a tuple of keys) will be deprecated, use a list instead.\n",
      "  df = esports.groupby('Game')['Tournaments','Earnings'].sum().corr()\n"
     ]
    },
    {
     "data": {
      "text/html": [
       "<div>\n",
       "<style scoped>\n",
       "    .dataframe tbody tr th:only-of-type {\n",
       "        vertical-align: middle;\n",
       "    }\n",
       "\n",
       "    .dataframe tbody tr th {\n",
       "        vertical-align: top;\n",
       "    }\n",
       "\n",
       "    .dataframe thead th {\n",
       "        text-align: right;\n",
       "    }\n",
       "</style>\n",
       "<table border=\"1\" class=\"dataframe\">\n",
       "  <thead>\n",
       "    <tr style=\"text-align: right;\">\n",
       "      <th></th>\n",
       "      <th>Tournaments</th>\n",
       "      <th>Earnings</th>\n",
       "    </tr>\n",
       "  </thead>\n",
       "  <tbody>\n",
       "    <tr>\n",
       "      <th>Tournaments</th>\n",
       "      <td>1.000000</td>\n",
       "      <td>0.515972</td>\n",
       "    </tr>\n",
       "    <tr>\n",
       "      <th>Earnings</th>\n",
       "      <td>0.515972</td>\n",
       "      <td>1.000000</td>\n",
       "    </tr>\n",
       "  </tbody>\n",
       "</table>\n",
       "</div>"
      ],
      "text/plain": [
       "             Tournaments  Earnings\n",
       "Tournaments     1.000000  0.515972\n",
       "Earnings        0.515972  1.000000"
      ]
     },
     "metadata": {},
     "output_type": "display_data"
    }
   ],
   "source": [
    "df = esports.groupby('Game')['Tournaments','Earnings'].sum().corr()\n",
    "display(df)"
   ]
  },
  {
   "cell_type": "markdown",
   "metadata": {},
   "source": [
    "There is a strong correlation between the Earnings and the Price per person category, but unlike we thought in the beginning the games that have big earnings don't necessary have more tournaments than others"
   ]
  },
  {
   "cell_type": "code",
   "execution_count": 20,
   "metadata": {},
   "outputs": [
    {
     "data": {
      "text/plain": [
       "<matplotlib.axes._subplots.AxesSubplot at 0x12fdf23d0>"
      ]
     },
     "execution_count": 20,
     "metadata": {},
     "output_type": "execute_result"
    },
    {
     "data": {
      "image/png": "[encoded data removed]",
      "text/plain": [
       "<Figure size 432x288 with 2 Axes>"
      ]
     },
     "metadata": {
      "needs_background": "light"
     },
     "output_type": "display_data"
    }
   ],
   "source": [
    "sns.heatmap(df)"
   ]
  },
  {
   "cell_type": "markdown",
   "metadata": {},
   "source": [
    "We can say that we can not assume that because these game has had more tournaments, it will also have bigger prizes."
   ]
  },
  {
   "cell_type": "markdown",
   "metadata": {},
   "source": [
    "## Data Visualization"
   ]
  },
  {
   "cell_type": "code",
   "execution_count": 21,
   "metadata": {
    "scrolled": false
   },
   "outputs": [
    {
     "data": {
      "text/plain": [
       "Text(0, 0.5, 'Year Distribution of Esports tournaments')"
      ]
     },
     "execution_count": 21,
     "metadata": {},
     "output_type": "execute_result"
    },
    {
     "data": {
      "image/png": "[encoded data removed]",
      "text/plain": [
       "<Figure size 864x432 with 1 Axes>"
      ]
     },
     "metadata": {
      "needs_background": "light"
     },
     "output_type": "display_data"
    }
   ],
   "source": [
    "#first, let's take a look at the tournaments of esports and their evolution\n",
    "\n",
    "fig,ax = plt.subplots(1, 1, figsize=(12, 6))\n",
    "\n",
    "ax.hist(esports['Year'], alpha=1, histtype='bar', ec='black', bins=22)\n",
    "ax.set_title('Year Distribution of Esports tournaments', fontsize=12)\n",
    "ax.set_ylabel('Year Distribution of Esports tournaments', fontsize=12)"
   ]
  },
  {
   "cell_type": "code",
   "execution_count": 24,
   "metadata": {},
   "outputs": [
    {
     "data": {
      "text/plain": [
       "Year\n",
       "2019    2.324307e+08\n",
       "2018    1.650773e+08\n",
       "2017    1.162927e+08\n",
       "2016    9.810144e+07\n",
       "2015    6.717864e+07\n",
       "2020    4.998546e+07\n",
       "2014    3.761709e+07\n",
       "2013    2.225681e+07\n",
       "2012    1.417111e+07\n",
       "2011    1.054632e+07\n",
       "2008    7.463214e+06\n",
       "2007    7.440037e+06\n",
       "2010    6.323567e+06\n",
       "2006    5.648607e+06\n",
       "2005    4.305727e+06\n",
       "2009    4.129020e+06\n",
       "2004    2.836501e+06\n",
       "2003    1.774600e+06\n",
       "2002    9.682196e+05\n",
       "2001    8.937645e+05\n",
       "2000    7.453075e+05\n",
       "1999    2.751538e+05\n",
       "1998    1.317000e+05\n",
       "Name: Earnings, dtype: float64"
      ]
     },
     "execution_count": 24,
     "metadata": {},
     "output_type": "execute_result"
    }
   ],
   "source": [
    "#As we can see here, from 2010, there has been an exponential growth of number of tournaments. \n",
    "\n",
    "#let's check in numbers how many tournaments we have had per year \n",
    "esports.groupby('Year')['Tournaments'].sum().sort_values(ascending=False)\n",
    "#most of the torunaments have happened from 2010 and 2020, with 2015 being the most populated year. \n",
    "\n",
    "esports.groupby('Year')['Earnings'].sum().sort_values(ascending=False)\n",
    "#however, the biggest year in earnings was 2019, 2018, and 2017. "
   ]
  },
  {
   "cell_type": "markdown",
   "metadata": {},
   "source": [
    "Can we check if there are significance between genres?"
   ]
  },
  {
   "cell_type": "code",
   "execution_count": 29,
   "metadata": {},
   "outputs": [
    {
     "data": {
      "text/plain": [
       "Genre\n",
       "Battle Royale                      1.794569e+06\n",
       "Multiplayer Online Battle Arena    1.346751e+06\n",
       "First-Person Shooter               4.773931e+05\n",
       "Third-Person Shooter               2.500000e+05\n",
       "Collectible Card Game              2.201581e+05\n",
       "Sports                             1.994573e+05\n",
       "Role-Playing Game                  9.116667e+04\n",
       "Strategy                           6.262272e+04\n",
       "Racing                             2.718301e+04\n",
       "Fighting Game                      1.534415e+04\n",
       "Puzzle Game                        1.483098e+03\n",
       "Name: Earnings, dtype: float64"
      ]
     },
     "execution_count": 29,
     "metadata": {},
     "output_type": "execute_result"
    }
   ],
   "source": [
    "#since 2019 was the year with a biggest prize pool, let's check if there were significant differences between the earnings per genre\n",
    "esports[esports['Year']==2019].groupby('Genre')['Earnings'].mean().sort_values(ascending=False)\n",
    "\n"
   ]
  },
  {
   "cell_type": "code",
   "execution_count": 31,
   "metadata": {},
   "outputs": [
    {
     "data": {
      "application/vnd.jupyter.widget-view+json": {
       "model_id": "1f0bfc2cc38e4c55816a48b9b1749252",
       "version_major": 2,
       "version_minor": 0
      },
      "text/plain": [
       "interactive(children=(Dropdown(description='years', options=(1998, 1999, 2000, 2001, 2002, 2003, 2004, 2005, 2…"
      ]
     },
     "metadata": {},
     "output_type": "display_data"
    }
   ],
   "source": [
    "#Does Battle Royale and Multiplayer Online Battle Arena also make the top 3 in the last 5 years?\n",
    "\n",
    "@interact(years = esports.Year.unique())\n",
    "def explore(years):\n",
    "        df = esports[esports['Year']==years].groupby('Genre')['Earnings'].mean().sort_values(ascending=False)\n",
    "        display(df)\n",
    "        \n",
    "#they are top 2 in 2018, 2017, and top 3 in 2016,2015. In 2014, Battle Royale didn't exist. "
   ]
  },
  {
   "cell_type": "code",
   "execution_count": 33,
   "metadata": {
    "scrolled": true
   },
   "outputs": [
    {
     "data": {
      "application/vnd.jupyter.widget-view+json": {
       "model_id": "0d5cf10b98104dc4a9feb6e6d5c3605b",
       "version_major": 2,
       "version_minor": 0
      },
      "text/plain": [
       "interactive(children=(Dropdown(description='years', options=(1998, 1999, 2000, 2001, 2002, 2003, 2004, 2005, 2…"
      ]
     },
     "metadata": {},
     "output_type": "display_data"
    }
   ],
   "source": [
    "@interact(years = esports.Year.unique())\n",
    "def explore(years):\n",
    "        df = esports[esports['Year']== years].groupby('Genre')['Tournaments'].mean().sort_values(ascending=False)\n",
    "        display(df)\n",
    "        \n",
    "#In 2019 Battle Royale and Multiplayer Online Battle Arena are also in the top 3, and in 2018. "
   ]
  },
  {
   "cell_type": "code",
   "execution_count": 178,
   "metadata": {},
   "outputs": [
    {
     "data": {
      "application/vnd.jupyter.widget-view+json": {
       "model_id": "dce8d6ad883b4f35a4d5b45b6e7b5a09",
       "version_major": 2,
       "version_minor": 0
      },
      "text/plain": [
       "interactive(children=(Dropdown(description='genres', options=('First-Person Shooter', 'Strategy', 'Fighting Ga…"
      ]
     },
     "metadata": {},
     "output_type": "display_data"
    }
   ],
   "source": [
    "#here we can see the evolution of each genre per year per number of tournaments. \n",
    "\n",
    "@interact(genres = esports.Genre.unique())\n",
    "def explore(genres):\n",
    "        df = esports.loc[(esports['Genre']== genres)&(esports['Year']<2020)].groupby(['Year'])['Tournaments'].sum() \n",
    "        display(\n",
    "                df.groupby(['Year']).sum().plot(),)\n",
    "\n",
    "#we can see that every genre has actually peaked after 2010"
   ]
  },
  {
   "cell_type": "markdown",
   "metadata": {},
   "source": [
    "We are going to analyze deeper into the categories of Battle Royale and Multiplayer Online Battle Arena because they are not only the categories that have been having best earnings in the last 4-5 years, but also are among the ones having more tournaments, which could mean than If I invest in these categories I can not only make a lot of money, but also have more chances to win more money. \n",
    "\n",
    "##### But, which one should I go for?"
   ]
  },
  {
   "cell_type": "code",
   "execution_count": 52,
   "metadata": {},
   "outputs": [
    {
     "name": "stdout",
     "output_type": "stream",
     "text": [
      "In 2019 the average prize pool for Battle Royale was: 1794569.0and \n",
      "      the average for Multiplayer was: 1346750.8\n"
     ]
    }
   ],
   "source": [
    "#Let's check if there is a significant difference between the means of earnings in 2019\n",
    "#Also, ideally we want to check if the difference between price per person in this category is also signficant. \n",
    "\n",
    "avg_earnings_BattleRoyale = esports[(esports[\"Year\"]==2019) & (esports[\"Genre\"]=='Battle Royale')]['Earnings'].mean()\n",
    "avg_earnings_Multiplayer = esports[(esports[\"Year\"]==2019) & (esports[\"Genre\"]=='Multiplayer Online Battle Arena')]['Earnings'].mean()\n",
    "\n",
    "print(f'''In 2019 the average prize pool for Battle Royale was: {round(avg_earnings_BattleRoyale , 1)}and \n",
    "      the average for Multiplayer was: {round(avg_earnings_Multiplayer , 1)}''')\n",
    "\n",
    "std_br = esports[(esports[\"Year\"]==2019) & (esports[\"Genre\"]=='Battle Royale')]['Earnings'].std()\n",
    "std_mp = esports[(esports[\"Year\"]==2019) & (esports[\"Genre\"]=='Multiplayer Online Battle Arena')]['Earnings'].std()"
   ]
  },
  {
   "cell_type": "code",
   "execution_count": 58,
   "metadata": {},
   "outputs": [
    {
     "name": "stdout",
     "output_type": "stream",
     "text": [
      "All means are equal\n",
      "0.670403813409385\n"
     ]
    }
   ],
   "source": [
    "#apparently, Battle Royale has bigger prize pools than Multiplayer, let's confirm it or not\n",
    "\n",
    "# Fail to Reject H0: All sample distributions are equal.\n",
    "# Reject H0: One or more sample distributions are not equal.\n",
    "\n",
    "alpha = 0.05\n",
    "\n",
    "sample_lenght =len(esports[(esports[\"Year\"]==2019) & (esports[\"Genre\"]=='Battle Royale')]['Earnings'])\n",
    "statistic, p_value = ttest_ind_from_stats(mean1=avg_earnings_BattleRoyale, std1=std_br, nobs1=len((esports[(esports[\"Year\"]==2019) & (esports[\"Genre\"]=='Battle Royale')]['Earnings'])),\n",
    "                     mean2=avg_earnings_Multiplayer, std2=std_mp, nobs2=len(esports[(esports[\"Year\"]==2019) & (esports[\"Genre\"]=='Multiplayer Online Battle Arena')]['Earnings']),\n",
    "                     equal_var = False)\n",
    "\n",
    "#Si p-value < alpha: el resultado es significativo. Desechamos la hipótesis nula.\n",
    "if p_value < alpha:\n",
    "    print(\"We can reject the null hypothesis\")\n",
    "else:\n",
    "    print(\"All means are equal\")\n"
   ]
  },
  {
   "cell_type": "code",
   "execution_count": 61,
   "metadata": {
    "scrolled": true
   },
   "outputs": [
    {
     "data": {
      "text/plain": [
       "<matplotlib.axes._subplots.AxesSubplot at 0x1300d2220>"
      ]
     },
     "execution_count": 61,
     "metadata": {},
     "output_type": "execute_result"
    },
    {
     "data": {
      "image/png": "[encoded data removed]",
      "text/plain": [
       "<Figure size 432x288 with 1 Axes>"
      ]
     },
     "metadata": {
      "needs_background": "light"
     },
     "output_type": "display_data"
    }
   ],
   "source": [
    "sns.distplot((esports[(esports[\"Year\"]==2019) & (esports[\"Genre\"]=='Battle Royale')]['Earnings']))\n",
    "sns.distplot((esports[(esports[\"Year\"]==2019) & (esports[\"Genre\"]=='Multiplayer Online Battle Arena')]['Earnings']))"
   ]
  },
  {
   "cell_type": "code",
   "execution_count": 184,
   "metadata": {},
   "outputs": [
    {
     "name": "stderr",
     "output_type": "stream",
     "text": [
      "<ipython-input-184-a8493601f64e>:1: SettingWithCopyWarning: \n",
      "A value is trying to be set on a copy of a slice from a DataFrame.\n",
      "Try using .loc[row_indexer,col_indexer] = value instead\n",
      "\n",
      "See the caveats in the documentation: https://pandas.pydata.org/pandas-docs/stable/user_guide/indexing.html#returning-a-view-versus-a-copy\n",
      "  esports['log_earnings'] = np.log(esports[esports['Earnings']!= 0]['Earnings'])\n"
     ]
    },
    {
     "data": {
      "text/plain": [
       "array([False])"
      ]
     },
     "execution_count": 184,
     "metadata": {},
     "output_type": "execute_result"
    }
   ],
   "source": [
    "esports['log_earnings'] = np.log(esports[esports['Earnings']!= 0]['Earnings'])"
   ]
  },
  {
   "cell_type": "markdown",
   "metadata": {},
   "source": [
    "We can see that price distribution is not normal, we will need to apply log to normalize it:"
   ]
  },
  {
   "cell_type": "code",
   "execution_count": 126,
   "metadata": {},
   "outputs": [],
   "source": [
    "#let's check that there is a significance variable with the third top genre. "
   ]
  },
  {
   "cell_type": "code",
   "execution_count": 185,
   "metadata": {},
   "outputs": [
    {
     "data": {
      "image/png": "[encoded data removed]",
      "text/plain": [
       "<Figure size 576x432 with 1 Axes>"
      ]
     },
     "metadata": {
      "needs_background": "light"
     },
     "output_type": "display_data"
    }
   ],
   "source": [
    "fig, ax = plt.subplots(1, figsize=(8,6))\n",
    "plt.style.use('seaborn')\n",
    "\n",
    "esports.log_earnings.plot(kind='hist', rot=0, bins=10)\n",
    "plt.xlabel('Log Earnings')\n",
    "plt.ylabel('Frequency')\n",
    "plt.title('Distribution')\n",
    "\n",
    "plt.show()"
   ]
  },
  {
   "cell_type": "markdown",
   "metadata": {},
   "source": [
    "Althought we thought Battle Royale made more money for games, indeed, we have failed to prove that the means of the earnings are not equal, therefore we can not choose one of both genres based on the earnings.\n",
    "\n",
    "Let's take a look then at the other significant variable, the number of tournaments per years. Let's remember that if I enter a genre with lots of tournaments and also high pools of prizes, even though I can not say it will more likely to win in here, because we don't have information about difficulty, number of total players per tournament or winning stats, we can agree that at least, we will have more opportunities to win a prize."
   ]
  },
  {
   "cell_type": "markdown",
   "metadata": {},
   "source": [
    "Let's take a look now at number of tournaments per year \n"
   ]
  },
  {
   "cell_type": "code",
   "execution_count": 170,
   "metadata": {},
   "outputs": [],
   "source": [
    "df = esports[(esports['Genre']=='Multiplayer Online Battle Arena') | (esports[\"Genre\"]=='Battle Royale')]"
   ]
  },
  {
   "cell_type": "code",
   "execution_count": 175,
   "metadata": {},
   "outputs": [
    {
     "data": {
      "text/plain": [
       "Genre\n",
       "Battle Royale                      9.902655\n",
       "Multiplayer Online Battle Arena    9.738462\n",
       "Name: Tournaments, dtype: float64"
      ]
     },
     "execution_count": 175,
     "metadata": {},
     "output_type": "execute_result"
    }
   ],
   "source": [
    "df.groupby(['Genre'])['Tournaments'].mean()"
   ]
  },
  {
   "cell_type": "code",
   "execution_count": 176,
   "metadata": {},
   "outputs": [],
   "source": [
    "avg_tournaments_BattleRoyale = df[df['Genre']=='Battle Royale']['Tournaments'].mean()\n",
    "avg_tournaments_Multiplayer = df[df['Genre']=='Multiplayer Online Battle Arena']['Tournaments'].mean()\n",
    "\n",
    "std_br = df[df['Genre']=='Battle Royale']['Tournaments'].std()\n",
    "std_mp = df[df['Genre']=='Multiplayer Online Battle Arena']['Tournaments'].std()"
   ]
  },
  {
   "cell_type": "code",
   "execution_count": 201,
   "metadata": {
    "scrolled": true
   },
   "outputs": [
    {
     "data": {
      "text/plain": [
       "<matplotlib.axes._subplots.AxesSubplot at 0x1333adee0>"
      ]
     },
     "execution_count": 201,
     "metadata": {},
     "output_type": "execute_result"
    },
    {
     "data": {
      "image/png": "[encoded data removed]",
      "text/plain": [
       "<Figure size 576x396 with 1 Axes>"
      ]
     },
     "metadata": {},
     "output_type": "display_data"
    }
   ],
   "source": [
    "sns.distplot(esports[esports[\"Genre\"]=='Battle Royale']['Tournaments'].unique())\n",
    "sns.distplot(esports[esports[\"Genre\"]=='Multiplayer Online Battle Arena']['Tournaments'].unique())"
   ]
  },
  {
   "cell_type": "code",
   "execution_count": 177,
   "metadata": {},
   "outputs": [
    {
     "name": "stdout",
     "output_type": "stream",
     "text": [
      "All means are equal\n"
     ]
    }
   ],
   "source": [
    "#apparently, Battle Royale has more tournaments than multiplayer, let's confirm it or not\n",
    "\n",
    "# Fail to Reject H0: All sample distributions are equal.\n",
    "# Reject H0: One or more sample distributions are not equal.\n",
    "\n",
    "alpha = 0.05\n",
    "\n",
    "sample_lenght =len(df['Tournaments'])\n",
    "statistic, p_value = ttest_ind_from_stats(mean1=avg_tournaments_BattleRoyale, std1=std_br, nobs1=len(df[df['Genre']=='Battle Royale']['Tournaments']),\n",
    "                     mean2=avg_tournaments_Multiplayer, std2=std_mp, nobs2=len(df[df['Genre']=='Multiplayer Online Battle Arena']['Tournaments']),\n",
    "                     equal_var = False)\n",
    "\n",
    "#Si p-value < alpha: el resultado es significativo. Desechamos la hipótesis nula.\n",
    "if p_value < alpha:\n",
    "    print(\"We can reject the null hypothesis\")\n",
    "else:\n",
    "    print(\"All means are equal\")\n"
   ]
  },
  {
   "cell_type": "markdown",
   "metadata": {},
   "source": [
    "Apparently, we cannot reject the hypothesis that both genres are equal, therefore, we still have to consider the two variables when considering joining the esports industry."
   ]
  },
  {
   "cell_type": "markdown",
   "metadata": {},
   "source": [
    "### Now we will calculate the probability that each of the Games in these Genres have regarding increasing in the number of tournaments the next year, based on their previous years history. "
   ]
  },
  {
   "cell_type": "code",
   "execution_count": 125,
   "metadata": {},
   "outputs": [],
   "source": [
    "#we select all the games belonging to the Battle Royale and Multiplayer Arena. \n",
    "games = esports[(esports['Genre']=='Multiplayer Online Battle Arena') | (esports[\"Genre\"]=='Battle Royale')].Game.unique()"
   ]
  },
  {
   "cell_type": "code",
   "execution_count": 133,
   "metadata": {
    "scrolled": true
   },
   "outputs": [
    {
     "data": {
      "text/plain": [
       "array([ 80,  86,   7,  21,  19,   3,  38,  35,   2,   4,   1,   8,  15,\n",
       "        17,  27,  11,   6,  96, 126, 150, 227, 154, 167, 174, 219,  90,\n",
       "       176, 375,  42,   5,  14,  63,  87,  76,  24, 286,  41,  34,  23,\n",
       "       172, 391, 368, 428, 309, 182, 186, 183, 168,  46,   9, 123, 112,\n",
       "        44,  10])"
      ]
     },
     "execution_count": 133,
     "metadata": {},
     "output_type": "execute_result"
    }
   ],
   "source": [
    "esports[(esports['Genre']=='Multiplayer Online Battle Arena') | (esports[\"Genre\"]=='Battle Royale')].groupby(['Game','Year'])['Tournaments'].sum().unique()"
   ]
  },
  {
   "cell_type": "code",
   "execution_count": 136,
   "metadata": {},
   "outputs": [],
   "source": [
    "prob_dict = {}\n",
    "\n",
    "#first we select the number of unique total tournaments in between these two genres\n",
    "for number in esports[(esports['Genre']=='Multiplayer Online Battle Arena') | (esports[\"Genre\"]=='Battle Royale')].groupby(['Game','Year'])['Tournaments'].sum().unique():\n",
    "    #then we assign these numbers as keys for our dictionary and we tell the values to become a list\n",
    "    prob_dict[number] = []\n",
    "    \n",
    "    #for each of the genres of the games\n",
    "    for i in games:\n",
    "        #we select the genre and the amount of total tournaments per year\n",
    "        tournaments_per_game = esports[esports['Game']== i].groupby('Year').sum()[\"Tournaments\"]\n",
    "        \n",
    "        #and afterwards, we convert this column into a boolean column where:\n",
    "        '''The field is a 0 if the previous year the amount of total tournaments was bigger than this year\n",
    "        and it becomes a 1 if the total number of games per year has increased.'''\n",
    "        \n",
    "        a = list(((tournaments_per_game)- (tournaments_per_game.shift(1))).fillna(0).apply(lambda x: 1 if x >0 else 0))\n",
    "    \n",
    "        for values in tournaments_per_game:\n",
    "            if values == number:\n",
    "                prob_dict[number]= a\n",
    "\n",
    "            "
   ]
  },
  {
   "cell_type": "code",
   "execution_count": 168,
   "metadata": {},
   "outputs": [
    {
     "data": {
      "text/plain": [
       "{80: [0, 1],\n",
       " 86: [0, 1],\n",
       " 7: [0, 0],\n",
       " 21: [0, 1, 0, 0],\n",
       " 19: [0, 1, 0, 0],\n",
       " 3: [0, 1],\n",
       " 38: [0, 0, 0],\n",
       " 35: [0, 0, 0],\n",
       " 2: [0],\n",
       " 4: [0],\n",
       " 1: [0],\n",
       " 8: [0, 1],\n",
       " 15: [0, 1, 0, 0, 0, 0, 0],\n",
       " 17: [0, 0, 1, 1, 1, 1, 1, 0, 0],\n",
       " 27: [0, 0, 1, 1, 1, 1, 1, 0, 0],\n",
       " 11: [0, 1, 1, 0, 0, 1],\n",
       " 6: [0, 1, 0],\n",
       " 96: [0, 1, 1, 1, 1, 0, 1, 1, 1, 0],\n",
       " 126: [0, 1, 1, 1, 1, 0, 1, 1, 1, 0],\n",
       " 150: [0, 1, 1, 1, 1, 0, 1, 1, 1, 0],\n",
       " 227: [0, 1, 1, 1, 1, 0, 1, 1, 1, 0],\n",
       " 154: [0, 1, 1, 1, 1, 0, 1, 1, 1, 0],\n",
       " 167: [0, 1, 1, 1, 1, 0, 1, 1, 1, 0],\n",
       " 174: [0, 1, 1, 1, 1, 0, 1, 1, 1, 0],\n",
       " 219: [0, 1, 1, 1, 1, 0, 1, 1, 1, 0],\n",
       " 90: [0, 1, 1, 1, 1, 0, 1, 1, 1, 0],\n",
       " 176: [0, 1, 0],\n",
       " 375: [0, 1, 0],\n",
       " 42: [0, 1, 0],\n",
       " 5: [0, 0],\n",
       " 14: [0, 1, 0, 0],\n",
       " 63: [0, 1, 0, 0, 0, 0, 0],\n",
       " 87: [0, 1, 1, 1, 0, 0, 0, 0, 0],\n",
       " 76: [0, 1, 1, 1, 0, 0, 0, 0, 0],\n",
       " 24: [0, 1, 1, 1, 0, 0, 0, 0, 0],\n",
       " 286: [0, 1, 0, 0, 0, 0, 0],\n",
       " 41: [0, 1, 0, 0, 0, 0, 0],\n",
       " 34: [0, 1, 0, 0, 0, 0, 0],\n",
       " 23: [0, 1, 0],\n",
       " 172: [0, 1, 1, 0, 1, 0, 0, 1, 0, 0, 0],\n",
       " 391: [0, 1, 1, 0, 1, 0, 0, 1, 0, 0, 0],\n",
       " 368: [0, 1, 1, 0, 1, 0, 0, 1, 0, 0, 0],\n",
       " 428: [0, 1, 1, 0, 1, 0, 0, 1, 0, 0, 0],\n",
       " 309: [0, 1, 1, 0, 1, 0, 0, 1, 0, 0, 0],\n",
       " 182: [0, 1, 1, 0, 1, 0, 0, 1, 0, 0, 0],\n",
       " 186: [0, 1, 1, 0, 1, 0, 0, 1, 0, 0, 0],\n",
       " 183: [0, 1, 1, 0, 1, 0, 0, 1, 0, 0, 0],\n",
       " 168: [0, 1, 1, 0, 1, 0, 0, 1, 0, 0, 0],\n",
       " 46: [0, 1, 1, 0, 1, 0, 0, 1, 0, 0, 0],\n",
       " 9: [0, 1, 0],\n",
       " 123: [0, 1, 0, 0],\n",
       " 112: [0, 1, 0, 0],\n",
       " 44: [0, 1, 0, 0],\n",
       " 10: [0, 1, 0]}"
      ]
     },
     "execution_count": 168,
     "metadata": {},
     "output_type": "execute_result"
    }
   ],
   "source": [
    "prob_dict"
   ]
  },
  {
   "cell_type": "code",
   "execution_count": 167,
   "metadata": {},
   "outputs": [
    {
     "data": {
      "text/plain": [
       "[0.0,\n",
       " 0.5,\n",
       " 0.5,\n",
       " 1.0,\n",
       " 1.0,\n",
       " 1.0,\n",
       " 0.5,\n",
       " 0.75,\n",
       " 0.75,\n",
       " 0.75,\n",
       " 0.75,\n",
       " 1.0,\n",
       " 1.0,\n",
       " 1.0,\n",
       " 2.0,\n",
       " 2.5,\n",
       " 1.6666666666666667,\n",
       " 1.6666666666666667,\n",
       " 1.6666666666666667,\n",
       " 1.6666666666666667,\n",
       " 1.6666666666666667,\n",
       " 1.6666666666666667,\n",
       " 5.0,\n",
       " 5.0,\n",
       " 5.0,\n",
       " 2.5,\n",
       " 3.0,\n",
       " 0.8571428571428571,\n",
       " 1.0,\n",
       " 1.0,\n",
       " 1.0,\n",
       " 1.0,\n",
       " 1.0,\n",
       " 1.0,\n",
       " 0.7777777777777778,\n",
       " 0.7777777777777778,\n",
       " 0.8888888888888888,\n",
       " 1.0,\n",
       " 1.1111111111111112,\n",
       " 1.2222222222222223,\n",
       " 1.3333333333333333,\n",
       " 1.3333333333333333,\n",
       " 1.3333333333333333,\n",
       " 1.3333333333333333,\n",
       " 1.3333333333333333,\n",
       " 1.4444444444444444,\n",
       " 1.5555555555555556,\n",
       " 1.6666666666666667,\n",
       " 1.7777777777777777,\n",
       " 1.8888888888888888,\n",
       " 1.8888888888888888,\n",
       " 1.8888888888888888,\n",
       " 2.8333333333333335,\n",
       " 3.0,\n",
       " 3.1666666666666665,\n",
       " 3.1666666666666665,\n",
       " 3.1666666666666665,\n",
       " 3.3333333333333335,\n",
       " 6.666666666666667,\n",
       " 7.0,\n",
       " 7.0,\n",
       " 2.1,\n",
       " 2.2,\n",
       " 2.3,\n",
       " 2.4,\n",
       " 2.5,\n",
       " 2.5,\n",
       " 2.6,\n",
       " 2.7,\n",
       " 2.8,\n",
       " 2.8,\n",
       " 2.8,\n",
       " 2.9,\n",
       " 3.0,\n",
       " 3.1,\n",
       " 3.2,\n",
       " 3.2,\n",
       " 3.3,\n",
       " 3.4,\n",
       " 3.5,\n",
       " 3.5,\n",
       " 3.5,\n",
       " 3.6,\n",
       " 3.7,\n",
       " 3.8,\n",
       " 3.9,\n",
       " 3.9,\n",
       " 4.0,\n",
       " 4.1,\n",
       " 4.2,\n",
       " 4.2,\n",
       " 4.2,\n",
       " 4.3,\n",
       " 4.4,\n",
       " 4.5,\n",
       " 4.6,\n",
       " 4.6,\n",
       " 4.7,\n",
       " 4.8,\n",
       " 4.9,\n",
       " 4.9,\n",
       " 4.9,\n",
       " 5.0,\n",
       " 5.1,\n",
       " 5.2,\n",
       " 5.3,\n",
       " 5.3,\n",
       " 5.4,\n",
       " 5.5,\n",
       " 5.6,\n",
       " 5.6,\n",
       " 5.6,\n",
       " 5.7,\n",
       " 5.8,\n",
       " 5.9,\n",
       " 6.0,\n",
       " 6.0,\n",
       " 6.1,\n",
       " 6.2,\n",
       " 6.3,\n",
       " 6.3,\n",
       " 6.3,\n",
       " 6.4,\n",
       " 6.5,\n",
       " 6.6,\n",
       " 6.7,\n",
       " 6.7,\n",
       " 6.8,\n",
       " 6.9,\n",
       " 7.0,\n",
       " 7.0,\n",
       " 7.0,\n",
       " 7.1,\n",
       " 7.2,\n",
       " 7.3,\n",
       " 7.4,\n",
       " 7.4,\n",
       " 7.5,\n",
       " 7.6,\n",
       " 7.7,\n",
       " 7.7,\n",
       " 7.7,\n",
       " 7.8,\n",
       " 7.9,\n",
       " 8.0,\n",
       " 8.1,\n",
       " 8.1,\n",
       " 8.2,\n",
       " 8.3,\n",
       " 8.4,\n",
       " 8.4,\n",
       " 28.0,\n",
       " 28.333333333333332,\n",
       " 28.333333333333332,\n",
       " 28.333333333333332,\n",
       " 28.666666666666668,\n",
       " 28.666666666666668,\n",
       " 28.666666666666668,\n",
       " 29.0,\n",
       " 29.0,\n",
       " 43.5,\n",
       " 43.5,\n",
       " 21.75,\n",
       " 22.0,\n",
       " 22.0,\n",
       " 22.0,\n",
       " 12.571428571428571,\n",
       " 12.714285714285714,\n",
       " 12.714285714285714,\n",
       " 12.714285714285714,\n",
       " 12.714285714285714,\n",
       " 12.714285714285714,\n",
       " 12.714285714285714,\n",
       " 9.88888888888889,\n",
       " 10.0,\n",
       " 10.11111111111111,\n",
       " 10.222222222222221,\n",
       " 10.222222222222221,\n",
       " 10.222222222222221,\n",
       " 10.222222222222221,\n",
       " 10.222222222222221,\n",
       " 10.222222222222221,\n",
       " 10.222222222222221,\n",
       " 10.333333333333334,\n",
       " 10.444444444444445,\n",
       " 10.555555555555555,\n",
       " 10.555555555555555,\n",
       " 10.555555555555555,\n",
       " 10.555555555555555,\n",
       " 10.555555555555555,\n",
       " 10.555555555555555,\n",
       " 10.555555555555555,\n",
       " 10.666666666666666,\n",
       " 10.777777777777779,\n",
       " 10.88888888888889,\n",
       " 10.88888888888889,\n",
       " 10.88888888888889,\n",
       " 10.88888888888889,\n",
       " 10.88888888888889,\n",
       " 10.88888888888889,\n",
       " 14.0,\n",
       " 14.142857142857142,\n",
       " 14.142857142857142,\n",
       " 14.142857142857142,\n",
       " 14.142857142857142,\n",
       " 14.142857142857142,\n",
       " 14.142857142857142,\n",
       " 14.142857142857142,\n",
       " 14.285714285714286,\n",
       " 14.285714285714286,\n",
       " 14.285714285714286,\n",
       " 14.285714285714286,\n",
       " 14.285714285714286,\n",
       " 14.285714285714286,\n",
       " 14.285714285714286,\n",
       " 14.428571428571429,\n",
       " 14.428571428571429,\n",
       " 14.428571428571429,\n",
       " 14.428571428571429,\n",
       " 14.428571428571429,\n",
       " 14.428571428571429,\n",
       " 33.666666666666664,\n",
       " 34.0,\n",
       " 34.0,\n",
       " 9.272727272727273,\n",
       " 9.363636363636363,\n",
       " 9.454545454545455,\n",
       " 9.454545454545455,\n",
       " 9.545454545454545,\n",
       " 9.545454545454545,\n",
       " 9.545454545454545,\n",
       " 9.636363636363637,\n",
       " 9.636363636363637,\n",
       " 9.636363636363637,\n",
       " 9.636363636363637,\n",
       " 9.636363636363637,\n",
       " 9.727272727272727,\n",
       " 9.818181818181818,\n",
       " 9.818181818181818,\n",
       " 9.909090909090908,\n",
       " 9.909090909090908,\n",
       " 9.909090909090908,\n",
       " 10.0,\n",
       " 10.0,\n",
       " 10.0,\n",
       " 10.0,\n",
       " 10.0,\n",
       " 10.090909090909092,\n",
       " 10.181818181818182,\n",
       " 10.181818181818182,\n",
       " 10.272727272727273,\n",
       " 10.272727272727273,\n",
       " 10.272727272727273,\n",
       " 10.363636363636363,\n",
       " 10.363636363636363,\n",
       " 10.363636363636363,\n",
       " 10.363636363636363,\n",
       " 10.363636363636363,\n",
       " 10.454545454545455,\n",
       " 10.545454545454545,\n",
       " 10.545454545454545,\n",
       " 10.636363636363637,\n",
       " 10.636363636363637,\n",
       " 10.636363636363637,\n",
       " 10.727272727272727,\n",
       " 10.727272727272727,\n",
       " 10.727272727272727,\n",
       " 10.727272727272727,\n",
       " 10.727272727272727,\n",
       " 10.818181818181818,\n",
       " 10.909090909090908,\n",
       " 10.909090909090908,\n",
       " 11.0,\n",
       " 11.0,\n",
       " 11.0,\n",
       " 11.090909090909092,\n",
       " 11.090909090909092,\n",
       " 11.090909090909092,\n",
       " 11.090909090909092,\n",
       " 11.090909090909092,\n",
       " 11.181818181818182,\n",
       " 11.272727272727273,\n",
       " 11.272727272727273,\n",
       " 11.363636363636363,\n",
       " 11.363636363636363,\n",
       " 11.363636363636363,\n",
       " 11.454545454545455,\n",
       " 11.454545454545455,\n",
       " 11.454545454545455,\n",
       " 11.454545454545455,\n",
       " 11.454545454545455,\n",
       " 11.545454545454545,\n",
       " 11.636363636363637,\n",
       " 11.636363636363637,\n",
       " 11.727272727272727,\n",
       " 11.727272727272727,\n",
       " 11.727272727272727,\n",
       " 11.818181818181818,\n",
       " 11.818181818181818,\n",
       " 11.818181818181818,\n",
       " 11.818181818181818,\n",
       " 11.818181818181818,\n",
       " 11.909090909090908,\n",
       " 12.0,\n",
       " 12.0,\n",
       " 12.090909090909092,\n",
       " 12.090909090909092,\n",
       " 12.090909090909092,\n",
       " 12.181818181818182,\n",
       " 12.181818181818182,\n",
       " 12.181818181818182,\n",
       " 12.181818181818182,\n",
       " 12.181818181818182,\n",
       " 12.272727272727273,\n",
       " 12.363636363636363,\n",
       " 12.363636363636363,\n",
       " 12.454545454545455,\n",
       " 12.454545454545455,\n",
       " 12.454545454545455,\n",
       " 12.545454545454545,\n",
       " 12.545454545454545,\n",
       " 12.545454545454545,\n",
       " 12.545454545454545,\n",
       " 12.545454545454545,\n",
       " 12.636363636363637,\n",
       " 12.727272727272727,\n",
       " 12.727272727272727,\n",
       " 12.818181818181818,\n",
       " 12.818181818181818,\n",
       " 12.818181818181818,\n",
       " 12.909090909090908,\n",
       " 12.909090909090908,\n",
       " 12.909090909090908,\n",
       " 12.909090909090908,\n",
       " 47.333333333333336,\n",
       " 47.666666666666664,\n",
       " 47.666666666666664,\n",
       " 35.75,\n",
       " 36.0,\n",
       " 36.0,\n",
       " 36.0,\n",
       " 36.0,\n",
       " 36.25,\n",
       " 36.25,\n",
       " 36.25,\n",
       " 36.25,\n",
       " 36.5,\n",
       " 36.5,\n",
       " 36.5,\n",
       " 48.666666666666664,\n",
       " 49.0,\n",
       " 49.0]"
      ]
     },
     "execution_count": 167,
     "metadata": {},
     "output_type": "execute_result"
    }
   ],
   "source": [
    "prob_dict\n",
    "\n",
    "suma_prob = 0\n",
    "probability = []\n",
    "new_probs = {}\n",
    "\n",
    "for lst in prob_dict.values():\n",
    "    for n in lst: \n",
    "        suma_prob += n\n",
    "        len(lst)\n",
    "        probability.append(suma_prob/len(lst))\n",
    "#prob = suma_prob/len(lst)\n",
    "#probability.append(prob)\n",
    "probability"
   ]
  },
  {
   "cell_type": "code",
   "execution_count": 202,
   "metadata": {},
   "outputs": [
    {
     "data": {
      "text/plain": [
       "'new_probs = {}\\nfor key in prob_dict:\\n    summ = [a for b in prob_dict[key] for a in b]\\n    lenght = [a for b in prob_dict[key] for a in b]\\n    new_probs[key] = sum(summ) / len(lenght)'"
      ]
     },
     "execution_count": 202,
     "metadata": {},
     "output_type": "execute_result"
    }
   ],
   "source": [
    "'''new_probs = {}\n",
    "for key in prob_dict:\n",
    "    summ = [a for b in prob_dict[key] for a in b]\n",
    "    lenght = [a for b in prob_dict[key] for a in b]\n",
    "    new_probs[key] = sum(summ) / len(lenght)'''"
   ]
  },
  {
   "cell_type": "markdown",
   "metadata": {},
   "source": [
    "I have failed to compute the probability for next years tournaments. To be continued. "
   ]
  }
 ],
 "metadata": {
  "kernelspec": {
   "display_name": "Python 3",
   "language": "python",
   "name": "python3"
  },
  "language_info": {
   "codemirror_mode": {
    "name": "ipython",
    "version": 3
   },
   "file_extension": ".py",
   "mimetype": "text/x-python",
   "name": "python",
   "nbconvert_exporter": "python",
   "pygments_lexer": "ipython3",
   "version": "3.8.2"
  }
 },
 "nbformat": 4,
 "nbformat_minor": 4
}
