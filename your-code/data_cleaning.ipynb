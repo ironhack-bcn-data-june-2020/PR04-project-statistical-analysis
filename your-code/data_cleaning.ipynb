{
 "cells": [
  {
   "cell_type": "markdown",
   "metadata": {},
   "source": [
    "# Data Cleaning"
   ]
  },
  {
   "cell_type": "markdown",
   "metadata": {},
   "source": [
    "The goal of the project is to analyse what it would be the **best home** for a **dog adopted** by the kennel of Barcelona, based on statistical analysis of the place where it'll go to live(square mts) and the area the property is located."
   ]
  },
  {
   "cell_type": "markdown",
   "metadata": {},
   "source": [
    "## 0.Import libraries"
   ]
  },
  {
   "cell_type": "code",
   "execution_count": 1,
   "metadata": {},
   "outputs": [],
   "source": [
    "# Basic libraries\n",
    "import pandas as pd\n",
    "import numpy as np\n",
    "import re\n",
    "import time\n",
    "\n",
    "# Googletrans\n",
    "import googletrans\n",
    "from googletrans import Translator\n",
    "import copy\n",
    "\n",
    "# Spacy --> Text reduction\n",
    "import spacy\n",
    "# import en_core_web_sm\n",
    "nlp = spacy.load('es_core_news_sm')\n",
    "import sys\n",
    "# print(sys.version)"
   ]
  },
  {
   "cell_type": "markdown",
   "metadata": {},
   "source": [
    "### 0.1 Installing new useful libraries"
   ]
  },
  {
   "cell_type": "code",
   "execution_count": 2,
   "metadata": {},
   "outputs": [],
   "source": [
    "# Google trans\n",
    "# !pip install googletrans\n",
    "\n",
    "# Spacy --> Text reduction\n",
    "# !pip install -U spacy"
   ]
  },
  {
   "cell_type": "markdown",
   "metadata": {},
   "source": [
    "## 1.Loading Dataframes - Data Overview"
   ]
  },
  {
   "cell_type": "markdown",
   "metadata": {},
   "source": [
    "Description of the original Dataframes we'll use for the analysis."
   ]
  },
  {
   "cell_type": "markdown",
   "metadata": {},
   "source": [
    "## Protectora Barcelona"
   ]
  },
  {
   "cell_type": "markdown",
   "metadata": {},
   "source": [
    "https://www.protectorabcn.es/"
   ]
  },
  {
   "cell_type": "markdown",
   "metadata": {},
   "source": [
    "Web-scraping of the page of the **public Kennel of Barcelona** (**Protectora de Barcelona**) to find some adoptable dogs in the city. (**PR03-project-web**)"
   ]
  },
  {
   "cell_type": "code",
   "execution_count": 3,
   "metadata": {},
   "outputs": [],
   "source": [
    "# Share data between Jupyter Notebooks\n",
    "%store -r adoptable_dogs"
   ]
  },
  {
   "cell_type": "code",
   "execution_count": 4,
   "metadata": {},
   "outputs": [],
   "source": [
    "adoptable_dogs = pd.read_csv('input/'+ adoptable_dogs)"
   ]
  },
  {
   "cell_type": "code",
   "execution_count": 5,
   "metadata": {},
   "outputs": [
    {
     "data": {
      "text/html": [
       "<div>\n",
       "<style scoped>\n",
       "    .dataframe tbody tr th:only-of-type {\n",
       "        vertical-align: middle;\n",
       "    }\n",
       "\n",
       "    .dataframe tbody tr th {\n",
       "        vertical-align: top;\n",
       "    }\n",
       "\n",
       "    .dataframe thead th {\n",
       "        text-align: right;\n",
       "    }\n",
       "</style>\n",
       "<table border=\"1\" class=\"dataframe\">\n",
       "  <thead>\n",
       "    <tr style=\"text-align: right;\">\n",
       "      <th></th>\n",
       "      <th>Nombre</th>\n",
       "      <th>Caracteristicas</th>\n",
       "      <th>Foto</th>\n",
       "      <th>URL</th>\n",
       "      <th>Codigo</th>\n",
       "      <th>Animal</th>\n",
       "      <th>Sexo</th>\n",
       "      <th>Medidas</th>\n",
       "      <th>Edad</th>\n",
       "      <th>Color</th>\n",
       "      <th>Raza</th>\n",
       "      <th>Nacimiento</th>\n",
       "      <th>Entrada</th>\n",
       "      <th>Descripción</th>\n",
       "      <th>Estado</th>\n",
       "      <th>Años perrera</th>\n",
       "    </tr>\n",
       "  </thead>\n",
       "  <tbody>\n",
       "    <tr>\n",
       "      <td>0</td>\n",
       "      <td>Gina</td>\n",
       "      <td>Curiosa y elegante</td>\n",
       "      <td>https://server03.protectorabcn.es/8935-home_de...</td>\n",
       "      <td>gina</td>\n",
       "      <td>39</td>\n",
       "      <td>Perros</td>\n",
       "      <td>Hembra</td>\n",
       "      <td>Grande</td>\n",
       "      <td>Adulto</td>\n",
       "      <td>Blanco</td>\n",
       "      <td>Mestizo</td>\n",
       "      <td>2010</td>\n",
       "      <td>02/2014</td>\n",
       "      <td>Si tuviéramos que describir a Gina con una sol...</td>\n",
       "      <td>En Adopción</td>\n",
       "      <td>4.1 years</td>\n",
       "    </tr>\n",
       "    <tr>\n",
       "      <td>1</td>\n",
       "      <td>Horus</td>\n",
       "      <td>Una familia con dedicación</td>\n",
       "      <td>https://server02.protectorabcn.es/8943-home_de...</td>\n",
       "      <td>base</td>\n",
       "      <td>997</td>\n",
       "      <td>Perros</td>\n",
       "      <td>Macho</td>\n",
       "      <td>Grande</td>\n",
       "      <td>Joven</td>\n",
       "      <td>Marron oscuro</td>\n",
       "      <td>Mestizo de Pastor Alemán</td>\n",
       "      <td>03/2016</td>\n",
       "      <td>09/2017</td>\n",
       "      <td>Horus es este cruce de pastor alemán, nacido e...</td>\n",
       "      <td>En Adopción</td>\n",
       "      <td>1.5 years</td>\n",
       "    </tr>\n",
       "  </tbody>\n",
       "</table>\n",
       "</div>"
      ],
      "text/plain": [
       "  Nombre             Caracteristicas  \\\n",
       "0   Gina          Curiosa y elegante   \n",
       "1  Horus  Una familia con dedicación   \n",
       "\n",
       "                                                Foto   URL  Codigo  Animal  \\\n",
       "0  https://server03.protectorabcn.es/8935-home_de...  gina      39  Perros   \n",
       "1  https://server02.protectorabcn.es/8943-home_de...  base     997  Perros   \n",
       "\n",
       "     Sexo Medidas    Edad          Color                      Raza Nacimiento  \\\n",
       "0  Hembra  Grande  Adulto         Blanco                   Mestizo       2010   \n",
       "1   Macho  Grande   Joven  Marron oscuro  Mestizo de Pastor Alemán    03/2016   \n",
       "\n",
       "   Entrada                                        Descripción       Estado  \\\n",
       "0  02/2014  Si tuviéramos que describir a Gina con una sol...  En Adopción   \n",
       "1  09/2017  Horus es este cruce de pastor alemán, nacido e...  En Adopción   \n",
       "\n",
       "  Años perrera  \n",
       "0    4.1 years  \n",
       "1    1.5 years  "
      ]
     },
     "execution_count": 5,
     "metadata": {},
     "output_type": "execute_result"
    }
   ],
   "source": [
    "adoptable_dogs.head(2)"
   ]
  },
  {
   "cell_type": "code",
   "execution_count": 6,
   "metadata": {},
   "outputs": [
    {
     "name": "stdout",
     "output_type": "stream",
     "text": [
      "Dimensions original DF-ProtectoraBCN: 44 rows x 16 columns\n"
     ]
    }
   ],
   "source": [
    "print(f'Dimensions original DF-ProtectoraBCN: {adoptable_dogs.shape[0]} rows x {adoptable_dogs.shape[1]} columns')"
   ]
  },
  {
   "cell_type": "markdown",
   "metadata": {},
   "source": [
    "## ICanWalk"
   ]
  },
  {
   "cell_type": "markdown",
   "metadata": {},
   "source": [
    "https://icanwalk.es/"
   ]
  },
  {
   "cell_type": "markdown",
   "metadata": {},
   "source": [
    "Web-scraping of the page of **ICanWak**, a cool group of dog fans in order to find the **dog parks** of Barcelona."
   ]
  },
  {
   "cell_type": "code",
   "execution_count": 7,
   "metadata": {},
   "outputs": [],
   "source": [
    "# Share data between Jupyter Notebooks\n",
    "%store -r dogs_parks"
   ]
  },
  {
   "cell_type": "code",
   "execution_count": 8,
   "metadata": {},
   "outputs": [],
   "source": [
    "dogs_parks = pd.read_csv('input/'+ dogs_parks)"
   ]
  },
  {
   "cell_type": "code",
   "execution_count": 9,
   "metadata": {},
   "outputs": [
    {
     "data": {
      "text/html": [
       "<div>\n",
       "<style scoped>\n",
       "    .dataframe tbody tr th:only-of-type {\n",
       "        vertical-align: middle;\n",
       "    }\n",
       "\n",
       "    .dataframe tbody tr th {\n",
       "        vertical-align: top;\n",
       "    }\n",
       "\n",
       "    .dataframe thead th {\n",
       "        text-align: right;\n",
       "    }\n",
       "</style>\n",
       "<table border=\"1\" class=\"dataframe\">\n",
       "  <thead>\n",
       "    <tr style=\"text-align: right;\">\n",
       "      <th></th>\n",
       "      <th>Distritos</th>\n",
       "      <th>Dirección</th>\n",
       "      <th>Superficie (m2)</th>\n",
       "    </tr>\n",
       "  </thead>\n",
       "  <tbody>\n",
       "    <tr>\n",
       "      <td>0</td>\n",
       "      <td>Ciutat Vella</td>\n",
       "      <td>Parc de la Ciutadella</td>\n",
       "      <td>287</td>\n",
       "    </tr>\n",
       "    <tr>\n",
       "      <td>1</td>\n",
       "      <td>Ciutat Vella</td>\n",
       "      <td>Parc de la Barceloneta</td>\n",
       "      <td>451</td>\n",
       "    </tr>\n",
       "    <tr>\n",
       "      <td>2</td>\n",
       "      <td>Ciutat Vella</td>\n",
       "      <td>Jardins de Sant Pau del Camp</td>\n",
       "      <td>227</td>\n",
       "    </tr>\n",
       "    <tr>\n",
       "      <td>3</td>\n",
       "      <td>l’Eixample</td>\n",
       "      <td>Jardins Montserrat</td>\n",
       "      <td>38</td>\n",
       "    </tr>\n",
       "    <tr>\n",
       "      <td>4</td>\n",
       "      <td>l’Eixample</td>\n",
       "      <td>Pl. Doctor Letamendi</td>\n",
       "      <td>8</td>\n",
       "    </tr>\n",
       "  </tbody>\n",
       "</table>\n",
       "</div>"
      ],
      "text/plain": [
       "      Distritos                     Dirección Superficie (m2)\n",
       "0  Ciutat Vella         Parc de la Ciutadella             287\n",
       "1  Ciutat Vella        Parc de la Barceloneta             451\n",
       "2  Ciutat Vella  Jardins de Sant Pau del Camp             227\n",
       "3    l’Eixample            Jardins Montserrat              38\n",
       "4    l’Eixample          Pl. Doctor Letamendi               8"
      ]
     },
     "execution_count": 9,
     "metadata": {},
     "output_type": "execute_result"
    }
   ],
   "source": [
    "dogs_parks.head()"
   ]
  },
  {
   "cell_type": "code",
   "execution_count": 10,
   "metadata": {},
   "outputs": [
    {
     "name": "stdout",
     "output_type": "stream",
     "text": [
      "Dimensions original DF-DogParks: 105 rows x 3 columns\n"
     ]
    }
   ],
   "source": [
    "print(f'Dimensions original DF-DogParks: {dogs_parks.shape[0]} rows x {dogs_parks.shape[1]} columns')"
   ]
  },
  {
   "cell_type": "markdown",
   "metadata": {},
   "source": [
    "## Open Data Barcelona"
   ]
  },
  {
   "cell_type": "markdown",
   "metadata": {},
   "source": [
    "https://opendata-ajuntament.barcelona.cat/en/"
   ]
  },
  {
   "cell_type": "markdown",
   "metadata": {},
   "source": [
    "Downloading the dataset **'Purchase of registered properties of the city of Barcelona. Average surface'** \n",
    "\n",
    "(https://opendata-ajuntament.barcelona.cat/data/en/dataset/est-mercat-immobiliari-compravenda-sup)"
   ]
  },
  {
   "cell_type": "markdown",
   "metadata": {},
   "source": [
    "Defining a variable called path that contains the path to the csv file **2019_comp_vend_sup_trim.csv**."
   ]
  },
  {
   "cell_type": "code",
   "execution_count": 11,
   "metadata": {},
   "outputs": [
    {
     "data": {
      "text/html": [
       "<div>\n",
       "<style scoped>\n",
       "    .dataframe tbody tr th:only-of-type {\n",
       "        vertical-align: middle;\n",
       "    }\n",
       "\n",
       "    .dataframe tbody tr th {\n",
       "        vertical-align: top;\n",
       "    }\n",
       "\n",
       "    .dataframe thead th {\n",
       "        text-align: right;\n",
       "    }\n",
       "</style>\n",
       "<table border=\"1\" class=\"dataframe\">\n",
       "  <thead>\n",
       "    <tr style=\"text-align: right;\">\n",
       "      <th></th>\n",
       "      <th>Any</th>\n",
       "      <th>Trimestre</th>\n",
       "      <th>Codi_Districte</th>\n",
       "      <th>Nom_Districte</th>\n",
       "      <th>Codi_Barri</th>\n",
       "      <th>Nom_Barri</th>\n",
       "      <th>Preu_mitja_habitatge</th>\n",
       "      <th>Nombre</th>\n",
       "    </tr>\n",
       "  </thead>\n",
       "  <tbody>\n",
       "    <tr>\n",
       "      <td>0</td>\n",
       "      <td>2019</td>\n",
       "      <td>1</td>\n",
       "      <td>1</td>\n",
       "      <td>Ciutat Vella</td>\n",
       "      <td>1</td>\n",
       "      <td>el Raval</td>\n",
       "      <td>Total</td>\n",
       "      <td>58.9</td>\n",
       "    </tr>\n",
       "    <tr>\n",
       "      <td>1</td>\n",
       "      <td>2019</td>\n",
       "      <td>1</td>\n",
       "      <td>1</td>\n",
       "      <td>Ciutat Vella</td>\n",
       "      <td>2</td>\n",
       "      <td>el Barri Gòtic</td>\n",
       "      <td>Total</td>\n",
       "      <td>84.9</td>\n",
       "    </tr>\n",
       "    <tr>\n",
       "      <td>2</td>\n",
       "      <td>2019</td>\n",
       "      <td>1</td>\n",
       "      <td>1</td>\n",
       "      <td>Ciutat Vella</td>\n",
       "      <td>3</td>\n",
       "      <td>la Barceloneta</td>\n",
       "      <td>Total</td>\n",
       "      <td>45.7</td>\n",
       "    </tr>\n",
       "    <tr>\n",
       "      <td>3</td>\n",
       "      <td>2019</td>\n",
       "      <td>1</td>\n",
       "      <td>1</td>\n",
       "      <td>Ciutat Vella</td>\n",
       "      <td>4</td>\n",
       "      <td>Sant Pere, Santa Caterina i la Ribera</td>\n",
       "      <td>Total</td>\n",
       "      <td>65.3</td>\n",
       "    </tr>\n",
       "    <tr>\n",
       "      <td>4</td>\n",
       "      <td>2019</td>\n",
       "      <td>1</td>\n",
       "      <td>2</td>\n",
       "      <td>Eixample</td>\n",
       "      <td>5</td>\n",
       "      <td>el Fort Pienc</td>\n",
       "      <td>Total</td>\n",
       "      <td>97.4</td>\n",
       "    </tr>\n",
       "  </tbody>\n",
       "</table>\n",
       "</div>"
      ],
      "text/plain": [
       "    Any  Trimestre  Codi_Districte Nom_Districte  Codi_Barri  \\\n",
       "0  2019          1               1  Ciutat Vella           1   \n",
       "1  2019          1               1  Ciutat Vella           2   \n",
       "2  2019          1               1  Ciutat Vella           3   \n",
       "3  2019          1               1  Ciutat Vella           4   \n",
       "4  2019          1               2      Eixample           5   \n",
       "\n",
       "                               Nom_Barri Preu_mitja_habitatge  Nombre  \n",
       "0                               el Raval                Total    58.9  \n",
       "1                         el Barri Gòtic                Total    84.9  \n",
       "2                         la Barceloneta                Total    45.7  \n",
       "3  Sant Pere, Santa Caterina i la Ribera                Total    65.3  \n",
       "4                          el Fort Pienc                Total    97.4  "
      ]
     },
     "execution_count": 11,
     "metadata": {},
     "output_type": "execute_result"
    }
   ],
   "source": [
    "path_sqm = 'input/2019_comp_vend_sup_trim.csv'\n",
    "sqm = pd.read_csv(path_sqm)\n",
    "sqm.head()"
   ]
  },
  {
   "cell_type": "code",
   "execution_count": 12,
   "metadata": {},
   "outputs": [
    {
     "name": "stdout",
     "output_type": "stream",
     "text": [
      "Dimensions original DF-OpenDataBCN: 1168 rows x 8 columns\n"
     ]
    }
   ],
   "source": [
    "print(f'Dimensions original DF-OpenDataBCN: {sqm.shape[0]} rows x {sqm.shape[1]} columns')"
   ]
  },
  {
   "cell_type": "markdown",
   "metadata": {},
   "source": [
    "## 2. Data Manipulation "
   ]
  },
  {
   "cell_type": "markdown",
   "metadata": {},
   "source": [
    "Formatting columns and filtering the dataset with columns useful for the statistics analysis."
   ]
  },
  {
   "cell_type": "markdown",
   "metadata": {},
   "source": [
    "### 2.1 Protectora Barcelona"
   ]
  },
  {
   "cell_type": "markdown",
   "metadata": {},
   "source": [
    "*Mission*: Automatically **extract relevant information about the dogs** from the column **'Descripción'** and select only the **columns useful for statistical analysis**."
   ]
  },
  {
   "cell_type": "markdown",
   "metadata": {},
   "source": [
    "Original Dataframe"
   ]
  },
  {
   "cell_type": "code",
   "execution_count": 13,
   "metadata": {},
   "outputs": [],
   "source": [
    "# adoptable_dogs.head(2)"
   ]
  },
  {
   "cell_type": "markdown",
   "metadata": {},
   "source": [
    "The column 'Descripción' of the DF contains interesting information about the dogs. We use the library 'Scapy' in order to extract automatically relevant information from texts we are interested in."
   ]
  },
  {
   "cell_type": "code",
   "execution_count": 14,
   "metadata": {},
   "outputs": [],
   "source": [
    "# Create a spacy object like nlp\n",
    "num_words = adoptable_dogs['Descripción'].apply(lambda x: nlp(x))\n",
    "original_col=len(num_words[0])"
   ]
  },
  {
   "cell_type": "markdown",
   "metadata": {},
   "source": [
    "1. *Tokenization*. Separate the words in the text and convert these words into elements of a list."
   ]
  },
  {
   "cell_type": "markdown",
   "metadata": {},
   "source": [
    "2. *Text cleaning*. List of tokens without common and uninformative words."
   ]
  },
  {
   "cell_type": "markdown",
   "metadata": {},
   "source": [
    "3. *Normalization*. Only conventional words (no uppercases...)"
   ]
  },
  {
   "cell_type": "code",
   "execution_count": 15,
   "metadata": {},
   "outputs": [],
   "source": [
    "def normalize(x):\n",
    "    \n",
    "    lexical_tokens = []\n",
    "\n",
    "    for doc in nlp.pipe(x.astype('unicode').values, batch_size=50,n_threads=3):\n",
    "        \n",
    "        if doc.is_parsed:\n",
    "            lexical_tokens.append([t.text.lower() for t in doc if len(t) > 4 if not (t.is_punct | t.is_stop)])\n",
    "#             print(lexical_tokens)\n",
    "\n",
    "        else:\n",
    "            # We want to make sure that the lists of parsed results have the\n",
    "            # same number of entries of the original Dataframe, so add some blanks in case the parse fails\n",
    "            lexical_tokens.append(None)\n",
    "    return lexical_tokens"
   ]
  },
  {
   "cell_type": "code",
   "execution_count": 16,
   "metadata": {},
   "outputs": [],
   "source": [
    "adoptable_dogs['Descripción_norm'] = normalize(adoptable_dogs['Descripción'])"
   ]
  },
  {
   "cell_type": "markdown",
   "metadata": {},
   "source": [
    "4. *Lemmatisation*. Grouping together the inflected forms of a word (lemma)"
   ]
  },
  {
   "cell_type": "code",
   "execution_count": 17,
   "metadata": {},
   "outputs": [],
   "source": [
    "def lemmatisation(x):\n",
    "    \n",
    "    lemma=[]\n",
    "    \n",
    "    for col in nlp.pipe(x.astype('unicode').values, batch_size=50,n_threads=3):\n",
    "        \n",
    "        if col.is_parsed:\n",
    "    #         print(tok)\n",
    "                lemma.append([tok.lemma_.lower() for tok in col if not (tok.is_punct | tok.is_stop)])\n",
    "        \n",
    "        else:\n",
    "            # We want to make sure that the lists of parsed results have the\n",
    "            # same number of entries of the original Dataframe, so add some blanks in case the parse fails\n",
    "            lemma.append(None)        \n",
    "    return lemma"
   ]
  },
  {
   "cell_type": "code",
   "execution_count": 18,
   "metadata": {},
   "outputs": [],
   "source": [
    "adoptable_dogs['Descripción_lemm']=lemmatisation(adoptable_dogs['Descripción_norm'])\n",
    "lemma=adoptable_dogs['Descripción_lemm']\n",
    "mod_column=len(lemma[0])"
   ]
  },
  {
   "cell_type": "code",
   "execution_count": 19,
   "metadata": {},
   "outputs": [],
   "source": [
    "# adoptable_dogs.head(2)"
   ]
  },
  {
   "cell_type": "markdown",
   "metadata": {},
   "source": [
    "**Good job!!**"
   ]
  },
  {
   "cell_type": "code",
   "execution_count": 20,
   "metadata": {},
   "outputs": [
    {
     "name": "stdout",
     "output_type": "stream",
     "text": [
      "Words reduction example (first row) --> original number of words:283 vs reduced_words:85\n",
      "Reduction number of words: 70%\n"
     ]
    }
   ],
   "source": [
    "print(f'Words reduction example (first row) --> original number of words:{original_col} vs reduced_words:{mod_column}')\n",
    "print(f'Reduction number of words: {round((1-mod_column/original_col)*100)}%')"
   ]
  },
  {
   "cell_type": "markdown",
   "metadata": {},
   "source": [
    "We need to reduce the number of words even more if we want to extract some interesting characteristics of the dogs."
   ]
  },
  {
   "cell_type": "markdown",
   "metadata": {},
   "source": [
    "### HOME MADE-Sentiment Analysis"
   ]
  },
  {
   "cell_type": "markdown",
   "metadata": {},
   "source": [
    "Creating some lists with words extracted from adoptable_dogs['Descripción_lemm'] and using them as a filter to define the characteristics of dogs based on: \n",
    "- need of **activity** (Normal Activity, Extra Activity)\n",
    "- need of **company** (No Company, Company, Not suitable with dogs, cats, children)\n",
    "- **behavior** (Positive behavior, Negative behavior)"
   ]
  },
  {
   "cell_type": "code",
   "execution_count": 21,
   "metadata": {},
   "outputs": [],
   "source": [
    "adoptable_dogs['Descripción_lemm_join']=[','.join(x) for x in adoptable_dogs['Descripción_lemm']]\n",
    "#adoptable_dogs['Descripción_lemm_join'].str.findall('(paseo)|(jugar)|(mover)')"
   ]
  },
  {
   "cell_type": "markdown",
   "metadata": {},
   "source": [
    "Defining sub-categories of the group for identifying behavior patterns and creating a three new columns to save the results."
   ]
  },
  {
   "cell_type": "markdown",
   "metadata": {},
   "source": [
    "#### Target: Activity"
   ]
  },
  {
   "cell_type": "markdown",
   "metadata": {},
   "source": [
    "**Normal activity** ['paseo','jugar','mover']\n",
    "\n",
    "**Extra activity** ['potenciar','ritmar']"
   ]
  },
  {
   "cell_type": "code",
   "execution_count": 22,
   "metadata": {},
   "outputs": [],
   "source": [
    "normal_activity=adoptable_dogs['Descripción_lemm_join'].str.findall('(paseo)|(jugar)|(mover)')\n",
    "extra_activity=adoptable_dogs['Descripción_lemm_join'].str.findall('(potenciar)|(ritmar)')"
   ]
  },
  {
   "cell_type": "code",
   "execution_count": 23,
   "metadata": {},
   "outputs": [],
   "source": [
    "adoptable_dogs['Actividad']=['Actividad Extra' if len(y)>=1 else 'Actividad Normal' if len(x)>=1 else 'Actividad Normal' for x,y in zip(normal_activity,extra_activity)]\n",
    "# adoptable_dogs['Actividad']"
   ]
  },
  {
   "cell_type": "markdown",
   "metadata": {},
   "source": [
    "#### Target: Company"
   ]
  },
  {
   "cell_type": "markdown",
   "metadata": {},
   "source": [
    "**No Company** ['solo','reducir']\n",
    "\n",
    "**Company** ['personar','compañía','estabilidad','sufrir']\n",
    "\n",
    "**Not suitable with dogs, cats, children** ['perro','niño','gatos']"
   ]
  },
  {
   "cell_type": "code",
   "execution_count": 24,
   "metadata": {},
   "outputs": [],
   "source": [
    "NO_company=adoptable_dogs['Descripción_lemm_join'].str.findall('(solo)|(reducir)')\n",
    "company=adoptable_dogs['Descripción_lemm_join'].str.findall('(personar)|(compañía)|(estabilidad)|(sufrir)')\n",
    "NOT_suitable=adoptable_dogs['Descripción_lemm_join'].str.findall('(perro)|(niño)|(gatos)') "
   ]
  },
  {
   "cell_type": "code",
   "execution_count": 25,
   "metadata": {},
   "outputs": [],
   "source": [
    "adoptable_dogs['Compañia']=['No Compañia' if len(x)>=1 else 'Compañia' if len(y)>=1 else 'No Apto con perros, gatos, niños' if len(z)>=1 else 'Compañia' for x,y,z in zip(NO_company,company,NOT_suitable)]\n",
    "# adoptable_dogs['Compañia']"
   ]
  },
  {
   "cell_type": "markdown",
   "metadata": {},
   "source": [
    "#### Target: Behavior"
   ]
  },
  {
   "cell_type": "markdown",
   "metadata": {},
   "source": [
    "**Negative behavior** ['desconfiar', 'miedo', 'nerviosismo', 'peligroso','tímido']"
   ]
  },
  {
   "cell_type": "code",
   "execution_count": 26,
   "metadata": {},
   "outputs": [],
   "source": [
    "#positive_behavior=adoptable_dogs['Descripción_lemm_join'].str.findall('(vital)|(activo)|(energía)')\n",
    "negative_behavior=adoptable_dogs['Descripción_lemm_join'].str.findall('(desconfiar)|(miedo)|(nerviosismo)|(peligroso)|(tímido)')"
   ]
  },
  {
   "cell_type": "code",
   "execution_count": 27,
   "metadata": {},
   "outputs": [],
   "source": [
    "adoptable_dogs['Caracter']=['Difícil' if len(x)>=1 else 'Cariñoso' for x in negative_behavior]\n",
    "# adoptable_dogs['Caracter']"
   ]
  },
  {
   "cell_type": "markdown",
   "metadata": {},
   "source": [
    "Creating a new table with these new features: **Actividad**, **Compañia**, **Caracter**. Depending on these features, we'll be able to define more precisely which could be the best house for adopted dogs and if it should be near to a public park."
   ]
  },
  {
   "cell_type": "code",
   "execution_count": 28,
   "metadata": {
    "scrolled": true
   },
   "outputs": [
    {
     "data": {
      "text/html": [
       "<div>\n",
       "<style scoped>\n",
       "    .dataframe tbody tr th:only-of-type {\n",
       "        vertical-align: middle;\n",
       "    }\n",
       "\n",
       "    .dataframe tbody tr th {\n",
       "        vertical-align: top;\n",
       "    }\n",
       "\n",
       "    .dataframe thead th {\n",
       "        text-align: right;\n",
       "    }\n",
       "</style>\n",
       "<table border=\"1\" class=\"dataframe\">\n",
       "  <thead>\n",
       "    <tr style=\"text-align: right;\">\n",
       "      <th></th>\n",
       "      <th>Nombre</th>\n",
       "      <th>Caracteristicas</th>\n",
       "      <th>Foto</th>\n",
       "      <th>URL</th>\n",
       "      <th>Codigo</th>\n",
       "      <th>Animal</th>\n",
       "      <th>Sexo</th>\n",
       "      <th>Medidas</th>\n",
       "      <th>Edad</th>\n",
       "      <th>Color</th>\n",
       "      <th>...</th>\n",
       "      <th>Entrada</th>\n",
       "      <th>Descripción</th>\n",
       "      <th>Estado</th>\n",
       "      <th>Años perrera</th>\n",
       "      <th>Descripción_norm</th>\n",
       "      <th>Descripción_lemm</th>\n",
       "      <th>Descripción_lemm_join</th>\n",
       "      <th>Actividad</th>\n",
       "      <th>Compañia</th>\n",
       "      <th>Caracter</th>\n",
       "    </tr>\n",
       "  </thead>\n",
       "  <tbody>\n",
       "    <tr>\n",
       "      <td>0</td>\n",
       "      <td>Gina</td>\n",
       "      <td>Curiosa y elegante</td>\n",
       "      <td>https://server03.protectorabcn.es/8935-home_de...</td>\n",
       "      <td>gina</td>\n",
       "      <td>39</td>\n",
       "      <td>Perros</td>\n",
       "      <td>Hembra</td>\n",
       "      <td>Grande</td>\n",
       "      <td>Adulto</td>\n",
       "      <td>Blanco</td>\n",
       "      <td>...</td>\n",
       "      <td>02/2014</td>\n",
       "      <td>Si tuviéramos que describir a Gina con una sol...</td>\n",
       "      <td>En Adopción</td>\n",
       "      <td>4.1 years</td>\n",
       "      <td>[tuviéramos, describir, palabra, cautivadora, ...</td>\n",
       "      <td>[tener, describir, palabra, cautivador, perro,...</td>\n",
       "      <td>tener,describir,palabra,cautivador,perro,encan...</td>\n",
       "      <td>Actividad Normal</td>\n",
       "      <td>Compañia</td>\n",
       "      <td>Cariñoso</td>\n",
       "    </tr>\n",
       "    <tr>\n",
       "      <td>1</td>\n",
       "      <td>Horus</td>\n",
       "      <td>Una familia con dedicación</td>\n",
       "      <td>https://server02.protectorabcn.es/8943-home_de...</td>\n",
       "      <td>base</td>\n",
       "      <td>997</td>\n",
       "      <td>Perros</td>\n",
       "      <td>Macho</td>\n",
       "      <td>Grande</td>\n",
       "      <td>Joven</td>\n",
       "      <td>Marron oscuro</td>\n",
       "      <td>...</td>\n",
       "      <td>09/2017</td>\n",
       "      <td>Horus es este cruce de pastor alemán, nacido e...</td>\n",
       "      <td>En Adopción</td>\n",
       "      <td>1.5 years</td>\n",
       "      <td>[horus, cruce, pastor, alemán, nacido, horus, ...</td>\n",
       "      <td>[horus, cruzar, pastor, alemán, nacer, horus, ...</td>\n",
       "      <td>horus,cruzar,pastor,alemán,nacer,horus,encanta...</td>\n",
       "      <td>Actividad Normal</td>\n",
       "      <td>Compañia</td>\n",
       "      <td>Difícil</td>\n",
       "    </tr>\n",
       "  </tbody>\n",
       "</table>\n",
       "<p>2 rows × 22 columns</p>\n",
       "</div>"
      ],
      "text/plain": [
       "  Nombre             Caracteristicas  \\\n",
       "0   Gina          Curiosa y elegante   \n",
       "1  Horus  Una familia con dedicación   \n",
       "\n",
       "                                                Foto   URL  Codigo  Animal  \\\n",
       "0  https://server03.protectorabcn.es/8935-home_de...  gina      39  Perros   \n",
       "1  https://server02.protectorabcn.es/8943-home_de...  base     997  Perros   \n",
       "\n",
       "     Sexo Medidas    Edad          Color  ...  Entrada  \\\n",
       "0  Hembra  Grande  Adulto         Blanco  ...  02/2014   \n",
       "1   Macho  Grande   Joven  Marron oscuro  ...  09/2017   \n",
       "\n",
       "                                         Descripción       Estado  \\\n",
       "0  Si tuviéramos que describir a Gina con una sol...  En Adopción   \n",
       "1  Horus es este cruce de pastor alemán, nacido e...  En Adopción   \n",
       "\n",
       "  Años perrera                                   Descripción_norm  \\\n",
       "0    4.1 years  [tuviéramos, describir, palabra, cautivadora, ...   \n",
       "1    1.5 years  [horus, cruce, pastor, alemán, nacido, horus, ...   \n",
       "\n",
       "                                    Descripción_lemm  \\\n",
       "0  [tener, describir, palabra, cautivador, perro,...   \n",
       "1  [horus, cruzar, pastor, alemán, nacer, horus, ...   \n",
       "\n",
       "                               Descripción_lemm_join         Actividad  \\\n",
       "0  tener,describir,palabra,cautivador,perro,encan...  Actividad Normal   \n",
       "1  horus,cruzar,pastor,alemán,nacer,horus,encanta...  Actividad Normal   \n",
       "\n",
       "   Compañia  Caracter  \n",
       "0  Compañia  Cariñoso  \n",
       "1  Compañia   Difícil  \n",
       "\n",
       "[2 rows x 22 columns]"
      ]
     },
     "execution_count": 28,
     "metadata": {},
     "output_type": "execute_result"
    }
   ],
   "source": [
    "adoptable_dogs.head(2)"
   ]
  },
  {
   "cell_type": "markdown",
   "metadata": {},
   "source": [
    "Printing the summary (info) of the data and checking missing data in the dataset."
   ]
  },
  {
   "cell_type": "code",
   "execution_count": 29,
   "metadata": {},
   "outputs": [
    {
     "name": "stdout",
     "output_type": "stream",
     "text": [
      "<class 'pandas.core.frame.DataFrame'>\n",
      "RangeIndex: 44 entries, 0 to 43\n",
      "Data columns (total 22 columns):\n",
      "Nombre                   44 non-null object\n",
      "Caracteristicas          44 non-null object\n",
      "Foto                     44 non-null object\n",
      "URL                      44 non-null object\n",
      "Codigo                   44 non-null int64\n",
      "Animal                   44 non-null object\n",
      "Sexo                     44 non-null object\n",
      "Medidas                  44 non-null object\n",
      "Edad                     44 non-null object\n",
      "Color                    44 non-null object\n",
      "Raza                     44 non-null object\n",
      "Nacimiento               44 non-null object\n",
      "Entrada                  44 non-null object\n",
      "Descripción              44 non-null object\n",
      "Estado                   44 non-null object\n",
      "Años perrera             44 non-null object\n",
      "Descripción_norm         44 non-null object\n",
      "Descripción_lemm         44 non-null object\n",
      "Descripción_lemm_join    44 non-null object\n",
      "Actividad                44 non-null object\n",
      "Compañia                 44 non-null object\n",
      "Caracter                 44 non-null object\n",
      "dtypes: int64(1), object(21)\n",
      "memory usage: 7.7+ KB\n"
     ]
    }
   ],
   "source": [
    "adoptable_dogs.info()"
   ]
  },
  {
   "cell_type": "code",
   "execution_count": 30,
   "metadata": {},
   "outputs": [
    {
     "data": {
      "text/plain": [
       "Nombre                   0\n",
       "Caracteristicas          0\n",
       "Foto                     0\n",
       "URL                      0\n",
       "Codigo                   0\n",
       "Animal                   0\n",
       "Sexo                     0\n",
       "Medidas                  0\n",
       "Edad                     0\n",
       "Color                    0\n",
       "Raza                     0\n",
       "Nacimiento               0\n",
       "Entrada                  0\n",
       "Descripción              0\n",
       "Estado                   0\n",
       "Años perrera             0\n",
       "Descripción_norm         0\n",
       "Descripción_lemm         0\n",
       "Descripción_lemm_join    0\n",
       "Actividad                0\n",
       "Compañia                 0\n",
       "Caracter                 0\n",
       "dtype: int64"
      ]
     },
     "execution_count": 30,
     "metadata": {},
     "output_type": "execute_result"
    }
   ],
   "source": [
    "adoptable_dogs.isna().sum()"
   ]
  },
  {
   "cell_type": "code",
   "execution_count": 31,
   "metadata": {},
   "outputs": [
    {
     "name": "stdout",
     "output_type": "stream",
     "text": [
      "Dimensions final DF-ProtectoraBCN: 44 rows x 22 columns\n"
     ]
    }
   ],
   "source": [
    "print(f'Dimensions final DF-ProtectoraBCN: {adoptable_dogs.shape[0]} rows x {adoptable_dogs.shape[1]} columns')"
   ]
  },
  {
   "cell_type": "markdown",
   "metadata": {},
   "source": [
    "### 2.2 ICanWalk"
   ]
  },
  {
   "cell_type": "markdown",
   "metadata": {},
   "source": [
    "*Mission*: **None**. The original dataframe is OK!"
   ]
  },
  {
   "cell_type": "markdown",
   "metadata": {},
   "source": [
    "Original Dataframe"
   ]
  },
  {
   "cell_type": "code",
   "execution_count": 32,
   "metadata": {},
   "outputs": [
    {
     "data": {
      "text/html": [
       "<div>\n",
       "<style scoped>\n",
       "    .dataframe tbody tr th:only-of-type {\n",
       "        vertical-align: middle;\n",
       "    }\n",
       "\n",
       "    .dataframe tbody tr th {\n",
       "        vertical-align: top;\n",
       "    }\n",
       "\n",
       "    .dataframe thead th {\n",
       "        text-align: right;\n",
       "    }\n",
       "</style>\n",
       "<table border=\"1\" class=\"dataframe\">\n",
       "  <thead>\n",
       "    <tr style=\"text-align: right;\">\n",
       "      <th></th>\n",
       "      <th>Distritos</th>\n",
       "      <th>Dirección</th>\n",
       "      <th>Superficie (m2)</th>\n",
       "    </tr>\n",
       "  </thead>\n",
       "  <tbody>\n",
       "    <tr>\n",
       "      <td>100</td>\n",
       "      <td>Sarrià-Sant Gervasi</td>\n",
       "      <td>Jardins Mercè Rodoreda</td>\n",
       "      <td>88</td>\n",
       "    </tr>\n",
       "    <tr>\n",
       "      <td>101</td>\n",
       "      <td>Sarrià-Sant Gervasi</td>\n",
       "      <td>Turó Parc</td>\n",
       "      <td>123</td>\n",
       "    </tr>\n",
       "    <tr>\n",
       "      <td>102</td>\n",
       "      <td>Sarrià-Sant Gervasi</td>\n",
       "      <td>Jardins Doctor Samuel C. Hahnemann</td>\n",
       "      <td>283</td>\n",
       "    </tr>\n",
       "    <tr>\n",
       "      <td>103</td>\n",
       "      <td>Sarrià-Sant Gervasi</td>\n",
       "      <td>Pl. Ventura i Gassol</td>\n",
       "      <td>118</td>\n",
       "    </tr>\n",
       "    <tr>\n",
       "      <td>104</td>\n",
       "      <td>Sarrià-Sant Gervasi</td>\n",
       "      <td>Jardins Casa Sagnier\\nJardins de Vil·la Amèlia...</td>\n",
       "      <td>-</td>\n",
       "    </tr>\n",
       "  </tbody>\n",
       "</table>\n",
       "</div>"
      ],
      "text/plain": [
       "               Distritos                                          Dirección  \\\n",
       "100  Sarrià-Sant Gervasi                             Jardins Mercè Rodoreda   \n",
       "101  Sarrià-Sant Gervasi                                          Turó Parc   \n",
       "102  Sarrià-Sant Gervasi                 Jardins Doctor Samuel C. Hahnemann   \n",
       "103  Sarrià-Sant Gervasi                               Pl. Ventura i Gassol   \n",
       "104  Sarrià-Sant Gervasi  Jardins Casa Sagnier\\nJardins de Vil·la Amèlia...   \n",
       "\n",
       "    Superficie (m2)  \n",
       "100              88  \n",
       "101             123  \n",
       "102             283  \n",
       "103             118  \n",
       "104               -  "
      ]
     },
     "execution_count": 32,
     "metadata": {},
     "output_type": "execute_result"
    }
   ],
   "source": [
    "dogs_parks.tail()"
   ]
  },
  {
   "cell_type": "code",
   "execution_count": 33,
   "metadata": {},
   "outputs": [],
   "source": [
    "dogs_parks.rename(columns={'Distritos':'Distrito','Dirección':'Parque', 'Superficie (m2)':'Superficie parque (mq)'}, inplace=True)"
   ]
  },
  {
   "cell_type": "code",
   "execution_count": 34,
   "metadata": {},
   "outputs": [
    {
     "name": "stdout",
     "output_type": "stream",
     "text": [
      "Dimensions final DF-DogParks: 105 rows x 3 columns\n"
     ]
    }
   ],
   "source": [
    "print(f'Dimensions final DF-DogParks: {dogs_parks.shape[0]} rows x {dogs_parks.shape[1]} columns')"
   ]
  },
  {
   "cell_type": "markdown",
   "metadata": {},
   "source": [
    "Printing the summary (info) of the data and checking missing data in the dataset."
   ]
  },
  {
   "cell_type": "code",
   "execution_count": 35,
   "metadata": {},
   "outputs": [
    {
     "name": "stdout",
     "output_type": "stream",
     "text": [
      "<class 'pandas.core.frame.DataFrame'>\n",
      "RangeIndex: 105 entries, 0 to 104\n",
      "Data columns (total 3 columns):\n",
      "Distrito                  105 non-null object\n",
      "Parque                    105 non-null object\n",
      "Superficie parque (mq)    105 non-null object\n",
      "dtypes: object(3)\n",
      "memory usage: 2.6+ KB\n"
     ]
    }
   ],
   "source": [
    "dogs_parks.info()"
   ]
  },
  {
   "cell_type": "code",
   "execution_count": 36,
   "metadata": {},
   "outputs": [
    {
     "data": {
      "text/plain": [
       "Distrito                  0\n",
       "Parque                    0\n",
       "Superficie parque (mq)    0\n",
       "dtype: int64"
      ]
     },
     "execution_count": 36,
     "metadata": {},
     "output_type": "execute_result"
    }
   ],
   "source": [
    "dogs_parks.isna().sum()"
   ]
  },
  {
   "cell_type": "code",
   "execution_count": 37,
   "metadata": {},
   "outputs": [
    {
     "data": {
      "text/plain": [
       "Distrito                  object\n",
       "Parque                    object\n",
       "Superficie parque (mq)    object\n",
       "dtype: object"
      ]
     },
     "execution_count": 37,
     "metadata": {},
     "output_type": "execute_result"
    }
   ],
   "source": [
    "dogs_parks.dtypes"
   ]
  },
  {
   "cell_type": "markdown",
   "metadata": {},
   "source": [
    "Formatting columns"
   ]
  },
  {
   "cell_type": "code",
   "execution_count": 38,
   "metadata": {},
   "outputs": [
    {
     "data": {
      "text/plain": [
       "0                                  Parc de la Ciutadella\n",
       "1                                 Parc de la Barceloneta\n",
       "2                           Jardins de Sant Pau del Camp\n",
       "3                                     Jardins Montserrat\n",
       "4                                   Pl. Doctor Letamendi\n",
       "                             ...                        \n",
       "100                               Jardins Mercè Rodoreda\n",
       "101                                            Turó Parc\n",
       "102                   Jardins Doctor Samuel C. Hahnemann\n",
       "103                                 Pl. Ventura i Gassol\n",
       "104    Jardins Casa Sagnier - Jardins de Vil·la Amèli...\n",
       "Name: Parque, Length: 105, dtype: object"
      ]
     },
     "execution_count": 38,
     "metadata": {},
     "output_type": "execute_result"
    }
   ],
   "source": [
    "dogs_parks['Parque'].str.replace('\\n',' - ')"
   ]
  },
  {
   "cell_type": "code",
   "execution_count": 39,
   "metadata": {},
   "outputs": [],
   "source": [
    "dogs_parks['Superficie parque (mq)'] = (dogs_parks['Superficie parque (mq)'] !='-').astype(int)"
   ]
  },
  {
   "cell_type": "code",
   "execution_count": 40,
   "metadata": {},
   "outputs": [
    {
     "data": {
      "text/plain": [
       "dtype('int32')"
      ]
     },
     "execution_count": 40,
     "metadata": {},
     "output_type": "execute_result"
    }
   ],
   "source": [
    "dogs_parks['Superficie parque (mq)'].dtype"
   ]
  },
  {
   "cell_type": "markdown",
   "metadata": {},
   "source": [
    "### 2.3 Open Data Barcelona"
   ]
  },
  {
   "cell_type": "markdown",
   "metadata": {},
   "source": [
    "*Mission*: **Translate** the dataset from **Catalan** to **Spanish** and select only the **columns useful for statistical analysis**."
   ]
  },
  {
   "cell_type": "markdown",
   "metadata": {},
   "source": [
    "Original Dataframe"
   ]
  },
  {
   "cell_type": "code",
   "execution_count": 41,
   "metadata": {},
   "outputs": [],
   "source": [
    "# sqm.head()"
   ]
  },
  {
   "cell_type": "markdown",
   "metadata": {},
   "source": [
    "Formatting columns' names."
   ]
  },
  {
   "cell_type": "code",
   "execution_count": 42,
   "metadata": {},
   "outputs": [
    {
     "data": {
      "text/html": [
       "<div>\n",
       "<style scoped>\n",
       "    .dataframe tbody tr th:only-of-type {\n",
       "        vertical-align: middle;\n",
       "    }\n",
       "\n",
       "    .dataframe tbody tr th {\n",
       "        vertical-align: top;\n",
       "    }\n",
       "\n",
       "    .dataframe thead th {\n",
       "        text-align: right;\n",
       "    }\n",
       "</style>\n",
       "<table border=\"1\" class=\"dataframe\">\n",
       "  <thead>\n",
       "    <tr style=\"text-align: right;\">\n",
       "      <th></th>\n",
       "      <th>Any</th>\n",
       "      <th>Trimestre</th>\n",
       "      <th>Codi Districte</th>\n",
       "      <th>Nom Districte</th>\n",
       "      <th>Codi Barri</th>\n",
       "      <th>Nom Barri</th>\n",
       "      <th>Preu Mitja Habitatge</th>\n",
       "      <th>Superfície Mitjana (M2)</th>\n",
       "    </tr>\n",
       "  </thead>\n",
       "  <tbody>\n",
       "    <tr>\n",
       "      <td>0</td>\n",
       "      <td>2019</td>\n",
       "      <td>1</td>\n",
       "      <td>1</td>\n",
       "      <td>Ciutat Vella</td>\n",
       "      <td>1</td>\n",
       "      <td>el Raval</td>\n",
       "      <td>Total</td>\n",
       "      <td>58.9</td>\n",
       "    </tr>\n",
       "    <tr>\n",
       "      <td>1</td>\n",
       "      <td>2019</td>\n",
       "      <td>1</td>\n",
       "      <td>1</td>\n",
       "      <td>Ciutat Vella</td>\n",
       "      <td>2</td>\n",
       "      <td>el Barri Gòtic</td>\n",
       "      <td>Total</td>\n",
       "      <td>84.9</td>\n",
       "    </tr>\n",
       "    <tr>\n",
       "      <td>2</td>\n",
       "      <td>2019</td>\n",
       "      <td>1</td>\n",
       "      <td>1</td>\n",
       "      <td>Ciutat Vella</td>\n",
       "      <td>3</td>\n",
       "      <td>la Barceloneta</td>\n",
       "      <td>Total</td>\n",
       "      <td>45.7</td>\n",
       "    </tr>\n",
       "    <tr>\n",
       "      <td>3</td>\n",
       "      <td>2019</td>\n",
       "      <td>1</td>\n",
       "      <td>1</td>\n",
       "      <td>Ciutat Vella</td>\n",
       "      <td>4</td>\n",
       "      <td>Sant Pere, Santa Caterina i la Ribera</td>\n",
       "      <td>Total</td>\n",
       "      <td>65.3</td>\n",
       "    </tr>\n",
       "    <tr>\n",
       "      <td>4</td>\n",
       "      <td>2019</td>\n",
       "      <td>1</td>\n",
       "      <td>2</td>\n",
       "      <td>Eixample</td>\n",
       "      <td>5</td>\n",
       "      <td>el Fort Pienc</td>\n",
       "      <td>Total</td>\n",
       "      <td>97.4</td>\n",
       "    </tr>\n",
       "  </tbody>\n",
       "</table>\n",
       "</div>"
      ],
      "text/plain": [
       "    Any  Trimestre  Codi Districte Nom Districte  Codi Barri  \\\n",
       "0  2019          1               1  Ciutat Vella           1   \n",
       "1  2019          1               1  Ciutat Vella           2   \n",
       "2  2019          1               1  Ciutat Vella           3   \n",
       "3  2019          1               1  Ciutat Vella           4   \n",
       "4  2019          1               2      Eixample           5   \n",
       "\n",
       "                               Nom Barri Preu Mitja Habitatge  \\\n",
       "0                               el Raval                Total   \n",
       "1                         el Barri Gòtic                Total   \n",
       "2                         la Barceloneta                Total   \n",
       "3  Sant Pere, Santa Caterina i la Ribera                Total   \n",
       "4                          el Fort Pienc                Total   \n",
       "\n",
       "   Superfície Mitjana (M2)  \n",
       "0                     58.9  \n",
       "1                     84.9  \n",
       "2                     45.7  \n",
       "3                     65.3  \n",
       "4                     97.4  "
      ]
     },
     "execution_count": 42,
     "metadata": {},
     "output_type": "execute_result"
    }
   ],
   "source": [
    "sqm.rename(columns = {'Nombre':'Superfície mitjana (m2)'}, inplace = True)\n",
    "sqm.columns=sqm.columns.str.replace('_',' ').str.title()\n",
    "sqm.head()"
   ]
  },
  {
   "cell_type": "code",
   "execution_count": 43,
   "metadata": {},
   "outputs": [
    {
     "data": {
      "text/plain": [
       "Any                          0\n",
       "Trimestre                    0\n",
       "Codi Districte               0\n",
       "Nom Districte                0\n",
       "Codi Barri                   0\n",
       "Nom Barri                    0\n",
       "Preu Mitja Habitatge         0\n",
       "Superfície Mitjana (M2)    422\n",
       "dtype: int64"
      ]
     },
     "execution_count": 43,
     "metadata": {},
     "output_type": "execute_result"
    }
   ],
   "source": [
    "sqm.isna().sum()"
   ]
  },
  {
   "cell_type": "markdown",
   "metadata": {},
   "source": [
    "The study is based on the average surface of the houses. I can delete items without the specification of the houses' surfaces because are NOT relevant."
   ]
  },
  {
   "cell_type": "code",
   "execution_count": 44,
   "metadata": {},
   "outputs": [
    {
     "data": {
      "text/html": [
       "<div>\n",
       "<style scoped>\n",
       "    .dataframe tbody tr th:only-of-type {\n",
       "        vertical-align: middle;\n",
       "    }\n",
       "\n",
       "    .dataframe tbody tr th {\n",
       "        vertical-align: top;\n",
       "    }\n",
       "\n",
       "    .dataframe thead th {\n",
       "        text-align: right;\n",
       "    }\n",
       "</style>\n",
       "<table border=\"1\" class=\"dataframe\">\n",
       "  <thead>\n",
       "    <tr style=\"text-align: right;\">\n",
       "      <th></th>\n",
       "      <th>Any</th>\n",
       "      <th>Trimestre</th>\n",
       "      <th>Codi Districte</th>\n",
       "      <th>Nom Districte</th>\n",
       "      <th>Codi Barri</th>\n",
       "      <th>Nom Barri</th>\n",
       "      <th>Preu Mitja Habitatge</th>\n",
       "      <th>Superfície Mitjana (M2)</th>\n",
       "    </tr>\n",
       "  </thead>\n",
       "  <tbody>\n",
       "    <tr>\n",
       "      <td>57</td>\n",
       "      <td>2019</td>\n",
       "      <td>1</td>\n",
       "      <td>9</td>\n",
       "      <td>Sant Andreu</td>\n",
       "      <td>58</td>\n",
       "      <td>Baró de Viver</td>\n",
       "      <td>Total</td>\n",
       "      <td>NaN</td>\n",
       "    </tr>\n",
       "    <tr>\n",
       "      <td>78</td>\n",
       "      <td>2019</td>\n",
       "      <td>1</td>\n",
       "      <td>2</td>\n",
       "      <td>Eixample</td>\n",
       "      <td>6</td>\n",
       "      <td>la Sagrada Família</td>\n",
       "      <td>Habitatge nou lliure</td>\n",
       "      <td>NaN</td>\n",
       "    </tr>\n",
       "    <tr>\n",
       "      <td>82</td>\n",
       "      <td>2019</td>\n",
       "      <td>1</td>\n",
       "      <td>2</td>\n",
       "      <td>Eixample</td>\n",
       "      <td>10</td>\n",
       "      <td>Sant Antoni</td>\n",
       "      <td>Habitatge nou lliure</td>\n",
       "      <td>NaN</td>\n",
       "    </tr>\n",
       "    <tr>\n",
       "      <td>83</td>\n",
       "      <td>2019</td>\n",
       "      <td>1</td>\n",
       "      <td>3</td>\n",
       "      <td>Sants-Montjuïc</td>\n",
       "      <td>11</td>\n",
       "      <td>el Poble Sec</td>\n",
       "      <td>Habitatge nou lliure</td>\n",
       "      <td>NaN</td>\n",
       "    </tr>\n",
       "    <tr>\n",
       "      <td>84</td>\n",
       "      <td>2019</td>\n",
       "      <td>1</td>\n",
       "      <td>3</td>\n",
       "      <td>Sants-Montjuïc</td>\n",
       "      <td>12</td>\n",
       "      <td>la Marina del Prat Vermell</td>\n",
       "      <td>Habitatge nou lliure</td>\n",
       "      <td>NaN</td>\n",
       "    </tr>\n",
       "    <tr>\n",
       "      <td>...</td>\n",
       "      <td>...</td>\n",
       "      <td>...</td>\n",
       "      <td>...</td>\n",
       "      <td>...</td>\n",
       "      <td>...</td>\n",
       "      <td>...</td>\n",
       "      <td>...</td>\n",
       "      <td>...</td>\n",
       "    </tr>\n",
       "    <tr>\n",
       "      <td>1092</td>\n",
       "      <td>2019</td>\n",
       "      <td>4</td>\n",
       "      <td>10</td>\n",
       "      <td>Sant Martí</td>\n",
       "      <td>71</td>\n",
       "      <td>Provençals del Poblenou</td>\n",
       "      <td>Habitatge nou protegit</td>\n",
       "      <td>NaN</td>\n",
       "    </tr>\n",
       "    <tr>\n",
       "      <td>1093</td>\n",
       "      <td>2019</td>\n",
       "      <td>4</td>\n",
       "      <td>10</td>\n",
       "      <td>Sant Martí</td>\n",
       "      <td>72</td>\n",
       "      <td>Sant Martí de Provençals</td>\n",
       "      <td>Habitatge nou protegit</td>\n",
       "      <td>NaN</td>\n",
       "    </tr>\n",
       "    <tr>\n",
       "      <td>1094</td>\n",
       "      <td>2019</td>\n",
       "      <td>4</td>\n",
       "      <td>10</td>\n",
       "      <td>Sant Martí</td>\n",
       "      <td>73</td>\n",
       "      <td>la Verneda i la Pau</td>\n",
       "      <td>Habitatge nou protegit</td>\n",
       "      <td>NaN</td>\n",
       "    </tr>\n",
       "    <tr>\n",
       "      <td>1106</td>\n",
       "      <td>2019</td>\n",
       "      <td>4</td>\n",
       "      <td>3</td>\n",
       "      <td>Sants-Montjuïc</td>\n",
       "      <td>12</td>\n",
       "      <td>la Marina del Prat Vermell</td>\n",
       "      <td>Habitatge usat</td>\n",
       "      <td>NaN</td>\n",
       "    </tr>\n",
       "    <tr>\n",
       "      <td>1141</td>\n",
       "      <td>2019</td>\n",
       "      <td>4</td>\n",
       "      <td>8</td>\n",
       "      <td>Nou Barris</td>\n",
       "      <td>47</td>\n",
       "      <td>Can Peguera</td>\n",
       "      <td>Habitatge usat</td>\n",
       "      <td>NaN</td>\n",
       "    </tr>\n",
       "  </tbody>\n",
       "</table>\n",
       "<p>422 rows × 8 columns</p>\n",
       "</div>"
      ],
      "text/plain": [
       "       Any  Trimestre  Codi Districte   Nom Districte  Codi Barri  \\\n",
       "57    2019          1               9     Sant Andreu          58   \n",
       "78    2019          1               2        Eixample           6   \n",
       "82    2019          1               2        Eixample          10   \n",
       "83    2019          1               3  Sants-Montjuïc          11   \n",
       "84    2019          1               3  Sants-Montjuïc          12   \n",
       "...    ...        ...             ...             ...         ...   \n",
       "1092  2019          4              10      Sant Martí          71   \n",
       "1093  2019          4              10      Sant Martí          72   \n",
       "1094  2019          4              10      Sant Martí          73   \n",
       "1106  2019          4               3  Sants-Montjuïc          12   \n",
       "1141  2019          4               8      Nou Barris          47   \n",
       "\n",
       "                       Nom Barri    Preu Mitja Habitatge  \\\n",
       "57                 Baró de Viver                   Total   \n",
       "78            la Sagrada Família    Habitatge nou lliure   \n",
       "82                   Sant Antoni    Habitatge nou lliure   \n",
       "83                  el Poble Sec    Habitatge nou lliure   \n",
       "84    la Marina del Prat Vermell    Habitatge nou lliure   \n",
       "...                          ...                     ...   \n",
       "1092     Provençals del Poblenou  Habitatge nou protegit   \n",
       "1093    Sant Martí de Provençals  Habitatge nou protegit   \n",
       "1094         la Verneda i la Pau  Habitatge nou protegit   \n",
       "1106  la Marina del Prat Vermell          Habitatge usat   \n",
       "1141                 Can Peguera          Habitatge usat   \n",
       "\n",
       "      Superfície Mitjana (M2)  \n",
       "57                        NaN  \n",
       "78                        NaN  \n",
       "82                        NaN  \n",
       "83                        NaN  \n",
       "84                        NaN  \n",
       "...                       ...  \n",
       "1092                      NaN  \n",
       "1093                      NaN  \n",
       "1094                      NaN  \n",
       "1106                      NaN  \n",
       "1141                      NaN  \n",
       "\n",
       "[422 rows x 8 columns]"
      ]
     },
     "execution_count": 44,
     "metadata": {},
     "output_type": "execute_result"
    }
   ],
   "source": [
    "sqm[sqm.isnull().any(axis=1)]"
   ]
  },
  {
   "cell_type": "code",
   "execution_count": 45,
   "metadata": {},
   "outputs": [],
   "source": [
    "sqm.dropna(inplace=True)"
   ]
  },
  {
   "cell_type": "code",
   "execution_count": 46,
   "metadata": {
    "scrolled": true
   },
   "outputs": [
    {
     "data": {
      "text/plain": [
       "Any                        0\n",
       "Trimestre                  0\n",
       "Codi Districte             0\n",
       "Nom Districte              0\n",
       "Codi Barri                 0\n",
       "Nom Barri                  0\n",
       "Preu Mitja Habitatge       0\n",
       "Superfície Mitjana (M2)    0\n",
       "dtype: int64"
      ]
     },
     "execution_count": 46,
     "metadata": {},
     "output_type": "execute_result"
    }
   ],
   "source": [
    "sqm.isna().sum()"
   ]
  },
  {
   "cell_type": "markdown",
   "metadata": {},
   "source": [
    "### API Google Translate"
   ]
  },
  {
   "cell_type": "markdown",
   "metadata": {},
   "source": [
    "The dataset is in Catalan so I have to translate it into Spanish (using **Google Trans**)."
   ]
  },
  {
   "cell_type": "markdown",
   "metadata": {},
   "source": [
    "Translating columns' names."
   ]
  },
  {
   "cell_type": "code",
   "execution_count": 47,
   "metadata": {},
   "outputs": [],
   "source": [
    "# Make a deep copy of the DF\n",
    "sqm_ca = sqm.copy()"
   ]
  },
  {
   "cell_type": "code",
   "execution_count": 48,
   "metadata": {},
   "outputs": [],
   "source": [
    "# create a translator object\n",
    "translator = Translator()"
   ]
  },
  {
   "cell_type": "markdown",
   "metadata": {},
   "source": [
    "Available languages for translation."
   ]
  },
  {
   "cell_type": "code",
   "execution_count": 49,
   "metadata": {},
   "outputs": [],
   "source": [
    "# print(googletrans.LANGUAGES)"
   ]
  },
  {
   "cell_type": "code",
   "execution_count": 50,
   "metadata": {},
   "outputs": [],
   "source": [
    "# Translate columns' name using rename function\n",
    "sqm_ca.rename(columns=lambda x: translator.translate(x, src='ca', dest='es').text, inplace=True)\n",
    "\n",
    "# Translated column names\n",
    "sqm_ca.columns=sqm_ca.columns.str.title()\n",
    "sqm_ca=sqm_ca.rename(columns = {'Precio Media Vivienda':'Precio Medio Vivienda'})"
   ]
  },
  {
   "cell_type": "code",
   "execution_count": 51,
   "metadata": {},
   "outputs": [
    {
     "data": {
      "text/plain": [
       "['Año',\n",
       " 'Trimestre',\n",
       " 'Código Distrito',\n",
       " 'Nombre Distrito',\n",
       " 'Código Barrio',\n",
       " 'Nombre Barrio',\n",
       " 'Precio Medio Vivienda',\n",
       " 'Superficie Media (M2)']"
      ]
     },
     "execution_count": 51,
     "metadata": {},
     "output_type": "execute_result"
    }
   ],
   "source": [
    "col_name=list(sqm_ca.columns)\n",
    "col_name"
   ]
  },
  {
   "cell_type": "markdown",
   "metadata": {},
   "source": [
    "Selecting only NUMERICAL columns and translating selected columns."
   ]
  },
  {
   "cell_type": "code",
   "execution_count": 52,
   "metadata": {},
   "outputs": [
    {
     "data": {
      "text/html": [
       "<div>\n",
       "<style scoped>\n",
       "    .dataframe tbody tr th:only-of-type {\n",
       "        vertical-align: middle;\n",
       "    }\n",
       "\n",
       "    .dataframe tbody tr th {\n",
       "        vertical-align: top;\n",
       "    }\n",
       "\n",
       "    .dataframe thead th {\n",
       "        text-align: right;\n",
       "    }\n",
       "</style>\n",
       "<table border=\"1\" class=\"dataframe\">\n",
       "  <thead>\n",
       "    <tr style=\"text-align: right;\">\n",
       "      <th></th>\n",
       "      <th>Año</th>\n",
       "      <th>Trimestre</th>\n",
       "      <th>Código Distrito</th>\n",
       "      <th>Código Barrio</th>\n",
       "      <th>Superficie Media (M2)</th>\n",
       "    </tr>\n",
       "  </thead>\n",
       "  <tbody>\n",
       "    <tr>\n",
       "      <td>0</td>\n",
       "      <td>2019</td>\n",
       "      <td>1</td>\n",
       "      <td>1</td>\n",
       "      <td>1</td>\n",
       "      <td>58.9</td>\n",
       "    </tr>\n",
       "    <tr>\n",
       "      <td>1</td>\n",
       "      <td>2019</td>\n",
       "      <td>1</td>\n",
       "      <td>1</td>\n",
       "      <td>2</td>\n",
       "      <td>84.9</td>\n",
       "    </tr>\n",
       "    <tr>\n",
       "      <td>2</td>\n",
       "      <td>2019</td>\n",
       "      <td>1</td>\n",
       "      <td>1</td>\n",
       "      <td>3</td>\n",
       "      <td>45.7</td>\n",
       "    </tr>\n",
       "    <tr>\n",
       "      <td>3</td>\n",
       "      <td>2019</td>\n",
       "      <td>1</td>\n",
       "      <td>1</td>\n",
       "      <td>4</td>\n",
       "      <td>65.3</td>\n",
       "    </tr>\n",
       "    <tr>\n",
       "      <td>4</td>\n",
       "      <td>2019</td>\n",
       "      <td>1</td>\n",
       "      <td>2</td>\n",
       "      <td>5</td>\n",
       "      <td>97.4</td>\n",
       "    </tr>\n",
       "  </tbody>\n",
       "</table>\n",
       "</div>"
      ],
      "text/plain": [
       "    Año  Trimestre  Código Distrito  Código Barrio  Superficie Media (M2)\n",
       "0  2019          1                1              1                   58.9\n",
       "1  2019          1                1              2                   84.9\n",
       "2  2019          1                1              3                   45.7\n",
       "3  2019          1                1              4                   65.3\n",
       "4  2019          1                2              5                   97.4"
      ]
     },
     "execution_count": 52,
     "metadata": {},
     "output_type": "execute_result"
    }
   ],
   "source": [
    "num_name = sqm_ca.select_dtypes(include='number')\n",
    "num_name.head()"
   ]
  },
  {
   "cell_type": "markdown",
   "metadata": {},
   "source": [
    "Selecting only CATEGORICAL columns and translating selected columns."
   ]
  },
  {
   "cell_type": "code",
   "execution_count": 53,
   "metadata": {},
   "outputs": [
    {
     "data": {
      "text/html": [
       "<div>\n",
       "<style scoped>\n",
       "    .dataframe tbody tr th:only-of-type {\n",
       "        vertical-align: middle;\n",
       "    }\n",
       "\n",
       "    .dataframe tbody tr th {\n",
       "        vertical-align: top;\n",
       "    }\n",
       "\n",
       "    .dataframe thead th {\n",
       "        text-align: right;\n",
       "    }\n",
       "</style>\n",
       "<table border=\"1\" class=\"dataframe\">\n",
       "  <thead>\n",
       "    <tr style=\"text-align: right;\">\n",
       "      <th></th>\n",
       "      <th>Nombre Distrito</th>\n",
       "      <th>Nombre Barrio</th>\n",
       "      <th>Precio Medio Vivienda</th>\n",
       "    </tr>\n",
       "  </thead>\n",
       "  <tbody>\n",
       "    <tr>\n",
       "      <td>0</td>\n",
       "      <td>Ciutat Vella</td>\n",
       "      <td>el Raval</td>\n",
       "      <td>Total</td>\n",
       "    </tr>\n",
       "    <tr>\n",
       "      <td>1</td>\n",
       "      <td>Ciutat Vella</td>\n",
       "      <td>el Barri Gòtic</td>\n",
       "      <td>Total</td>\n",
       "    </tr>\n",
       "    <tr>\n",
       "      <td>2</td>\n",
       "      <td>Ciutat Vella</td>\n",
       "      <td>la Barceloneta</td>\n",
       "      <td>Total</td>\n",
       "    </tr>\n",
       "    <tr>\n",
       "      <td>3</td>\n",
       "      <td>Ciutat Vella</td>\n",
       "      <td>Sant Pere, Santa Caterina i la Ribera</td>\n",
       "      <td>Total</td>\n",
       "    </tr>\n",
       "    <tr>\n",
       "      <td>4</td>\n",
       "      <td>Eixample</td>\n",
       "      <td>el Fort Pienc</td>\n",
       "      <td>Total</td>\n",
       "    </tr>\n",
       "  </tbody>\n",
       "</table>\n",
       "</div>"
      ],
      "text/plain": [
       "  Nombre Distrito                          Nombre Barrio Precio Medio Vivienda\n",
       "0    Ciutat Vella                               el Raval                 Total\n",
       "1    Ciutat Vella                         el Barri Gòtic                 Total\n",
       "2    Ciutat Vella                         la Barceloneta                 Total\n",
       "3    Ciutat Vella  Sant Pere, Santa Caterina i la Ribera                 Total\n",
       "4        Eixample                          el Fort Pienc                 Total"
      ]
     },
     "execution_count": 53,
     "metadata": {},
     "output_type": "execute_result"
    }
   ],
   "source": [
    "cat_name = sqm_ca.select_dtypes(exclude='number')\n",
    "cat_name.head()"
   ]
  },
  {
   "cell_type": "code",
   "execution_count": 54,
   "metadata": {},
   "outputs": [
    {
     "data": {
      "text/html": [
       "<div>\n",
       "<style scoped>\n",
       "    .dataframe tbody tr th:only-of-type {\n",
       "        vertical-align: middle;\n",
       "    }\n",
       "\n",
       "    .dataframe tbody tr th {\n",
       "        vertical-align: top;\n",
       "    }\n",
       "\n",
       "    .dataframe thead th {\n",
       "        text-align: right;\n",
       "    }\n",
       "</style>\n",
       "<table border=\"1\" class=\"dataframe\">\n",
       "  <thead>\n",
       "    <tr style=\"text-align: right;\">\n",
       "      <th></th>\n",
       "      <th>Nombre Distrito</th>\n",
       "    </tr>\n",
       "  </thead>\n",
       "  <tbody>\n",
       "    <tr>\n",
       "      <td>0</td>\n",
       "      <td>Ciutat Vella</td>\n",
       "    </tr>\n",
       "    <tr>\n",
       "      <td>1</td>\n",
       "      <td>Ciutat Vella</td>\n",
       "    </tr>\n",
       "    <tr>\n",
       "      <td>2</td>\n",
       "      <td>Ciutat Vella</td>\n",
       "    </tr>\n",
       "    <tr>\n",
       "      <td>3</td>\n",
       "      <td>Ciutat Vella</td>\n",
       "    </tr>\n",
       "    <tr>\n",
       "      <td>4</td>\n",
       "      <td>Eixample</td>\n",
       "    </tr>\n",
       "    <tr>\n",
       "      <td>...</td>\n",
       "      <td>...</td>\n",
       "    </tr>\n",
       "    <tr>\n",
       "      <td>1163</td>\n",
       "      <td>Sant Martí</td>\n",
       "    </tr>\n",
       "    <tr>\n",
       "      <td>1164</td>\n",
       "      <td>Sant Martí</td>\n",
       "    </tr>\n",
       "    <tr>\n",
       "      <td>1165</td>\n",
       "      <td>Sant Martí</td>\n",
       "    </tr>\n",
       "    <tr>\n",
       "      <td>1166</td>\n",
       "      <td>Sant Martí</td>\n",
       "    </tr>\n",
       "    <tr>\n",
       "      <td>1167</td>\n",
       "      <td>Sant Martí</td>\n",
       "    </tr>\n",
       "  </tbody>\n",
       "</table>\n",
       "<p>746 rows × 1 columns</p>\n",
       "</div>"
      ],
      "text/plain": [
       "     Nombre Distrito\n",
       "0       Ciutat Vella\n",
       "1       Ciutat Vella\n",
       "2       Ciutat Vella\n",
       "3       Ciutat Vella\n",
       "4           Eixample\n",
       "...              ...\n",
       "1163      Sant Martí\n",
       "1164      Sant Martí\n",
       "1165      Sant Martí\n",
       "1166      Sant Martí\n",
       "1167      Sant Martí\n",
       "\n",
       "[746 rows x 1 columns]"
      ]
     },
     "execution_count": 54,
     "metadata": {},
     "output_type": "execute_result"
    }
   ],
   "source": [
    "sqm_district= sqm_ca[['Nombre Distrito']]\n",
    "sqm_district"
   ]
  },
  {
   "cell_type": "code",
   "execution_count": 55,
   "metadata": {},
   "outputs": [
    {
     "data": {
      "text/html": [
       "<div>\n",
       "<style scoped>\n",
       "    .dataframe tbody tr th:only-of-type {\n",
       "        vertical-align: middle;\n",
       "    }\n",
       "\n",
       "    .dataframe tbody tr th {\n",
       "        vertical-align: top;\n",
       "    }\n",
       "\n",
       "    .dataframe thead th {\n",
       "        text-align: right;\n",
       "    }\n",
       "</style>\n",
       "<table border=\"1\" class=\"dataframe\">\n",
       "  <thead>\n",
       "    <tr style=\"text-align: right;\">\n",
       "      <th></th>\n",
       "      <th>Nombre Barrio</th>\n",
       "      <th>Precio Medio Vivienda</th>\n",
       "    </tr>\n",
       "  </thead>\n",
       "  <tbody>\n",
       "    <tr>\n",
       "      <td>0</td>\n",
       "      <td>el Raval</td>\n",
       "      <td>Total</td>\n",
       "    </tr>\n",
       "    <tr>\n",
       "      <td>1</td>\n",
       "      <td>el Barri Gòtic</td>\n",
       "      <td>Total</td>\n",
       "    </tr>\n",
       "    <tr>\n",
       "      <td>2</td>\n",
       "      <td>la Barceloneta</td>\n",
       "      <td>Total</td>\n",
       "    </tr>\n",
       "    <tr>\n",
       "      <td>3</td>\n",
       "      <td>Sant Pere, Santa Caterina i la Ribera</td>\n",
       "      <td>Total</td>\n",
       "    </tr>\n",
       "    <tr>\n",
       "      <td>4</td>\n",
       "      <td>el Fort Pienc</td>\n",
       "      <td>Total</td>\n",
       "    </tr>\n",
       "    <tr>\n",
       "      <td>...</td>\n",
       "      <td>...</td>\n",
       "      <td>...</td>\n",
       "    </tr>\n",
       "    <tr>\n",
       "      <td>1163</td>\n",
       "      <td>Diagonal Mar i el Front Marítim del Poblenou</td>\n",
       "      <td>Habitatge usat</td>\n",
       "    </tr>\n",
       "    <tr>\n",
       "      <td>1164</td>\n",
       "      <td>el Besòs i el Maresme</td>\n",
       "      <td>Habitatge usat</td>\n",
       "    </tr>\n",
       "    <tr>\n",
       "      <td>1165</td>\n",
       "      <td>Provençals del Poblenou</td>\n",
       "      <td>Habitatge usat</td>\n",
       "    </tr>\n",
       "    <tr>\n",
       "      <td>1166</td>\n",
       "      <td>Sant Martí de Provençals</td>\n",
       "      <td>Habitatge usat</td>\n",
       "    </tr>\n",
       "    <tr>\n",
       "      <td>1167</td>\n",
       "      <td>la Verneda i la Pau</td>\n",
       "      <td>Habitatge usat</td>\n",
       "    </tr>\n",
       "  </tbody>\n",
       "</table>\n",
       "<p>746 rows × 2 columns</p>\n",
       "</div>"
      ],
      "text/plain": [
       "                                     Nombre Barrio Precio Medio Vivienda\n",
       "0                                         el Raval                 Total\n",
       "1                                   el Barri Gòtic                 Total\n",
       "2                                   la Barceloneta                 Total\n",
       "3            Sant Pere, Santa Caterina i la Ribera                 Total\n",
       "4                                    el Fort Pienc                 Total\n",
       "...                                            ...                   ...\n",
       "1163  Diagonal Mar i el Front Marítim del Poblenou        Habitatge usat\n",
       "1164                         el Besòs i el Maresme        Habitatge usat\n",
       "1165                       Provençals del Poblenou        Habitatge usat\n",
       "1166                      Sant Martí de Provençals        Habitatge usat\n",
       "1167                           la Verneda i la Pau        Habitatge usat\n",
       "\n",
       "[746 rows x 2 columns]"
      ]
     },
     "execution_count": 55,
     "metadata": {},
     "output_type": "execute_result"
    }
   ],
   "source": [
    "sqm_ca= sqm_ca[['Nombre Barrio','Precio Medio Vivienda']]\n",
    "sqm_ca"
   ]
  },
  {
   "cell_type": "code",
   "execution_count": 56,
   "metadata": {},
   "outputs": [
    {
     "name": "stdout",
     "output_type": "stream",
     "text": [
      "{'el Raval': 'el Raval', 'el Barri Gòtic': 'el Barrio Gótico', 'la Barceloneta': 'la Barceloneta', 'Sant Pere, Santa Caterina i la Ribera': 'San Pedro, Santa Caterina y la Ribera', 'el Fort Pienc': 'el Fort Pienc', 'la Sagrada Família': 'la Sagrada Familia', \"la Dreta de l'Eixample\": 'la Derecha del Eixample', \"l'Antiga Esquerra de l'Eixample\": 'la Antigua Izquierda del Ensanche', \"la Nova Esquerra de l'Eixample\": 'la Nueva Izquierda del Ensanche', 'Sant Antoni': 'San Antonio', 'el Poble Sec': 'el Poble Sec', 'la Marina del Prat Vermell': 'la Marina del Prat Vermell', 'la Marina de Port': 'la Marina de Puerto', 'la Font de la Guatlla': 'la Fuente de la Codorniz', 'Hostafrancs': 'Hostafrancs', 'la Bordeta': 'la Bordeta', 'Sants - Badal': 'Santos - Badal', 'Sants': 'Santos', 'les Corts': 'las Cortes', 'la Maternitat i Sant Ramon': 'la Maternidad y Sant Ramon', 'Pedralbes': 'Pedralbes', 'Vallvidrera, el Tibidabo i les Planes': 'Vallvidrera, el Tibidabo y las Llanuras', 'Sarrià': 'Sarrià', 'les Tres Torres': 'las Tres Torres', 'Sant Gervasi - la Bonanova': 'Sant Gervasi - La Bonanova', 'Sant Gervasi - Galvany': 'Sant Gervasi - Galvany', 'el Putxet i el Farró': 'el Putxet y el Farró', 'Vallcarca i els Penitents': 'Vallcarca y los Penitentes', 'el Coll': 'el Coll', 'la Salut': 'la Salud', 'la Vila de Gràcia': 'la Villa de Gracia', \"el Camp d'en Grassot i Gràcia Nova\": \"el Camp d'en Grassot i Gràcia Nova\", 'el Baix Guinardó': 'el Baix Guinardó', 'Can Baró': 'Can Baró', 'el Guinardó': 'el Guinardó', \"la Font d'en Fargues\": \"la Font d'en Fargues\", 'el Carmel': 'el Carmel', 'la Teixonera': 'la Teixonera', 'Sant Genís dels Agudells': 'Sant Genís dels Agudells', 'Montbau': 'Montbau', \"la Vall d'Hebron\": \"Vall d'Hebron\", 'la Clota': 'la Clota', 'Horta': 'Horta', 'Vilapicina i la Torre Llobeta': 'Vilapicina y la Torre Llobeta', 'Porta': 'puerta', 'el Turó de la Peira': 'el Turó de la Peira', 'Can Peguera': 'Can Peguera', 'la Guineueta': 'la Guineueta', 'Canyelles': 'Canyelles', 'les Roquetes': 'Roquetes', 'Verdun': 'Verdun', 'la Prosperitat': 'la Prosperidad', 'la Trinitat Nova': 'Trinitat Nova', 'Torre Baró': 'torre Baró', 'Ciutat Meridiana': 'Ciutat Meridiana', 'Vallbona': 'Vallbona', 'la Trinitat Vella': 'Trinitat Vella', 'el Bon Pastor': 'el Buen Pastor', 'Sant Areu': 'San Areu', 'la Sagrera': 'la Sagrera', 'el Congrés i els Iians': 'el Congreso y los Iians', 'Navas': 'Navas', \"el Camp de l'Arpa del Clot\": 'el Campo del Arpa del Clot', 'el Clot': 'el Clot', 'el Parc i la Llacuna del Poblenou': 'el Parque y la Laguna del Poblenou', 'la Vila Olímpica del Poblenou': 'la Villa Olímpica del Poblenou', 'el Poblenou': 'el Poblenou', 'Diagonal Mar i el Front Marítim del Poblenou': 'Diagonal Mar i el Front Marítim del Poblenou', 'el Besòs i el Maresme': 'el Besòs y el Maresme', 'Provençals del Poblenou': 'Provençals del Poblenou', 'Sant Martí de Provençals': 'Sant Martí de Provençals', 'la Verneda i la Pau': 'la Verneda y la Paz', 'Baró de Viver': 'Baró de Viver', 'Total': 'total', 'Habitatge nou lliure': 'Vivienda nueva libre', 'Habitatge nou protegit': 'Vivienda nueva protegido', 'Habitatge usat': 'vivienda usada'}\n"
     ]
    }
   ],
   "source": [
    "# Translating cell values\n",
    "translations = {}\n",
    "for column in sqm_ca.columns:\n",
    "    # unique elements of the column\n",
    "    unique_elements = sqm_ca[column].unique()\n",
    "    for element in unique_elements:\n",
    "        # add translation to the dictionary\n",
    "        translations[element] = translator.translate(element, src='ca', dest='es').text   \n",
    "print(translations)"
   ]
  },
  {
   "cell_type": "markdown",
   "metadata": {},
   "source": [
    "Modifying wrong traslations."
   ]
  },
  {
   "cell_type": "code",
   "execution_count": 57,
   "metadata": {},
   "outputs": [],
   "source": [
    "translations['Total'] = 'Total'\n",
    "translations['Vivienda nueva protegido'] = 'Vivienda nueva protegida'\n",
    "translations['vivienda usada'] = 'Vivienda usada'"
   ]
  },
  {
   "cell_type": "markdown",
   "metadata": {},
   "source": [
    "Modifying the original dataframe."
   ]
  },
  {
   "cell_type": "code",
   "execution_count": 58,
   "metadata": {},
   "outputs": [],
   "source": [
    "sqm_ca.replace(translations, inplace = True)"
   ]
  },
  {
   "cell_type": "markdown",
   "metadata": {},
   "source": [
    "Checking the traslation."
   ]
  },
  {
   "cell_type": "code",
   "execution_count": 59,
   "metadata": {},
   "outputs": [
    {
     "data": {
      "text/html": [
       "<div>\n",
       "<style scoped>\n",
       "    .dataframe tbody tr th:only-of-type {\n",
       "        vertical-align: middle;\n",
       "    }\n",
       "\n",
       "    .dataframe tbody tr th {\n",
       "        vertical-align: top;\n",
       "    }\n",
       "\n",
       "    .dataframe thead th {\n",
       "        text-align: right;\n",
       "    }\n",
       "</style>\n",
       "<table border=\"1\" class=\"dataframe\">\n",
       "  <thead>\n",
       "    <tr style=\"text-align: right;\">\n",
       "      <th></th>\n",
       "      <th>Nombre Barrio</th>\n",
       "      <th>Precio Medio Vivienda</th>\n",
       "    </tr>\n",
       "  </thead>\n",
       "  <tbody>\n",
       "    <tr>\n",
       "      <td>0</td>\n",
       "      <td>el Raval</td>\n",
       "      <td>Total</td>\n",
       "    </tr>\n",
       "    <tr>\n",
       "      <td>1</td>\n",
       "      <td>el Barrio Gótico</td>\n",
       "      <td>Total</td>\n",
       "    </tr>\n",
       "    <tr>\n",
       "      <td>2</td>\n",
       "      <td>la Barceloneta</td>\n",
       "      <td>Total</td>\n",
       "    </tr>\n",
       "    <tr>\n",
       "      <td>3</td>\n",
       "      <td>San Pedro, Santa Caterina y la Ribera</td>\n",
       "      <td>Total</td>\n",
       "    </tr>\n",
       "    <tr>\n",
       "      <td>4</td>\n",
       "      <td>el Fort Pienc</td>\n",
       "      <td>Total</td>\n",
       "    </tr>\n",
       "    <tr>\n",
       "      <td>...</td>\n",
       "      <td>...</td>\n",
       "      <td>...</td>\n",
       "    </tr>\n",
       "    <tr>\n",
       "      <td>1163</td>\n",
       "      <td>Diagonal Mar i el Front Marítim del Poblenou</td>\n",
       "      <td>vivienda usada</td>\n",
       "    </tr>\n",
       "    <tr>\n",
       "      <td>1164</td>\n",
       "      <td>el Besòs y el Maresme</td>\n",
       "      <td>vivienda usada</td>\n",
       "    </tr>\n",
       "    <tr>\n",
       "      <td>1165</td>\n",
       "      <td>Provençals del Poblenou</td>\n",
       "      <td>vivienda usada</td>\n",
       "    </tr>\n",
       "    <tr>\n",
       "      <td>1166</td>\n",
       "      <td>Sant Martí de Provençals</td>\n",
       "      <td>vivienda usada</td>\n",
       "    </tr>\n",
       "    <tr>\n",
       "      <td>1167</td>\n",
       "      <td>la Verneda y la Paz</td>\n",
       "      <td>vivienda usada</td>\n",
       "    </tr>\n",
       "  </tbody>\n",
       "</table>\n",
       "<p>746 rows × 2 columns</p>\n",
       "</div>"
      ],
      "text/plain": [
       "                                     Nombre Barrio Precio Medio Vivienda\n",
       "0                                         el Raval                 Total\n",
       "1                                 el Barrio Gótico                 Total\n",
       "2                                   la Barceloneta                 Total\n",
       "3            San Pedro, Santa Caterina y la Ribera                 Total\n",
       "4                                    el Fort Pienc                 Total\n",
       "...                                            ...                   ...\n",
       "1163  Diagonal Mar i el Front Marítim del Poblenou        vivienda usada\n",
       "1164                         el Besòs y el Maresme        vivienda usada\n",
       "1165                       Provençals del Poblenou        vivienda usada\n",
       "1166                      Sant Martí de Provençals        vivienda usada\n",
       "1167                           la Verneda y la Paz        vivienda usada\n",
       "\n",
       "[746 rows x 2 columns]"
      ]
     },
     "execution_count": 59,
     "metadata": {},
     "output_type": "execute_result"
    }
   ],
   "source": [
    "sqm_ca"
   ]
  },
  {
   "cell_type": "markdown",
   "metadata": {},
   "source": [
    "Creating the final dataframe translated into Spanish."
   ]
  },
  {
   "cell_type": "code",
   "execution_count": 60,
   "metadata": {},
   "outputs": [
    {
     "data": {
      "text/html": [
       "<div>\n",
       "<style scoped>\n",
       "    .dataframe tbody tr th:only-of-type {\n",
       "        vertical-align: middle;\n",
       "    }\n",
       "\n",
       "    .dataframe tbody tr th {\n",
       "        vertical-align: top;\n",
       "    }\n",
       "\n",
       "    .dataframe thead th {\n",
       "        text-align: right;\n",
       "    }\n",
       "</style>\n",
       "<table border=\"1\" class=\"dataframe\">\n",
       "  <thead>\n",
       "    <tr style=\"text-align: right;\">\n",
       "      <th></th>\n",
       "      <th>Nombre Distrito</th>\n",
       "      <th>Nombre Barrio</th>\n",
       "      <th>Precio Medio Vivienda</th>\n",
       "      <th>Año</th>\n",
       "      <th>Trimestre</th>\n",
       "      <th>Código Distrito</th>\n",
       "      <th>Código Barrio</th>\n",
       "      <th>Superficie Media (M2)</th>\n",
       "    </tr>\n",
       "  </thead>\n",
       "  <tbody>\n",
       "    <tr>\n",
       "      <td>0</td>\n",
       "      <td>Ciutat Vella</td>\n",
       "      <td>el Raval</td>\n",
       "      <td>Total</td>\n",
       "      <td>2019</td>\n",
       "      <td>1</td>\n",
       "      <td>1</td>\n",
       "      <td>1</td>\n",
       "      <td>58.9</td>\n",
       "    </tr>\n",
       "    <tr>\n",
       "      <td>1</td>\n",
       "      <td>Ciutat Vella</td>\n",
       "      <td>el Barrio Gótico</td>\n",
       "      <td>Total</td>\n",
       "      <td>2019</td>\n",
       "      <td>1</td>\n",
       "      <td>1</td>\n",
       "      <td>2</td>\n",
       "      <td>84.9</td>\n",
       "    </tr>\n",
       "    <tr>\n",
       "      <td>2</td>\n",
       "      <td>Ciutat Vella</td>\n",
       "      <td>la Barceloneta</td>\n",
       "      <td>Total</td>\n",
       "      <td>2019</td>\n",
       "      <td>1</td>\n",
       "      <td>1</td>\n",
       "      <td>3</td>\n",
       "      <td>45.7</td>\n",
       "    </tr>\n",
       "    <tr>\n",
       "      <td>3</td>\n",
       "      <td>Ciutat Vella</td>\n",
       "      <td>San Pedro, Santa Caterina y la Ribera</td>\n",
       "      <td>Total</td>\n",
       "      <td>2019</td>\n",
       "      <td>1</td>\n",
       "      <td>1</td>\n",
       "      <td>4</td>\n",
       "      <td>65.3</td>\n",
       "    </tr>\n",
       "    <tr>\n",
       "      <td>4</td>\n",
       "      <td>Eixample</td>\n",
       "      <td>el Fort Pienc</td>\n",
       "      <td>Total</td>\n",
       "      <td>2019</td>\n",
       "      <td>1</td>\n",
       "      <td>2</td>\n",
       "      <td>5</td>\n",
       "      <td>97.4</td>\n",
       "    </tr>\n",
       "    <tr>\n",
       "      <td>...</td>\n",
       "      <td>...</td>\n",
       "      <td>...</td>\n",
       "      <td>...</td>\n",
       "      <td>...</td>\n",
       "      <td>...</td>\n",
       "      <td>...</td>\n",
       "      <td>...</td>\n",
       "      <td>...</td>\n",
       "    </tr>\n",
       "    <tr>\n",
       "      <td>1163</td>\n",
       "      <td>Sant Martí</td>\n",
       "      <td>Diagonal Mar i el Front Marítim del Poblenou</td>\n",
       "      <td>vivienda usada</td>\n",
       "      <td>2019</td>\n",
       "      <td>4</td>\n",
       "      <td>10</td>\n",
       "      <td>69</td>\n",
       "      <td>82.1</td>\n",
       "    </tr>\n",
       "    <tr>\n",
       "      <td>1164</td>\n",
       "      <td>Sant Martí</td>\n",
       "      <td>el Besòs y el Maresme</td>\n",
       "      <td>vivienda usada</td>\n",
       "      <td>2019</td>\n",
       "      <td>4</td>\n",
       "      <td>10</td>\n",
       "      <td>70</td>\n",
       "      <td>68.5</td>\n",
       "    </tr>\n",
       "    <tr>\n",
       "      <td>1165</td>\n",
       "      <td>Sant Martí</td>\n",
       "      <td>Provençals del Poblenou</td>\n",
       "      <td>vivienda usada</td>\n",
       "      <td>2019</td>\n",
       "      <td>4</td>\n",
       "      <td>10</td>\n",
       "      <td>71</td>\n",
       "      <td>75.5</td>\n",
       "    </tr>\n",
       "    <tr>\n",
       "      <td>1166</td>\n",
       "      <td>Sant Martí</td>\n",
       "      <td>Sant Martí de Provençals</td>\n",
       "      <td>vivienda usada</td>\n",
       "      <td>2019</td>\n",
       "      <td>4</td>\n",
       "      <td>10</td>\n",
       "      <td>72</td>\n",
       "      <td>70.6</td>\n",
       "    </tr>\n",
       "    <tr>\n",
       "      <td>1167</td>\n",
       "      <td>Sant Martí</td>\n",
       "      <td>la Verneda y la Paz</td>\n",
       "      <td>vivienda usada</td>\n",
       "      <td>2019</td>\n",
       "      <td>4</td>\n",
       "      <td>10</td>\n",
       "      <td>73</td>\n",
       "      <td>72.4</td>\n",
       "    </tr>\n",
       "  </tbody>\n",
       "</table>\n",
       "<p>746 rows × 8 columns</p>\n",
       "</div>"
      ],
      "text/plain": [
       "     Nombre Distrito                                 Nombre Barrio  \\\n",
       "0       Ciutat Vella                                      el Raval   \n",
       "1       Ciutat Vella                              el Barrio Gótico   \n",
       "2       Ciutat Vella                                la Barceloneta   \n",
       "3       Ciutat Vella         San Pedro, Santa Caterina y la Ribera   \n",
       "4           Eixample                                 el Fort Pienc   \n",
       "...              ...                                           ...   \n",
       "1163      Sant Martí  Diagonal Mar i el Front Marítim del Poblenou   \n",
       "1164      Sant Martí                         el Besòs y el Maresme   \n",
       "1165      Sant Martí                       Provençals del Poblenou   \n",
       "1166      Sant Martí                      Sant Martí de Provençals   \n",
       "1167      Sant Martí                           la Verneda y la Paz   \n",
       "\n",
       "     Precio Medio Vivienda   Año  Trimestre  Código Distrito  Código Barrio  \\\n",
       "0                    Total  2019          1                1              1   \n",
       "1                    Total  2019          1                1              2   \n",
       "2                    Total  2019          1                1              3   \n",
       "3                    Total  2019          1                1              4   \n",
       "4                    Total  2019          1                2              5   \n",
       "...                    ...   ...        ...              ...            ...   \n",
       "1163        vivienda usada  2019          4               10             69   \n",
       "1164        vivienda usada  2019          4               10             70   \n",
       "1165        vivienda usada  2019          4               10             71   \n",
       "1166        vivienda usada  2019          4               10             72   \n",
       "1167        vivienda usada  2019          4               10             73   \n",
       "\n",
       "      Superficie Media (M2)  \n",
       "0                      58.9  \n",
       "1                      84.9  \n",
       "2                      45.7  \n",
       "3                      65.3  \n",
       "4                      97.4  \n",
       "...                     ...  \n",
       "1163                   82.1  \n",
       "1164                   68.5  \n",
       "1165                   75.5  \n",
       "1166                   70.6  \n",
       "1167                   72.4  \n",
       "\n",
       "[746 rows x 8 columns]"
      ]
     },
     "execution_count": 60,
     "metadata": {},
     "output_type": "execute_result"
    }
   ],
   "source": [
    "sqm_es = pd.concat([sqm_district, sqm_ca, num_name], axis=1)\n",
    "sqm_es"
   ]
  },
  {
   "cell_type": "code",
   "execution_count": 61,
   "metadata": {},
   "outputs": [
    {
     "data": {
      "text/html": [
       "<div>\n",
       "<style scoped>\n",
       "    .dataframe tbody tr th:only-of-type {\n",
       "        vertical-align: middle;\n",
       "    }\n",
       "\n",
       "    .dataframe tbody tr th {\n",
       "        vertical-align: top;\n",
       "    }\n",
       "\n",
       "    .dataframe thead th {\n",
       "        text-align: right;\n",
       "    }\n",
       "</style>\n",
       "<table border=\"1\" class=\"dataframe\">\n",
       "  <thead>\n",
       "    <tr style=\"text-align: right;\">\n",
       "      <th></th>\n",
       "      <th>Nombre Distrito</th>\n",
       "      <th>Nombre Barrio</th>\n",
       "      <th>Superficie Media (M2)</th>\n",
       "    </tr>\n",
       "  </thead>\n",
       "  <tbody>\n",
       "    <tr>\n",
       "      <td>0</td>\n",
       "      <td>Ciutat Vella</td>\n",
       "      <td>el Raval</td>\n",
       "      <td>58.9</td>\n",
       "    </tr>\n",
       "    <tr>\n",
       "      <td>1</td>\n",
       "      <td>Ciutat Vella</td>\n",
       "      <td>el Barrio Gótico</td>\n",
       "      <td>84.9</td>\n",
       "    </tr>\n",
       "    <tr>\n",
       "      <td>2</td>\n",
       "      <td>Ciutat Vella</td>\n",
       "      <td>la Barceloneta</td>\n",
       "      <td>45.7</td>\n",
       "    </tr>\n",
       "    <tr>\n",
       "      <td>3</td>\n",
       "      <td>Ciutat Vella</td>\n",
       "      <td>San Pedro, Santa Caterina y la Ribera</td>\n",
       "      <td>65.3</td>\n",
       "    </tr>\n",
       "    <tr>\n",
       "      <td>4</td>\n",
       "      <td>Eixample</td>\n",
       "      <td>el Fort Pienc</td>\n",
       "      <td>97.4</td>\n",
       "    </tr>\n",
       "    <tr>\n",
       "      <td>...</td>\n",
       "      <td>...</td>\n",
       "      <td>...</td>\n",
       "      <td>...</td>\n",
       "    </tr>\n",
       "    <tr>\n",
       "      <td>1163</td>\n",
       "      <td>Sant Martí</td>\n",
       "      <td>Diagonal Mar i el Front Marítim del Poblenou</td>\n",
       "      <td>82.1</td>\n",
       "    </tr>\n",
       "    <tr>\n",
       "      <td>1164</td>\n",
       "      <td>Sant Martí</td>\n",
       "      <td>el Besòs y el Maresme</td>\n",
       "      <td>68.5</td>\n",
       "    </tr>\n",
       "    <tr>\n",
       "      <td>1165</td>\n",
       "      <td>Sant Martí</td>\n",
       "      <td>Provençals del Poblenou</td>\n",
       "      <td>75.5</td>\n",
       "    </tr>\n",
       "    <tr>\n",
       "      <td>1166</td>\n",
       "      <td>Sant Martí</td>\n",
       "      <td>Sant Martí de Provençals</td>\n",
       "      <td>70.6</td>\n",
       "    </tr>\n",
       "    <tr>\n",
       "      <td>1167</td>\n",
       "      <td>Sant Martí</td>\n",
       "      <td>la Verneda y la Paz</td>\n",
       "      <td>72.4</td>\n",
       "    </tr>\n",
       "  </tbody>\n",
       "</table>\n",
       "<p>746 rows × 3 columns</p>\n",
       "</div>"
      ],
      "text/plain": [
       "     Nombre Distrito                                 Nombre Barrio  \\\n",
       "0       Ciutat Vella                                      el Raval   \n",
       "1       Ciutat Vella                              el Barrio Gótico   \n",
       "2       Ciutat Vella                                la Barceloneta   \n",
       "3       Ciutat Vella         San Pedro, Santa Caterina y la Ribera   \n",
       "4           Eixample                                 el Fort Pienc   \n",
       "...              ...                                           ...   \n",
       "1163      Sant Martí  Diagonal Mar i el Front Marítim del Poblenou   \n",
       "1164      Sant Martí                         el Besòs y el Maresme   \n",
       "1165      Sant Martí                       Provençals del Poblenou   \n",
       "1166      Sant Martí                      Sant Martí de Provençals   \n",
       "1167      Sant Martí                           la Verneda y la Paz   \n",
       "\n",
       "      Superficie Media (M2)  \n",
       "0                      58.9  \n",
       "1                      84.9  \n",
       "2                      45.7  \n",
       "3                      65.3  \n",
       "4                      97.4  \n",
       "...                     ...  \n",
       "1163                   82.1  \n",
       "1164                   68.5  \n",
       "1165                   75.5  \n",
       "1166                   70.6  \n",
       "1167                   72.4  \n",
       "\n",
       "[746 rows x 3 columns]"
      ]
     },
     "execution_count": 61,
     "metadata": {},
     "output_type": "execute_result"
    }
   ],
   "source": [
    "final_sqm = sqm_es[['Nombre Distrito','Nombre Barrio','Superficie Media (M2)']]\n",
    "final_sqm"
   ]
  },
  {
   "cell_type": "code",
   "execution_count": 62,
   "metadata": {},
   "outputs": [
    {
     "name": "stderr",
     "output_type": "stream",
     "text": [
      "D:\\ANACONDA\\lib\\site-packages\\pandas\\core\\frame.py:4223: SettingWithCopyWarning: \n",
      "A value is trying to be set on a copy of a slice from a DataFrame\n",
      "\n",
      "See the caveats in the documentation: http://pandas.pydata.org/pandas-docs/stable/user_guide/indexing.html#returning-a-view-versus-a-copy\n",
      "  return super().rename(**kwargs)\n"
     ]
    }
   ],
   "source": [
    "final_sqm.rename(columns={'Nombre Distrito':'Distrito','Nombre Barrio':'Barrio','Superficie Media (M2)':'Superficie media casa (mq)'}, inplace=True)"
   ]
  },
  {
   "cell_type": "code",
   "execution_count": 63,
   "metadata": {},
   "outputs": [
    {
     "name": "stdout",
     "output_type": "stream",
     "text": [
      "Dimensions final DF-OpenDataBCN: 746 rows x 3 columns\n"
     ]
    }
   ],
   "source": [
    "print(f'Dimensions final DF-OpenDataBCN: {final_sqm.shape[0]} rows x {final_sqm.shape[1]} columns')"
   ]
  },
  {
   "cell_type": "markdown",
   "metadata": {},
   "source": [
    "Printing the summary (info) of the data and checking missing data in the dataset."
   ]
  },
  {
   "cell_type": "code",
   "execution_count": 64,
   "metadata": {},
   "outputs": [
    {
     "name": "stdout",
     "output_type": "stream",
     "text": [
      "<class 'pandas.core.frame.DataFrame'>\n",
      "Int64Index: 746 entries, 0 to 1167\n",
      "Data columns (total 3 columns):\n",
      "Distrito                      746 non-null object\n",
      "Barrio                        746 non-null object\n",
      "Superficie media casa (mq)    746 non-null float64\n",
      "dtypes: float64(1), object(2)\n",
      "memory usage: 23.3+ KB\n"
     ]
    }
   ],
   "source": [
    "final_sqm.info()"
   ]
  },
  {
   "cell_type": "code",
   "execution_count": 65,
   "metadata": {},
   "outputs": [
    {
     "data": {
      "text/plain": [
       "Distrito                      0\n",
       "Barrio                        0\n",
       "Superficie media casa (mq)    0\n",
       "dtype: int64"
      ]
     },
     "execution_count": 65,
     "metadata": {},
     "output_type": "execute_result"
    }
   ],
   "source": [
    "final_sqm.isna().sum()"
   ]
  },
  {
   "cell_type": "markdown",
   "metadata": {},
   "source": [
    "## 3.Create Dataframes for Statistical Analysis"
   ]
  },
  {
   "cell_type": "markdown",
   "metadata": {},
   "source": [
    "The **final goal** is to obtain a **two dataframes** (dogs, houses) that can be used for the **Statistical Analysis**."
   ]
  },
  {
   "cell_type": "markdown",
   "metadata": {},
   "source": [
    "## 3.1 Dogs"
   ]
  },
  {
   "cell_type": "markdown",
   "metadata": {},
   "source": [
    "### 3.1 Protectora Barcelona"
   ]
  },
  {
   "cell_type": "code",
   "execution_count": 66,
   "metadata": {},
   "outputs": [
    {
     "name": "stdout",
     "output_type": "stream",
     "text": [
      "Dimensions final DF-ProtectoraBCN: 44 rows x 22 columns\n",
      "Columns final DF-ProtectoraBCN: ['Nombre', 'Caracteristicas', 'Foto', 'URL', 'Codigo', 'Animal', 'Sexo', 'Medidas', 'Edad', 'Color', 'Raza', 'Nacimiento', 'Entrada', 'Descripción', 'Estado', 'Años perrera', 'Descripción_norm', 'Descripción_lemm', 'Descripción_lemm_join', 'Actividad', 'Compañia', 'Caracter']\n"
     ]
    }
   ],
   "source": [
    "print(f'Dimensions final DF-ProtectoraBCN: {adoptable_dogs.shape[0]} rows x {adoptable_dogs.shape[1]} columns')\n",
    "print(f'Columns final DF-ProtectoraBCN: {list(adoptable_dogs.columns)}')"
   ]
  },
  {
   "cell_type": "markdown",
   "metadata": {},
   "source": [
    "Dropping unnecessary columns."
   ]
  },
  {
   "cell_type": "code",
   "execution_count": 67,
   "metadata": {},
   "outputs": [
    {
     "data": {
      "text/html": [
       "<div>\n",
       "<style scoped>\n",
       "    .dataframe tbody tr th:only-of-type {\n",
       "        vertical-align: middle;\n",
       "    }\n",
       "\n",
       "    .dataframe tbody tr th {\n",
       "        vertical-align: top;\n",
       "    }\n",
       "\n",
       "    .dataframe thead th {\n",
       "        text-align: right;\n",
       "    }\n",
       "</style>\n",
       "<table border=\"1\" class=\"dataframe\">\n",
       "  <thead>\n",
       "    <tr style=\"text-align: right;\">\n",
       "      <th></th>\n",
       "      <th>Nombre</th>\n",
       "      <th>Caracteristicas</th>\n",
       "      <th>Sexo</th>\n",
       "      <th>Medidas</th>\n",
       "      <th>Edad</th>\n",
       "      <th>Color</th>\n",
       "      <th>Raza</th>\n",
       "      <th>Nacimiento</th>\n",
       "      <th>Entrada</th>\n",
       "      <th>Años perrera</th>\n",
       "      <th>Estado</th>\n",
       "      <th>Actividad</th>\n",
       "      <th>Compañia</th>\n",
       "      <th>Caracter</th>\n",
       "    </tr>\n",
       "  </thead>\n",
       "  <tbody>\n",
       "    <tr>\n",
       "      <td>0</td>\n",
       "      <td>Gina</td>\n",
       "      <td>Curiosa y elegante</td>\n",
       "      <td>Hembra</td>\n",
       "      <td>Grande</td>\n",
       "      <td>Adulto</td>\n",
       "      <td>Blanco</td>\n",
       "      <td>Mestizo</td>\n",
       "      <td>2010</td>\n",
       "      <td>02/2014</td>\n",
       "      <td>4.1 years</td>\n",
       "      <td>En Adopción</td>\n",
       "      <td>Actividad Normal</td>\n",
       "      <td>Compañia</td>\n",
       "      <td>Cariñoso</td>\n",
       "    </tr>\n",
       "    <tr>\n",
       "      <td>1</td>\n",
       "      <td>Horus</td>\n",
       "      <td>Una familia con dedicación</td>\n",
       "      <td>Macho</td>\n",
       "      <td>Grande</td>\n",
       "      <td>Joven</td>\n",
       "      <td>Marron oscuro</td>\n",
       "      <td>Mestizo de Pastor Alemán</td>\n",
       "      <td>03/2016</td>\n",
       "      <td>09/2017</td>\n",
       "      <td>1.5 years</td>\n",
       "      <td>En Adopción</td>\n",
       "      <td>Actividad Normal</td>\n",
       "      <td>Compañia</td>\n",
       "      <td>Difícil</td>\n",
       "    </tr>\n",
       "    <tr>\n",
       "      <td>2</td>\n",
       "      <td>Muñeca</td>\n",
       "      <td>Preparada para volver a empezar</td>\n",
       "      <td>Hembra</td>\n",
       "      <td>Mediano</td>\n",
       "      <td>Adulto</td>\n",
       "      <td>Negro</td>\n",
       "      <td>Mestizo</td>\n",
       "      <td>02/2012</td>\n",
       "      <td>07/2018</td>\n",
       "      <td>6.4 years</td>\n",
       "      <td>En Adopción</td>\n",
       "      <td>Actividad Normal</td>\n",
       "      <td>Compañia</td>\n",
       "      <td>Cariñoso</td>\n",
       "    </tr>\n",
       "    <tr>\n",
       "      <td>3</td>\n",
       "      <td>Goliath</td>\n",
       "      <td>Necesita un hogar urgente</td>\n",
       "      <td>Macho</td>\n",
       "      <td>Grande</td>\n",
       "      <td>Joven</td>\n",
       "      <td>Gris</td>\n",
       "      <td>Fila Brasileiro</td>\n",
       "      <td>03/2018</td>\n",
       "      <td>02/2019</td>\n",
       "      <td>0.9 years</td>\n",
       "      <td>Urgente</td>\n",
       "      <td>Actividad Normal</td>\n",
       "      <td>No Apto con perros, gatos, niños</td>\n",
       "      <td>Difícil</td>\n",
       "    </tr>\n",
       "    <tr>\n",
       "      <td>4</td>\n",
       "      <td>Bruno</td>\n",
       "      <td>Una persona que lo entienda</td>\n",
       "      <td>Macho</td>\n",
       "      <td>Pequeño</td>\n",
       "      <td>Adulto</td>\n",
       "      <td>Beig</td>\n",
       "      <td>Mestizo de Terrier</td>\n",
       "      <td>10/2011</td>\n",
       "      <td>01/2018</td>\n",
       "      <td>6.3 years</td>\n",
       "      <td>En Adopción</td>\n",
       "      <td>Actividad Normal</td>\n",
       "      <td>Compañia</td>\n",
       "      <td>Cariñoso</td>\n",
       "    </tr>\n",
       "  </tbody>\n",
       "</table>\n",
       "</div>"
      ],
      "text/plain": [
       "    Nombre                  Caracteristicas    Sexo  Medidas    Edad  \\\n",
       "0     Gina               Curiosa y elegante  Hembra   Grande  Adulto   \n",
       "1    Horus       Una familia con dedicación   Macho   Grande   Joven   \n",
       "2   Muñeca  Preparada para volver a empezar  Hembra  Mediano  Adulto   \n",
       "3  Goliath        Necesita un hogar urgente   Macho   Grande   Joven   \n",
       "4    Bruno      Una persona que lo entienda   Macho  Pequeño  Adulto   \n",
       "\n",
       "           Color                      Raza Nacimiento  Entrada Años perrera  \\\n",
       "0         Blanco                   Mestizo       2010  02/2014    4.1 years   \n",
       "1  Marron oscuro  Mestizo de Pastor Alemán    03/2016  09/2017    1.5 years   \n",
       "2          Negro                   Mestizo    02/2012  07/2018    6.4 years   \n",
       "3           Gris           Fila Brasileiro    03/2018  02/2019    0.9 years   \n",
       "4           Beig        Mestizo de Terrier    10/2011  01/2018    6.3 years   \n",
       "\n",
       "        Estado         Actividad                          Compañia  Caracter  \n",
       "0  En Adopción  Actividad Normal                          Compañia  Cariñoso  \n",
       "1  En Adopción  Actividad Normal                          Compañia   Difícil  \n",
       "2  En Adopción  Actividad Normal                          Compañia  Cariñoso  \n",
       "3      Urgente  Actividad Normal  No Apto con perros, gatos, niños   Difícil  \n",
       "4  En Adopción  Actividad Normal                          Compañia  Cariñoso  "
      ]
     },
     "execution_count": 67,
     "metadata": {},
     "output_type": "execute_result"
    }
   ],
   "source": [
    "dogs_df=adoptable_dogs[['Nombre', 'Caracteristicas', 'Sexo', 'Medidas', 'Edad', 'Color', 'Raza', \n",
    "                'Nacimiento', 'Entrada', 'Años perrera', 'Estado', 'Actividad', 'Compañia', 'Caracter']]\n",
    "dogs_df.head()"
   ]
  },
  {
   "cell_type": "code",
   "execution_count": 68,
   "metadata": {},
   "outputs": [
    {
     "name": "stdout",
     "output_type": "stream",
     "text": [
      "Dimensions final DF-OpenDataBCN: 44 rows x 14 columns\n"
     ]
    }
   ],
   "source": [
    "print(f'Dimensions final DF-OpenDataBCN: {dogs_df.shape[0]} rows x {dogs_df.shape[1]} columns')"
   ]
  },
  {
   "cell_type": "markdown",
   "metadata": {},
   "source": [
    "### Summary (info)"
   ]
  },
  {
   "cell_type": "code",
   "execution_count": 69,
   "metadata": {},
   "outputs": [
    {
     "name": "stdout",
     "output_type": "stream",
     "text": [
      "<class 'pandas.core.frame.DataFrame'>\n",
      "RangeIndex: 44 entries, 0 to 43\n",
      "Data columns (total 14 columns):\n",
      "Nombre             44 non-null object\n",
      "Caracteristicas    44 non-null object\n",
      "Sexo               44 non-null object\n",
      "Medidas            44 non-null object\n",
      "Edad               44 non-null object\n",
      "Color              44 non-null object\n",
      "Raza               44 non-null object\n",
      "Nacimiento         44 non-null object\n",
      "Entrada            44 non-null object\n",
      "Años perrera       44 non-null object\n",
      "Estado             44 non-null object\n",
      "Actividad          44 non-null object\n",
      "Compañia           44 non-null object\n",
      "Caracter           44 non-null object\n",
      "dtypes: object(14)\n",
      "memory usage: 4.9+ KB\n"
     ]
    }
   ],
   "source": [
    "dogs_df.info()"
   ]
  },
  {
   "cell_type": "markdown",
   "metadata": {},
   "source": [
    "## Houses"
   ]
  },
  {
   "cell_type": "markdown",
   "metadata": {},
   "source": []
  },
  {
   "cell_type": "markdown",
   "metadata": {},
   "source": [
    "### 3.2.1 ICanWalk"
   ]
  },
  {
   "cell_type": "code",
   "execution_count": 70,
   "metadata": {},
   "outputs": [
    {
     "name": "stdout",
     "output_type": "stream",
     "text": [
      "Dimensions final DF-DogParks: 105 rows x 3 columns\n",
      "Columns final DF-DogParks: ['Distrito', 'Parque', 'Superficie parque (mq)']\n"
     ]
    }
   ],
   "source": [
    "print(f'Dimensions final DF-DogParks: {dogs_parks.shape[0]} rows x {dogs_parks.shape[1]} columns')\n",
    "print(f'Columns final DF-DogParks: {list(dogs_parks.columns)}')"
   ]
  },
  {
   "cell_type": "markdown",
   "metadata": {},
   "source": [
    "### 3.2.2 Open Data Barcelona"
   ]
  },
  {
   "cell_type": "code",
   "execution_count": 71,
   "metadata": {},
   "outputs": [
    {
     "name": "stdout",
     "output_type": "stream",
     "text": [
      "Dimensions final DF-OpenDataBCN: 746 rows x 3 columns\n",
      "Columns DF-OpenDataBCN: ['Distrito', 'Barrio', 'Superficie media casa (mq)']\n"
     ]
    }
   ],
   "source": [
    "print(f'Dimensions final DF-OpenDataBCN: {final_sqm.shape[0]} rows x {final_sqm.shape[1]} columns')\n",
    "print(f'Columns DF-OpenDataBCN: {list(final_sqm.columns)}')"
   ]
  },
  {
   "cell_type": "markdown",
   "metadata": {},
   "source": [
    "Formatting **District** column of the final_sqm Dataset in order to **merge** it with the dog_parks'one."
   ]
  },
  {
   "cell_type": "code",
   "execution_count": 72,
   "metadata": {},
   "outputs": [
    {
     "data": {
      "text/plain": [
       "array(['Ciutat Vella', 'l’Eixample', 'Gràcia', 'Horta-Guinardó',\n",
       "       'Les Corts', 'Nou Barris', 'Sant Andreu', 'Sant Martí',\n",
       "       'Sants-Montjuïc', 'Sarrià-Sant Gervasi'], dtype=object)"
      ]
     },
     "execution_count": 72,
     "metadata": {},
     "output_type": "execute_result"
    }
   ],
   "source": [
    "dogs_parks['Distrito'].unique()"
   ]
  },
  {
   "cell_type": "code",
   "execution_count": 73,
   "metadata": {},
   "outputs": [
    {
     "data": {
      "text/plain": [
       "array(['Ciutat Vella', 'Eixample', 'Sants-Montjuïc', 'Les Corts',\n",
       "       'Sarrià-Sant Gervasi', 'Gràcia', 'Horta-Guinardó', 'Nou Barris',\n",
       "       'Sant Andreu', 'Sant Martí'], dtype=object)"
      ]
     },
     "execution_count": 73,
     "metadata": {},
     "output_type": "execute_result"
    }
   ],
   "source": [
    "final_sqm['Distrito'].unique()"
   ]
  },
  {
   "cell_type": "code",
   "execution_count": 74,
   "metadata": {},
   "outputs": [
    {
     "name": "stderr",
     "output_type": "stream",
     "text": [
      "D:\\ANACONDA\\lib\\site-packages\\pandas\\core\\frame.py:4263: SettingWithCopyWarning: \n",
      "A value is trying to be set on a copy of a slice from a DataFrame\n",
      "\n",
      "See the caveats in the documentation: http://pandas.pydata.org/pandas-docs/stable/user_guide/indexing.html#returning-a-view-versus-a-copy\n",
      "  method=method,\n"
     ]
    }
   ],
   "source": [
    "final_sqm.replace({'Eixample': 'l’Eixample'}, inplace=True)"
   ]
  },
  {
   "cell_type": "code",
   "execution_count": 75,
   "metadata": {},
   "outputs": [
    {
     "data": {
      "text/html": [
       "<div>\n",
       "<style scoped>\n",
       "    .dataframe tbody tr th:only-of-type {\n",
       "        vertical-align: middle;\n",
       "    }\n",
       "\n",
       "    .dataframe tbody tr th {\n",
       "        vertical-align: top;\n",
       "    }\n",
       "\n",
       "    .dataframe thead th {\n",
       "        text-align: right;\n",
       "    }\n",
       "</style>\n",
       "<table border=\"1\" class=\"dataframe\">\n",
       "  <thead>\n",
       "    <tr style=\"text-align: right;\">\n",
       "      <th></th>\n",
       "      <th>Distrito</th>\n",
       "      <th>Parque</th>\n",
       "      <th>Superficie parque (mq)</th>\n",
       "      <th>Barrio</th>\n",
       "      <th>Superficie media casa (mq)</th>\n",
       "    </tr>\n",
       "  </thead>\n",
       "  <tbody>\n",
       "    <tr>\n",
       "      <td>0</td>\n",
       "      <td>Ciutat Vella</td>\n",
       "      <td>Parc de la Ciutadella</td>\n",
       "      <td>1</td>\n",
       "      <td>el Raval</td>\n",
       "      <td>58.9</td>\n",
       "    </tr>\n",
       "    <tr>\n",
       "      <td>1</td>\n",
       "      <td>Ciutat Vella</td>\n",
       "      <td>Parc de la Ciutadella</td>\n",
       "      <td>1</td>\n",
       "      <td>el Barrio Gótico</td>\n",
       "      <td>84.9</td>\n",
       "    </tr>\n",
       "    <tr>\n",
       "      <td>2</td>\n",
       "      <td>Ciutat Vella</td>\n",
       "      <td>Parc de la Ciutadella</td>\n",
       "      <td>1</td>\n",
       "      <td>la Barceloneta</td>\n",
       "      <td>45.7</td>\n",
       "    </tr>\n",
       "    <tr>\n",
       "      <td>3</td>\n",
       "      <td>Ciutat Vella</td>\n",
       "      <td>Parc de la Ciutadella</td>\n",
       "      <td>1</td>\n",
       "      <td>San Pedro, Santa Caterina y la Ribera</td>\n",
       "      <td>65.3</td>\n",
       "    </tr>\n",
       "    <tr>\n",
       "      <td>4</td>\n",
       "      <td>Ciutat Vella</td>\n",
       "      <td>Parc de la Ciutadella</td>\n",
       "      <td>1</td>\n",
       "      <td>el Raval</td>\n",
       "      <td>59.6</td>\n",
       "    </tr>\n",
       "  </tbody>\n",
       "</table>\n",
       "</div>"
      ],
      "text/plain": [
       "       Distrito                 Parque  Superficie parque (mq)  \\\n",
       "0  Ciutat Vella  Parc de la Ciutadella                       1   \n",
       "1  Ciutat Vella  Parc de la Ciutadella                       1   \n",
       "2  Ciutat Vella  Parc de la Ciutadella                       1   \n",
       "3  Ciutat Vella  Parc de la Ciutadella                       1   \n",
       "4  Ciutat Vella  Parc de la Ciutadella                       1   \n",
       "\n",
       "                                  Barrio  Superficie media casa (mq)  \n",
       "0                               el Raval                        58.9  \n",
       "1                       el Barrio Gótico                        84.9  \n",
       "2                         la Barceloneta                        45.7  \n",
       "3  San Pedro, Santa Caterina y la Ribera                        65.3  \n",
       "4                               el Raval                        59.6  "
      ]
     },
     "execution_count": 75,
     "metadata": {},
     "output_type": "execute_result"
    }
   ],
   "source": [
    "houses_df=pd.merge(dogs_parks, final_sqm, on='Distrito')\n",
    "houses_df.head()"
   ]
  },
  {
   "cell_type": "code",
   "execution_count": 76,
   "metadata": {},
   "outputs": [
    {
     "name": "stdout",
     "output_type": "stream",
     "text": [
      "Dimensions final merge_DF: 8004 rows x 5 columns\n"
     ]
    }
   ],
   "source": [
    "print(f'Dimensions final merge_DF: {houses_df.shape[0]} rows x {houses_df.shape[1]} columns')"
   ]
  },
  {
   "cell_type": "code",
   "execution_count": 77,
   "metadata": {},
   "outputs": [],
   "source": [
    "houses_final = houses_df[['Distrito','Barrio','Superficie media casa (mq)','Parque','Superficie parque (mq)',]]"
   ]
  },
  {
   "cell_type": "code",
   "execution_count": 78,
   "metadata": {},
   "outputs": [
    {
     "name": "stdout",
     "output_type": "stream",
     "text": [
      "Dimensions final merge_DF: 8004 rows x 5 columns\n"
     ]
    }
   ],
   "source": [
    "print(f'Dimensions final merge_DF: {houses_final.shape[0]} rows x {houses_final.shape[1]} columns')"
   ]
  },
  {
   "cell_type": "markdown",
   "metadata": {},
   "source": [
    "## 4.Export Dataframes"
   ]
  },
  {
   "cell_type": "markdown",
   "metadata": {},
   "source": [
    "Export final dataframe in csv."
   ]
  },
  {
   "cell_type": "markdown",
   "metadata": {},
   "source": [
    "### 4.1 Dogs"
   ]
  },
  {
   "cell_type": "code",
   "execution_count": 79,
   "metadata": {},
   "outputs": [
    {
     "data": {
      "text/plain": [
       "'dogs 05-10-2020_14-54.csv'"
      ]
     },
     "execution_count": 79,
     "metadata": {},
     "output_type": "execute_result"
    }
   ],
   "source": [
    "dogs = 'dogs '+time.strftime('%d-%m-%Y_%H-%M')+'.csv'\n",
    "dogs"
   ]
  },
  {
   "cell_type": "code",
   "execution_count": 81,
   "metadata": {},
   "outputs": [],
   "source": [
    "dogs_df.to_csv('output_data-cleaning/'+dogs, sep=',', index=False)"
   ]
  },
  {
   "cell_type": "code",
   "execution_count": 82,
   "metadata": {},
   "outputs": [
    {
     "name": "stdout",
     "output_type": "stream",
     "text": [
      "Stored 'dogs' (str)\n"
     ]
    }
   ],
   "source": [
    "# Share data between Jupyter Notebooks\n",
    "%store dogs"
   ]
  },
  {
   "cell_type": "markdown",
   "metadata": {},
   "source": [
    "### 4.2 Houses"
   ]
  },
  {
   "cell_type": "code",
   "execution_count": 83,
   "metadata": {},
   "outputs": [],
   "source": [
    "houses = 'houses+parques.csv'"
   ]
  },
  {
   "cell_type": "code",
   "execution_count": 85,
   "metadata": {},
   "outputs": [],
   "source": [
    "houses_df.to_csv('output_data-cleaning/'+houses, sep=',', index=False)"
   ]
  },
  {
   "cell_type": "code",
   "execution_count": 86,
   "metadata": {},
   "outputs": [
    {
     "name": "stdout",
     "output_type": "stream",
     "text": [
      "Stored 'houses' (str)\n"
     ]
    }
   ],
   "source": [
    "# Share data between Jupyter Notebooks\n",
    "%store houses"
   ]
  },
  {
   "cell_type": "code",
   "execution_count": null,
   "metadata": {},
   "outputs": [],
   "source": []
  },
  {
   "cell_type": "code",
   "execution_count": null,
   "metadata": {},
   "outputs": [],
   "source": []
  }
 ],
 "metadata": {
  "kernelspec": {
   "display_name": "Python 3",
   "language": "python",
   "name": "python3"
  },
  "language_info": {
   "codemirror_mode": {
    "name": "ipython",
    "version": 3
   },
   "file_extension": ".py",
   "mimetype": "text/x-python",
   "name": "python",
   "nbconvert_exporter": "python",
   "pygments_lexer": "ipython3",
   "version": "3.7.4"
  }
 },
 "nbformat": 4,
 "nbformat_minor": 4
}
