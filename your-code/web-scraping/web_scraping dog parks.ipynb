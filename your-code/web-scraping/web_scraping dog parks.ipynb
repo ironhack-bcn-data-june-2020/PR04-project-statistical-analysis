{
 "cells": [
  {
   "cell_type": "markdown",
   "metadata": {},
   "source": [
    "# Dog parks in Barcelona"
   ]
  },
  {
   "cell_type": "markdown",
   "metadata": {},
   "source": [
    "**Associació Canina ICanWalk**\n",
    "\n",
    "**ICanWalk** is an association that want to promote *health*, *respect for the environmen*t and *enjoy quality time*, with the **best travel companion**."
   ]
  },
  {
   "cell_type": "markdown",
   "metadata": {},
   "source": [
    "<img src='../img/amy.jpg' width='400' height='400'/>"
   ]
  },
  {
   "cell_type": "markdown",
   "metadata": {},
   "source": [
    "Find the list of dog parks in Barcelona https://icanwalk.es/parques-caninos-en-barcelona/"
   ]
  },
  {
   "cell_type": "markdown",
   "metadata": {},
   "source": [
    "## 0.Import libraries"
   ]
  },
  {
   "cell_type": "code",
   "execution_count": 1,
   "metadata": {},
   "outputs": [],
   "source": [
    "import requests \n",
    "from bs4 import BeautifulSoup as bs\n",
    "import numpy as np\n",
    "import pandas as pd\n",
    "import re\n",
    "import time\n",
    "from itertools import *\n",
    "\n",
    "# import os\n",
    "# from urllib.parse import urlparse\n",
    "\n",
    "# Options for DataFrame visualization:\n",
    "pd.set_option('display.width', 1000)\n",
    "pd.set_option('display.max_columns', 40)\n",
    "# Option to show not truncated cells in pandas\n",
    "pd.set_option('display.max_colwidth', -1)"
   ]
  },
  {
   "cell_type": "markdown",
   "metadata": {},
   "source": [
    "## 1. Download and display the content of robots.txt"
   ]
  },
  {
   "cell_type": "code",
   "execution_count": 2,
   "metadata": {},
   "outputs": [
    {
     "name": "stdout",
     "output_type": "stream",
     "text": [
      "robots.txt for https://icanwalk.es/\n",
      "=====================================\n"
     ]
    },
    {
     "data": {
      "text/plain": [
       "{'DISALLOWED': ['/wp-admin/',\n",
       "  '/wp-login.php',\n",
       "  '/wp-signup.php',\n",
       "  '/press-this.php',\n",
       "  '/remote-login.php',\n",
       "  '/activate/',\n",
       "  '/cgi-bin/',\n",
       "  '/mshots/v1/',\n",
       "  '/next/',\n",
       "  '/public.api/'],\n",
       " 'ALLOWED': ['/wp-admin/admin-ajax.php']}"
      ]
     },
     "execution_count": 2,
     "metadata": {},
     "output_type": "execute_result"
    }
   ],
   "source": [
    "def robot_txt():\n",
    "    response = requests.get('https://icanwalk.es/robots.txt')\n",
    "    test = response.text\n",
    "    print('robots.txt for https://icanwalk.es/')\n",
    "    print('=====================================')\n",
    "    result_data_set = {'DISALLOWED':[], 'ALLOWED':[]}\n",
    "\n",
    "    for line in test.split('\\n'):\n",
    "        if line.startswith('Allow'):    # this is for allowed url\n",
    "            result_data_set['ALLOWED'].append(line.split(': ')[1].split(' ')[0])    \n",
    "        elif line.startswith('Disallow'):    # this is for disallowed url\n",
    "            result_data_set['DISALLOWED'].append(line.split(': ')[1].split(' ')[0])    \n",
    "\n",
    "    return result_data_set\n",
    "robot_txt()"
   ]
  },
  {
   "cell_type": "markdown",
   "metadata": {},
   "source": [
    "## 2. Create a random User Agent generator"
   ]
  },
  {
   "cell_type": "code",
   "execution_count": 3,
   "metadata": {},
   "outputs": [],
   "source": [
    "def get_random_ua():\n",
    "    random_ua = ''\n",
    "    ua_file = 'ua_file.txt'\n",
    "    try:\n",
    "        with open(ua_file) as f:\n",
    "            lines = f.readlines()\n",
    "        if len(lines) > 0:\n",
    "            # random.RandomState exposes a number of methods for generating random numbers drawn from a variety of probability distributions\n",
    "            prng = np.random.RandomState()\n",
    "            index = prng.permutation(len(lines) - 1)\n",
    "            idx = np.asarray(index, dtype=np.integer)[0]\n",
    "            random_ua = lines[int(idx)]\n",
    "    except Exception as ex:\n",
    "        print('Exception in random_ua')\n",
    "        print(str(ex))\n",
    "    finally:\n",
    "        return random_ua"
   ]
  },
  {
   "cell_type": "markdown",
   "metadata": {},
   "source": [
    "## 3. Web scraping"
   ]
  },
  {
   "cell_type": "markdown",
   "metadata": {},
   "source": [
    "Find the list of dog parks in Barcelona"
   ]
  },
  {
   "cell_type": "code",
   "execution_count": 4,
   "metadata": {},
   "outputs": [],
   "source": [
    "def dog_parks_scraper(url):\n",
    "    '''\n",
    "    Scraper for the list of the dogs parks in Barcelona\n",
    "    '''\n",
    "    user_agent = get_random_ua()\n",
    "    headers = {'user_agent':user_agent}\n",
    "    html = requests.get(url, headers).text\n",
    "    soup = bs(html, 'lxml')\n",
    "    \n",
    "    # create database with data from the table\n",
    "    tables = soup.find_all('table')\n",
    "    table = tables[0]\n",
    "#     print(table)\n",
    "    tab_data = [[cell.text for cell in row.find_all('td')]\n",
    "                            for row in table.find_all('tr')]\n",
    "\n",
    "    df = pd.DataFrame(tab_data)\n",
    "    df.columns = df.iloc[0,:]\n",
    "    df.drop(index=0,inplace=True)\n",
    "    df.reset_index(drop = True, inplace = True)\n",
    "    return df"
   ]
  },
  {
   "cell_type": "code",
   "execution_count": 5,
   "metadata": {},
   "outputs": [],
   "source": [
    "url = 'https://icanwalk.es/parques-caninos-en-barcelona/'\n",
    "df=dog_parks_scraper(url)"
   ]
  },
  {
   "cell_type": "code",
   "execution_count": 6,
   "metadata": {},
   "outputs": [
    {
     "data": {
      "text/html": [
       "<div>\n",
       "<style scoped>\n",
       "    .dataframe tbody tr th:only-of-type {\n",
       "        vertical-align: middle;\n",
       "    }\n",
       "\n",
       "    .dataframe tbody tr th {\n",
       "        vertical-align: top;\n",
       "    }\n",
       "\n",
       "    .dataframe thead th {\n",
       "        text-align: right;\n",
       "    }\n",
       "</style>\n",
       "<table border=\"1\" class=\"dataframe\">\n",
       "  <thead>\n",
       "    <tr style=\"text-align: right;\">\n",
       "      <th></th>\n",
       "      <th>Distrito/Dirección</th>\n",
       "      <th>Superficie (m2)</th>\n",
       "    </tr>\n",
       "  </thead>\n",
       "  <tbody>\n",
       "    <tr>\n",
       "      <td>0</td>\n",
       "      <td>Áreas para perros en el distrito de Ciutat Vella</td>\n",
       "      <td>None</td>\n",
       "    </tr>\n",
       "    <tr>\n",
       "      <td>1</td>\n",
       "      <td>Parc de la Ciutadella</td>\n",
       "      <td>287 m2</td>\n",
       "    </tr>\n",
       "    <tr>\n",
       "      <td>2</td>\n",
       "      <td>Parc de la Barceloneta</td>\n",
       "      <td>451 m2</td>\n",
       "    </tr>\n",
       "    <tr>\n",
       "      <td>3</td>\n",
       "      <td>Jardins de Sant Pau del Camp</td>\n",
       "      <td>227 m2</td>\n",
       "    </tr>\n",
       "    <tr>\n",
       "      <td>4</td>\n",
       "      <td></td>\n",
       "      <td></td>\n",
       "    </tr>\n",
       "    <tr>\n",
       "      <td>5</td>\n",
       "      <td>Áreas para perros en el distrito de l’Eixample\\n</td>\n",
       "      <td>None</td>\n",
       "    </tr>\n",
       "    <tr>\n",
       "      <td>6</td>\n",
       "      <td>Jardins Montserrat</td>\n",
       "      <td>38 m2</td>\n",
       "    </tr>\n",
       "    <tr>\n",
       "      <td>7</td>\n",
       "      <td>Pl. Doctor Letamendi</td>\n",
       "      <td>8 m2</td>\n",
       "    </tr>\n",
       "    <tr>\n",
       "      <td>8</td>\n",
       "      <td>Jardins de Doctor Duran i Reynals</td>\n",
       "      <td>83 m2</td>\n",
       "    </tr>\n",
       "    <tr>\n",
       "      <td>9</td>\n",
       "      <td>Pl. Sagrada Família</td>\n",
       "      <td>333 m2</td>\n",
       "    </tr>\n",
       "  </tbody>\n",
       "</table>\n",
       "</div>"
      ],
      "text/plain": [
       "0                                Distrito/Dirección Superficie (m2)\n",
       "0  Áreas para perros en el distrito de Ciutat Vella  None          \n",
       "1  Parc de la Ciutadella                             287 m2        \n",
       "2  Parc de la Barceloneta                            451 m2        \n",
       "3  Jardins de Sant Pau del Camp                      227 m2        \n",
       "4                                                                  \n",
       "5  Áreas para perros en el distrito de l’Eixample\\n  None          \n",
       "6  Jardins Montserrat                                38 m2         \n",
       "7  Pl. Doctor Letamendi                              8 m2          \n",
       "8  Jardins de Doctor Duran i Reynals                 83 m2         \n",
       "9  Pl. Sagrada Família                               333 m2        "
      ]
     },
     "execution_count": 6,
     "metadata": {},
     "output_type": "execute_result"
    }
   ],
   "source": [
    "df.head(10)"
   ]
  },
  {
   "cell_type": "markdown",
   "metadata": {},
   "source": [
    "## 4.EDA-Exploratory Data Analysis"
   ]
  },
  {
   "cell_type": "code",
   "execution_count": 7,
   "metadata": {},
   "outputs": [
    {
     "data": {
      "text/plain": [
       "(118, 2)"
      ]
     },
     "execution_count": 7,
     "metadata": {},
     "output_type": "execute_result"
    }
   ],
   "source": [
    "df.shape"
   ]
  },
  {
   "cell_type": "code",
   "execution_count": 8,
   "metadata": {},
   "outputs": [
    {
     "name": "stdout",
     "output_type": "stream",
     "text": [
      "<class 'pandas.core.frame.DataFrame'>\n",
      "RangeIndex: 118 entries, 0 to 117\n",
      "Data columns (total 2 columns):\n",
      "Distrito/Dirección    118 non-null object\n",
      "Superficie (m2)       108 non-null object\n",
      "dtypes: object(2)\n",
      "memory usage: 2.0+ KB\n"
     ]
    }
   ],
   "source": [
    "df.info()"
   ]
  },
  {
   "cell_type": "markdown",
   "metadata": {},
   "source": [
    "Drop rows with nan-values"
   ]
  },
  {
   "cell_type": "code",
   "execution_count": 9,
   "metadata": {},
   "outputs": [
    {
     "data": {
      "text/html": [
       "<div>\n",
       "<style scoped>\n",
       "    .dataframe tbody tr th:only-of-type {\n",
       "        vertical-align: middle;\n",
       "    }\n",
       "\n",
       "    .dataframe tbody tr th {\n",
       "        vertical-align: top;\n",
       "    }\n",
       "\n",
       "    .dataframe thead th {\n",
       "        text-align: right;\n",
       "    }\n",
       "</style>\n",
       "<table border=\"1\" class=\"dataframe\">\n",
       "  <thead>\n",
       "    <tr style=\"text-align: right;\">\n",
       "      <th></th>\n",
       "      <th>Distrito/Dirección</th>\n",
       "      <th>Superficie (m2)</th>\n",
       "    </tr>\n",
       "  </thead>\n",
       "  <tbody>\n",
       "    <tr>\n",
       "      <td>0</td>\n",
       "      <td>Áreas para perros en el distrito de Ciutat Vella</td>\n",
       "      <td>None</td>\n",
       "    </tr>\n",
       "    <tr>\n",
       "      <td>1</td>\n",
       "      <td>Parc de la Ciutadella</td>\n",
       "      <td>287 m2</td>\n",
       "    </tr>\n",
       "    <tr>\n",
       "      <td>2</td>\n",
       "      <td>Parc de la Barceloneta</td>\n",
       "      <td>451 m2</td>\n",
       "    </tr>\n",
       "    <tr>\n",
       "      <td>3</td>\n",
       "      <td>Jardins de Sant Pau del Camp</td>\n",
       "      <td>227 m2</td>\n",
       "    </tr>\n",
       "    <tr>\n",
       "      <td>4</td>\n",
       "      <td>Áreas para perros en el distrito de l’Eixample\\n</td>\n",
       "      <td>None</td>\n",
       "    </tr>\n",
       "  </tbody>\n",
       "</table>\n",
       "</div>"
      ],
      "text/plain": [
       "0                                Distrito/Dirección Superficie (m2)\n",
       "0  Áreas para perros en el distrito de Ciutat Vella  None          \n",
       "1  Parc de la Ciutadella                             287 m2        \n",
       "2  Parc de la Barceloneta                            451 m2        \n",
       "3  Jardins de Sant Pau del Camp                      227 m2        \n",
       "4  Áreas para perros en el distrito de l’Eixample\\n  None          "
      ]
     },
     "execution_count": 9,
     "metadata": {},
     "output_type": "execute_result"
    }
   ],
   "source": [
    "df.replace('', np.nan, inplace=True)\n",
    "df.dropna(how='all', inplace=True)\n",
    "df.reset_index(drop=True, inplace=True)\n",
    "df.head()"
   ]
  },
  {
   "cell_type": "code",
   "execution_count": 10,
   "metadata": {},
   "outputs": [
    {
     "data": {
      "text/html": [
       "<div>\n",
       "<style scoped>\n",
       "    .dataframe tbody tr th:only-of-type {\n",
       "        vertical-align: middle;\n",
       "    }\n",
       "\n",
       "    .dataframe tbody tr th {\n",
       "        vertical-align: top;\n",
       "    }\n",
       "\n",
       "    .dataframe thead th {\n",
       "        text-align: right;\n",
       "    }\n",
       "</style>\n",
       "<table border=\"1\" class=\"dataframe\">\n",
       "  <thead>\n",
       "    <tr style=\"text-align: right;\">\n",
       "      <th></th>\n",
       "      <th>Distrito/Dirección</th>\n",
       "      <th>Superficie (m2)</th>\n",
       "    </tr>\n",
       "  </thead>\n",
       "  <tbody>\n",
       "    <tr>\n",
       "      <td>110</td>\n",
       "      <td>Jardins Mercè Rodoreda</td>\n",
       "      <td>88 m2</td>\n",
       "    </tr>\n",
       "    <tr>\n",
       "      <td>111</td>\n",
       "      <td>Turó Parc</td>\n",
       "      <td>123 m2</td>\n",
       "    </tr>\n",
       "    <tr>\n",
       "      <td>112</td>\n",
       "      <td>Jardins Doctor Samuel C. Hahnemann</td>\n",
       "      <td>283 m2</td>\n",
       "    </tr>\n",
       "    <tr>\n",
       "      <td>113</td>\n",
       "      <td>Pl. Ventura i Gassol</td>\n",
       "      <td>118 m2</td>\n",
       "    </tr>\n",
       "    <tr>\n",
       "      <td>114</td>\n",
       "      <td>Jardins Casa Sagnier\\nJardins de Vil·la Amèlia\\nJardins de Piscines i Esports</td>\n",
       "      <td>NaN</td>\n",
       "    </tr>\n",
       "  </tbody>\n",
       "</table>\n",
       "</div>"
      ],
      "text/plain": [
       "0                                                               Distrito/Dirección Superficie (m2)\n",
       "110  Jardins Mercè Rodoreda                                                         88 m2         \n",
       "111  Turó Parc                                                                      123 m2        \n",
       "112  Jardins Doctor Samuel C. Hahnemann                                             283 m2        \n",
       "113  Pl. Ventura i Gassol                                                           118 m2        \n",
       "114  Jardins Casa Sagnier\\nJardins de Vil·la Amèlia\\nJardins de Piscines i Esports  NaN           "
      ]
     },
     "execution_count": 10,
     "metadata": {},
     "output_type": "execute_result"
    }
   ],
   "source": [
    "df.tail()"
   ]
  },
  {
   "cell_type": "code",
   "execution_count": 11,
   "metadata": {},
   "outputs": [
    {
     "data": {
      "text/plain": [
       "115"
      ]
     },
     "execution_count": 11,
     "metadata": {},
     "output_type": "execute_result"
    }
   ],
   "source": [
    "df.shape[0]"
   ]
  },
  {
   "cell_type": "markdown",
   "metadata": {},
   "source": [
    "## 4.1 Formatting DF"
   ]
  },
  {
   "cell_type": "markdown",
   "metadata": {},
   "source": [
    "### Column 'Distrito/Dirección'"
   ]
  },
  {
   "cell_type": "markdown",
   "metadata": {},
   "source": [
    "Create a new column **Distritos**"
   ]
  },
  {
   "cell_type": "code",
   "execution_count": 12,
   "metadata": {},
   "outputs": [
    {
     "data": {
      "text/html": [
       "<div>\n",
       "<style scoped>\n",
       "    .dataframe tbody tr th:only-of-type {\n",
       "        vertical-align: middle;\n",
       "    }\n",
       "\n",
       "    .dataframe tbody tr th {\n",
       "        vertical-align: top;\n",
       "    }\n",
       "\n",
       "    .dataframe thead th {\n",
       "        text-align: right;\n",
       "    }\n",
       "</style>\n",
       "<table border=\"1\" class=\"dataframe\">\n",
       "  <thead>\n",
       "    <tr style=\"text-align: right;\">\n",
       "      <th></th>\n",
       "      <th>Distrito/Dirección</th>\n",
       "      <th>Superficie (m2)</th>\n",
       "    </tr>\n",
       "  </thead>\n",
       "  <tbody>\n",
       "    <tr>\n",
       "      <td>0</td>\n",
       "      <td>Áreas para perros en el distrito de Ciutat Vella</td>\n",
       "      <td>None</td>\n",
       "    </tr>\n",
       "    <tr>\n",
       "      <td>4</td>\n",
       "      <td>Áreas para perros en el distrito de l’Eixample\\n</td>\n",
       "      <td>None</td>\n",
       "    </tr>\n",
       "    <tr>\n",
       "      <td>16</td>\n",
       "      <td>Áreas para perros en el distrito de Gràcia</td>\n",
       "      <td>None</td>\n",
       "    </tr>\n",
       "    <tr>\n",
       "      <td>28</td>\n",
       "      <td>Áreas para perros en el distrito de Horta-Guinardó</td>\n",
       "      <td>None</td>\n",
       "    </tr>\n",
       "    <tr>\n",
       "      <td>39</td>\n",
       "      <td>Áreas para perros en el distrito de Les Corts</td>\n",
       "      <td>None</td>\n",
       "    </tr>\n",
       "    <tr>\n",
       "      <td>49</td>\n",
       "      <td>Áreas para perros en el distrito de Nou Barris</td>\n",
       "      <td>None</td>\n",
       "    </tr>\n",
       "    <tr>\n",
       "      <td>57</td>\n",
       "      <td>Áreas para perros en el distrito de Sant Andreu</td>\n",
       "      <td>None</td>\n",
       "    </tr>\n",
       "    <tr>\n",
       "      <td>71</td>\n",
       "      <td>Áreas para perros en el distrito de Sant Martí</td>\n",
       "      <td>None</td>\n",
       "    </tr>\n",
       "    <tr>\n",
       "      <td>86</td>\n",
       "      <td>Áreas para perros en el distrito de Sants-Montjuïc</td>\n",
       "      <td>None</td>\n",
       "    </tr>\n",
       "    <tr>\n",
       "      <td>99</td>\n",
       "      <td>Áreas para perros en el distrito de Sarrià-Sant Gervasi</td>\n",
       "      <td>None</td>\n",
       "    </tr>\n",
       "  </tbody>\n",
       "</table>\n",
       "</div>"
      ],
      "text/plain": [
       "0                                        Distrito/Dirección Superficie (m2)\n",
       "0   Áreas para perros en el distrito de Ciutat Vella         None          \n",
       "4   Áreas para perros en el distrito de l’Eixample\\n         None          \n",
       "16  Áreas para perros en el distrito de Gràcia               None          \n",
       "28  Áreas para perros en el distrito de Horta-Guinardó       None          \n",
       "39  Áreas para perros en el distrito de Les Corts            None          \n",
       "49  Áreas para perros en el distrito de Nou Barris           None          \n",
       "57  Áreas para perros en el distrito de Sant Andreu          None          \n",
       "71  Áreas para perros en el distrito de Sant Martí           None          \n",
       "86  Áreas para perros en el distrito de Sants-Montjuïc       None          \n",
       "99  Áreas para perros en el distrito de Sarrià-Sant Gervasi  None          "
      ]
     },
     "execution_count": 12,
     "metadata": {},
     "output_type": "execute_result"
    }
   ],
   "source": [
    "df_aux=df[df['Distrito/Dirección'].str.contains('Áreas para perros en el distrito de')]\n",
    "df_aux"
   ]
  },
  {
   "cell_type": "markdown",
   "metadata": {},
   "source": [
    "Extracting the Districts and their indexes"
   ]
  },
  {
   "cell_type": "code",
   "execution_count": 13,
   "metadata": {},
   "outputs": [
    {
     "name": "stderr",
     "output_type": "stream",
     "text": [
      "D:\\ANACONDA\\lib\\site-packages\\ipykernel_launcher.py:2: SettingWithCopyWarning: \n",
      "A value is trying to be set on a copy of a slice from a DataFrame.\n",
      "Try using .loc[row_indexer,col_indexer] = value instead\n",
      "\n",
      "See the caveats in the documentation: http://pandas.pydata.org/pandas-docs/stable/user_guide/indexing.html#returning-a-view-versus-a-copy\n",
      "  \n"
     ]
    },
    {
     "data": {
      "text/plain": [
       "0     Ciutat Vella       \n",
       "4     l’Eixample         \n",
       "16    Gràcia             \n",
       "28    Horta-Guinardó     \n",
       "39    Les Corts          \n",
       "49    Nou Barris         \n",
       "57    Sant Andreu        \n",
       "71    Sant Martí         \n",
       "86    Sants-Montjuïc     \n",
       "99    Sarrià-Sant Gervasi\n",
       "Name: Lista Distritos, dtype: object"
      ]
     },
     "execution_count": 13,
     "metadata": {},
     "output_type": "execute_result"
    }
   ],
   "source": [
    "# df['Distrito']=[re.sub(r'[\\n]','',str(x)) for x in df['Distrito/Dirección']]\n",
    "df_aux['Lista Distritos']=[re.sub(r'[\\W\\w]*de ','',str(x.strip('\\n'))) for x in df_aux['Distrito/Dirección']]\n",
    "df_aux['Lista Distritos']"
   ]
  },
  {
   "cell_type": "markdown",
   "metadata": {},
   "source": [
    "Creating a list of Districts"
   ]
  },
  {
   "cell_type": "code",
   "execution_count": 14,
   "metadata": {},
   "outputs": [],
   "source": [
    "district_list=df_aux['Lista Distritos'].tolist()\n",
    "# district_list"
   ]
  },
  {
   "cell_type": "markdown",
   "metadata": {},
   "source": [
    "Creating a new column dog_parks['Distritos']"
   ]
  },
  {
   "cell_type": "code",
   "execution_count": 15,
   "metadata": {},
   "outputs": [],
   "source": [
    "for i, _ in df.iterrows():\n",
    "    for j in range(len(district_list)):\n",
    "\n",
    "        if i<4:\n",
    "            df.loc[i,'Distritos'] = district_list[0]\n",
    "        elif i>=4 and i<16:\n",
    "            df.loc[i,'Distritos'] = district_list[1]\n",
    "        elif i>=16 and i<28:\n",
    "            df.loc[i,'Distritos'] = district_list[2]\n",
    "        elif i>=28 and i<39:\n",
    "            df.loc[i,'Distritos'] = district_list[3]\n",
    "        elif i>=39 and i<49:\n",
    "            df.loc[i,'Distritos'] = district_list[4]\n",
    "        elif i>=49 and i<57:\n",
    "            df.loc[i,'Distritos'] = district_list[5]\n",
    "        elif i>=57 and i<71:\n",
    "            df.loc[i,'Distritos'] = district_list[6]\n",
    "        elif i>=71 and i<86:\n",
    "            df.loc[i,'Distritos'] = district_list[7]\n",
    "        elif i>=86 and i<99:\n",
    "            df.loc[i,'Distritos'] = district_list[8]\n",
    "        else:\n",
    "            df.loc[i,'Distritos'] = district_list[9]"
   ]
  },
  {
   "cell_type": "markdown",
   "metadata": {},
   "source": [
    "### Re-ordering columns and changing names"
   ]
  },
  {
   "cell_type": "code",
   "execution_count": 16,
   "metadata": {},
   "outputs": [
    {
     "data": {
      "text/html": [
       "<div>\n",
       "<style scoped>\n",
       "    .dataframe tbody tr th:only-of-type {\n",
       "        vertical-align: middle;\n",
       "    }\n",
       "\n",
       "    .dataframe tbody tr th {\n",
       "        vertical-align: top;\n",
       "    }\n",
       "\n",
       "    .dataframe thead th {\n",
       "        text-align: right;\n",
       "    }\n",
       "</style>\n",
       "<table border=\"1\" class=\"dataframe\">\n",
       "  <thead>\n",
       "    <tr style=\"text-align: right;\">\n",
       "      <th></th>\n",
       "      <th>Distrito/Dirección</th>\n",
       "      <th>Superficie (m2)</th>\n",
       "      <th>Distritos</th>\n",
       "    </tr>\n",
       "  </thead>\n",
       "  <tbody>\n",
       "    <tr>\n",
       "      <td>0</td>\n",
       "      <td>Áreas para perros en el distrito de Ciutat Vella</td>\n",
       "      <td>None</td>\n",
       "      <td>Ciutat Vella</td>\n",
       "    </tr>\n",
       "    <tr>\n",
       "      <td>1</td>\n",
       "      <td>Parc de la Ciutadella</td>\n",
       "      <td>287 m2</td>\n",
       "      <td>Ciutat Vella</td>\n",
       "    </tr>\n",
       "    <tr>\n",
       "      <td>2</td>\n",
       "      <td>Parc de la Barceloneta</td>\n",
       "      <td>451 m2</td>\n",
       "      <td>Ciutat Vella</td>\n",
       "    </tr>\n",
       "    <tr>\n",
       "      <td>3</td>\n",
       "      <td>Jardins de Sant Pau del Camp</td>\n",
       "      <td>227 m2</td>\n",
       "      <td>Ciutat Vella</td>\n",
       "    </tr>\n",
       "    <tr>\n",
       "      <td>4</td>\n",
       "      <td>Áreas para perros en el distrito de l’Eixample\\n</td>\n",
       "      <td>None</td>\n",
       "      <td>l’Eixample</td>\n",
       "    </tr>\n",
       "  </tbody>\n",
       "</table>\n",
       "</div>"
      ],
      "text/plain": [
       "0                                Distrito/Dirección Superficie (m2)     Distritos\n",
       "0  Áreas para perros en el distrito de Ciutat Vella  None            Ciutat Vella\n",
       "1  Parc de la Ciutadella                             287 m2          Ciutat Vella\n",
       "2  Parc de la Barceloneta                            451 m2          Ciutat Vella\n",
       "3  Jardins de Sant Pau del Camp                      227 m2          Ciutat Vella\n",
       "4  Áreas para perros en el distrito de l’Eixample\\n  None            l’Eixample  "
      ]
     },
     "execution_count": 16,
     "metadata": {},
     "output_type": "execute_result"
    }
   ],
   "source": [
    "df.head()"
   ]
  },
  {
   "cell_type": "markdown",
   "metadata": {},
   "source": [
    "Eliminating the name of the Areas"
   ]
  },
  {
   "cell_type": "code",
   "execution_count": 17,
   "metadata": {},
   "outputs": [],
   "source": [
    "df1=df[~df['Distrito/Dirección'].isin(df_aux['Distrito/Dirección'])]"
   ]
  },
  {
   "cell_type": "code",
   "execution_count": 18,
   "metadata": {},
   "outputs": [],
   "source": [
    "df1=df1[['Distritos','Distrito/Dirección','Superficie (m2)']]"
   ]
  },
  {
   "cell_type": "code",
   "execution_count": 19,
   "metadata": {},
   "outputs": [],
   "source": [
    "df1.rename(columns = {'Distrito/Dirección':'Dirección'}, inplace = True)\n",
    "df1.reset_index(drop=True, inplace=True)"
   ]
  },
  {
   "cell_type": "code",
   "execution_count": 20,
   "metadata": {},
   "outputs": [
    {
     "data": {
      "text/plain": [
       "(105, 3)"
      ]
     },
     "execution_count": 20,
     "metadata": {},
     "output_type": "execute_result"
    }
   ],
   "source": [
    "df1.shape"
   ]
  },
  {
   "cell_type": "code",
   "execution_count": 21,
   "metadata": {},
   "outputs": [],
   "source": [
    "# df1.head()"
   ]
  },
  {
   "cell_type": "code",
   "execution_count": 22,
   "metadata": {},
   "outputs": [],
   "source": [
    "# df1.tail()"
   ]
  },
  {
   "cell_type": "markdown",
   "metadata": {},
   "source": [
    "### Column 'Superficie'"
   ]
  },
  {
   "cell_type": "markdown",
   "metadata": {},
   "source": [
    "Formatting text"
   ]
  },
  {
   "cell_type": "code",
   "execution_count": 23,
   "metadata": {},
   "outputs": [],
   "source": [
    "# df1"
   ]
  },
  {
   "cell_type": "code",
   "execution_count": 24,
   "metadata": {},
   "outputs": [],
   "source": [
    "df1['Superficie (m2)']=df1['Superficie (m2)'].fillna('-').str.replace('m2','')\n",
    "# df1.tail()"
   ]
  },
  {
   "cell_type": "markdown",
   "metadata": {},
   "source": [
    "## 5. Export final DF"
   ]
  },
  {
   "cell_type": "code",
   "execution_count": 26,
   "metadata": {},
   "outputs": [],
   "source": [
    "df1.to_csv('../data/'+'dogs_parks.csv', sep=\",\", index=False)"
   ]
  },
  {
   "cell_type": "code",
   "execution_count": null,
   "metadata": {},
   "outputs": [],
   "source": [
    "# Share data between Jupyter Notebooks\n",
    "%dogs_parks"
   ]
  }
 ],
 "metadata": {
  "kernelspec": {
   "display_name": "Python 3",
   "language": "python",
   "name": "python3"
  },
  "language_info": {
   "codemirror_mode": {
    "name": "ipython",
    "version": 3
   },
   "file_extension": ".py",
   "mimetype": "text/x-python",
   "name": "python",
   "nbconvert_exporter": "python",
   "pygments_lexer": "ipython3",
   "version": "3.7.4"
  }
 },
 "nbformat": 4,
 "nbformat_minor": 4
}
